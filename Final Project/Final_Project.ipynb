{
 "cells": [
  {
   "cell_type": "code",
   "execution_count": 459,
   "id": "f343511d",
   "metadata": {},
   "outputs": [],
   "source": [
    "# imports for the rest of the assignment\n",
    "import numpy as np\n",
    "import random\n",
    "import matplotlib.pyplot as plt\n",
    "from tqdm import tqdm\n",
    "\n",
    "import torch\n",
    "from torch import nn\n",
    "from torch.autograd import backward, Variable\n",
    "import torch.optim as optim"
   ]
  },
  {
   "cell_type": "markdown",
   "id": "2bed4061",
   "metadata": {},
   "source": [
    "## Loading Files"
   ]
  },
  {
   "cell_type": "code",
   "execution_count": 412,
   "id": "80255987",
   "metadata": {},
   "outputs": [
    {
     "name": "stdout",
     "output_type": "stream",
     "text": [
      "32 32\n"
     ]
    }
   ],
   "source": [
    "# File names\n",
    "map_1_file = \"./data/map_1.dat\"\n",
    "map_2_file = \"./data/map_2.dat\"\n",
    "map_3_file = \"./data/map_3.dat\"\n",
    "map_4_file = \"./data/map_4.dat\"\n",
    "\n",
    "enemies_1_file = \"./data/enemies_1.dat\"\n",
    "enemies_2_file = \"./data/enemies_2.dat\"\n",
    "enemies_3_file = \"./data/enemies_3.dat\"\n",
    "\n",
    "# parse the map files\n",
    "maps = []\n",
    "for map_file in [map_1_file, map_2_file, map_3_file, map_4_file]:\n",
    "    map_data = []\n",
    "    with open(map_file, 'r') as file:\n",
    "        for line in file:\n",
    "            map_data.append(list(map(int, line.split())))\n",
    "    maps.append(map_data)\n",
    "\n",
    "# parse all the enemies and 0-index them\n",
    "enemies = []\n",
    "for enemies_file in [enemies_1_file, enemies_2_file, enemies_3_file]:\n",
    "    enemies_data = []\n",
    "    with open(enemies_file, 'r') as file:\n",
    "        for line in file:\n",
    "            ey, ex, et = list(map(int, line.split()))\n",
    "            enemies_data.append([ey - 1, ex - 1, et])\n",
    "            \n",
    "    enemies.append(enemies_data)\n",
    "print(len(maps[0]), len(maps[0][0]))\n",
    "      \n",
    "      "
   ]
  },
  {
   "cell_type": "code",
   "execution_count": 17,
   "id": "0b1ebfdc",
   "metadata": {},
   "outputs": [],
   "source": [
    "# Algorithm used in weekly task 7 to find intersecting positions\n",
    "# when moving from one grid position to the next\n",
    "def find_intersects(i, j, ni, nj):\n",
    "    deltai = abs(ni - i)\n",
    "    deltaj = abs(nj - j)\n",
    "    n = deltai + deltaj + 1\n",
    "    di = 1 if ni > i else -1\n",
    "    dj = 1 if nj > j else -1\n",
    "    epsilon = deltai - deltaj\n",
    "    deltai = 2 * deltai\n",
    "    deltaj = 2 * deltaj\n",
    "    \n",
    "    tiles = []\n",
    "    #find interesects\n",
    "    while n > 0:\n",
    "        tiles.append((i, j))\n",
    "        # The difference in x direction is greater than y\n",
    "        if epsilon > 0:\n",
    "            i += di\n",
    "            epsilon -= deltaj\n",
    "            n -= 1\n",
    "        # y difference greater than x\n",
    "        elif epsilon < 0:\n",
    "            j += dj\n",
    "            epsilon += deltai\n",
    "            n -= 1\n",
    "        # equal difference in x and y\n",
    "        elif epsilon == 0:\n",
    "            i += di\n",
    "            j += dj\n",
    "            epsilon += deltai - deltaj\n",
    "            n -= 2\n",
    "        \n",
    "    return tiles\n"
   ]
  },
  {
   "cell_type": "code",
   "execution_count": 18,
   "id": "077f66fa",
   "metadata": {},
   "outputs": [],
   "source": [
    "def next_state(x, y, action, level):\n",
    "    energy = 0\n",
    "    # jump\n",
    "    if action == 1:\n",
    "        # if footing is air\n",
    "        if level[y+1][x] == 1:\n",
    "            y += 1\n",
    "            # if still air under\n",
    "            if level[y+1][x] == 1:\n",
    "                y += 1\n",
    "            \n",
    "        # if footing is solid\n",
    "        else:\n",
    "            # if not solid above\n",
    "            if level[y-1][x] != 2:\n",
    "                y -= 1\n",
    "                # if still not solid above\n",
    "                if level[y-1][x] != 2:\n",
    "                    y -= 1\n",
    "            \n",
    "            energy = -5\n",
    "            \n",
    "    # go left if not solid\n",
    "    elif action == 0:\n",
    "        energy = -1\n",
    "        if level[y][x-1] != 2:\n",
    "            x -= 1\n",
    "        # if footing is air\n",
    "        if level[y+1][x] == 1:\n",
    "            y += 1\n",
    "            # if footing still air move again and fall\n",
    "            if level[y+1][x] == 1:\n",
    "                if level[y][x-1] != 2:\n",
    "                    x -= 1\n",
    "                if level[y+1][x] == 1:\n",
    "                    y += 1\n",
    "    \n",
    "    # go right if not solid\n",
    "    elif action == 2:\n",
    "        energy = -1\n",
    "        if level[y][x+1] != 2:\n",
    "            x += 1\n",
    "        # if footing is air\n",
    "        if level[y+1][x] == 1:\n",
    "            y += 1\n",
    "            # if footing still air move again and fall\n",
    "            if level[y+1][x] == 1:\n",
    "                if level[y][x+1] != 2:\n",
    "                    x += 1\n",
    "                if level[y+1][x] == 1:\n",
    "                    y += 1\n",
    "    \n",
    "    return ((x, y), energy)\n",
    "            "
   ]
  },
  {
   "cell_type": "markdown",
   "id": "d22d2675",
   "metadata": {},
   "source": [
    "# Task 1\n",
    "\n",
    "## Problem Statement\n",
    "Hubert has been banished to the depths of the headquarters and must now perform the terrible duty that one can find in the entire company, which is the one of helping the accountants go over the their accounting, every single day.\n",
    "\n",
    "There is a total of 7 different accountants who each has their own office in the basement, and they are all tasked with septuple checking the bookkeeping every single day. Now Hubert has been tasked with assisting one of them every single day, but he has been given the choice of who he wants to support. Hubert is destined to diligently do his task for the next 30 years, which equates to a total of 10950 days (Hubert might deserve a vacation every leap day).\n",
    "\n",
    "Hubert, of course, wants to spend the least amount of time every day working, because he can't stand finances and working with Excel. Luckily for him, not all accountants are created equally, and some get their work done faster than others. Each accountant has a mean value for how long they take to finish a day's work. In addition to this they also have a standard deviation, as some days they are more efficient than others. How long a workday takes is determined randomly by a normal (Gaussian) distribusion given these values.\n",
    "\n",
    "| Accountant | µ ± σ   | \n",
    "| ---------- | ------- |\n",
    "| Antonioni  | 9 ± 4   |\n",
    "| Bambi      | 12 ± 1  |\n",
    "| Cocteau    | 15 ± 5  |\n",
    "| Dante      | 7 ± 2   |\n",
    "| Eren       | 10 ± 0  |\n",
    "| Faust      | 8 ± 3   |\n",
    "| Godot      | 13 ± 4  | \n",
    "\n",
    "Sadly, we also know that Fredriksen will never be satisified with the company's earnings, no matter how well the accounts say things are going. Therefore, in an attempt to impress investors, he will end up firing a random accountant after every fiscal year (365) days, and replace them with someone completely new. The new hire also has a mean time to finish their work, which is in the range of 6-16 as well as a standard deviation in the range of 0-5 (both randomly drawn from a uniform distribution).\n",
    "\n",
    "\n",
    "However, due to the lack of lighting (to save costs) in the basement; Hubert is not able to perceive the accountants' faces and will therefore not be notice if any of them are replaced by looking at them. The only reason they get any work done is because of the glow-in-the-dark papers and light from the PC-screens.\n",
    "\n",
    "Given this situation, help Hubert minimize of the amount of time he has to work by picking accountants to help that take less time to perform the work.\n"
   ]
  },
  {
   "cell_type": "code",
   "execution_count": 782,
   "id": "48091794",
   "metadata": {},
   "outputs": [],
   "source": [
    "def new_accountant():\n",
    "    mu = np.random.uniform(6, 17)\n",
    "    sigma = np.random.uniform(0, 5)\n",
    "    return (mu, sigma)\n",
    "\n",
    "def calc_hours(mu, sigma):\n",
    "    hours = np.random.normal(mu, sigma)\n",
    "    return hours\n",
    "\n",
    "def bandit_e_greedy(Q, options, epsilon=0.1):\n",
    "    if random.random() < epsilon:\n",
    "        return random.randrange(options)\n",
    "    return Q.index(min(Q))\n",
    "\n",
    "def multi_armed_bandit(accountants, iterations=10950, epsilon=0.1, q_1=0, turnover=365):\n",
    "    Q = [q_1 for _ in range(len(accountants))]\n",
    "    N = [0 for _ in range(len(accountants))]\n",
    "    avg_hours = []\n",
    "    total_hours = 0\n",
    "    for i in range(1, iterations + 1):\n",
    "        \n",
    "        if i % turnover == 0:\n",
    "            replaced = random.randrange(len(accountants))\n",
    "            accountants[replaced] = new_accountant()\n",
    "            \n",
    "        \n",
    "        A = bandit_e_greedy(Q, len(accountants), epsilon)\n",
    "        N[A] += 1\n",
    "        mu, sigma = accountants[A]\n",
    "        R = calc_hours(mu, sigma)\n",
    "        Q[A] = Q[A] + 0.1 * (R - Q[A])\n",
    "        \n",
    "        if i == 1:\n",
    "            avg_hours.append(R)\n",
    "        else:\n",
    "            avg_hours.append((avg_hours[-1] * (i - 1) + R) / i)\n",
    "        \n",
    "        total_hours += R\n",
    "    \n",
    "    return avg_hours, total_hours\n",
    "            "
   ]
  },
  {
   "cell_type": "code",
   "execution_count": 786,
   "id": "c8020adb",
   "metadata": {},
   "outputs": [
    {
     "data": {
      "image/png": "[encoded data removed]",
      "text/plain": [
       "<Figure size 432x288 with 1 Axes>"
      ]
     },
     "metadata": {
      "needs_background": "light"
     },
     "output_type": "display_data"
    },
    {
     "data": {
      "image/png": "[encoded data removed]",
      "text/plain": [
       "<Figure size 432x288 with 1 Axes>"
      ]
     },
     "metadata": {
      "needs_background": "light"
     },
     "output_type": "display_data"
    }
   ],
   "source": [
    "accountants = [(9, 4),\n",
    "              (12, 1),\n",
    "              (15, 5),\n",
    "              (7, 2),\n",
    "              (10, 0),\n",
    "              (8, 3),\n",
    "              (13, 4)]\n",
    "\n",
    "# Driver code for plotting\n",
    "def plot_epsilons(accountants, iterations, epsilons, bandit=multi_armed_bandit, episodes=300, colors=['r', 'g', 'b', 'c', 'm', 'y']):\n",
    "    all_avg_hours = [0] * len(epsilons)\n",
    "    total_hours_by_e = []\n",
    "    for i, e in enumerate(epsilons):\n",
    "        avg_epsilon_hours = []\n",
    "        total_epsilon_hours = []\n",
    "        for _ in range(episodes):\n",
    "            avg_e, total_e =  bandit(accountants, iterations, e)\n",
    "            avg_epsilon_hours.append(np.array(avg_e))\n",
    "            total_epsilon_hours.append(total_e)\n",
    "        \n",
    "        # Average over all the episodes\n",
    "        for avg_e_hour in avg_epsilon_hours:\n",
    "            all_avg_hours[i] += avg_e_hour\n",
    "        all_avg_hours[i] /= episodes\n",
    "        total_hours_by_e.append(sum(total_epsilon_hours) / episodes)\n",
    "    \n",
    "    for i, avg_hour in enumerate(all_avg_hours):\n",
    "        plt.plot(avg_hour, color=colors[i], label=str(epsilons[i]))\n",
    "    plt.xlabel(\"Iterations\")\n",
    "    plt.ylabel(\"Average Hours\")\n",
    "    plt.legend()\n",
    "    plt.show()\n",
    "        \n",
    "    plt.plot(epsilons, total_hours_by_e)\n",
    "    plt.xlabel(\"Epsilon Value\")\n",
    "    plt.ylabel(\"Expected Total Hours\")\n",
    "    plt.show()\n",
    "    \n",
    "    return all_avg_hours, total_hours_by_e\n",
    "            \n",
    "iterations = 10950\n",
    "epsilons = [0, 0.01, 0.1, 0.25, 0.5, 1]\n",
    "avg_e, total_e = plot_epsilons(accountants, iterations, epsilons)\n",
    "\n"
   ]
  },
  {
   "cell_type": "markdown",
   "id": "80fea06e",
   "metadata": {},
   "source": [
    "# Task 2\n",
    "\n",
    "Dynamic Programming using Iterative Policy Evaluation"
   ]
  },
  {
   "cell_type": "code",
   "execution_count": 31,
   "id": "68443007",
   "metadata": {},
   "outputs": [],
   "source": [
    "def level2(level, mms, pmm):\n",
    "    # value function height, width, action space\n",
    "    v_func = np.zeros((len(level), len(level[0])))\n",
    "    delta = 1\n",
    "    theta = 0.00000000001\n",
    "    \n",
    "    iterations = 0\n",
    "    \n",
    "    while(delta >= theta):\n",
    "        delta = 0.0\n",
    "        for row in range(len(level[0]) - 1, 0, -1):\n",
    "            for col in range(len(level) - 1):\n",
    "                if level[col][row] == 2:\n",
    "                    continue\n",
    "                    \n",
    "                # goal\n",
    "                if col == 1 and row == 30:\n",
    "                    continue\n",
    "                \n",
    "                v = v_func[col][row]\n",
    "                      \n",
    "                values = []\n",
    "                energies = []\n",
    "                \n",
    "                # find values and energy for all next states\n",
    "                for a in [0, 1, 2]:\n",
    "                    (nx, ny), e = next_state(row, col, a, level)\n",
    "                    values.append(v_func[ny, nx] + e)\n",
    "                    energies.append(e)\n",
    "                      \n",
    "                expected = max(values)\n",
    "                energy = energies[values.index(expected)]\n",
    "                \n",
    "                # check if an mm is at the position\n",
    "                for (my, mx, _) in mms:\n",
    "                    if col == my and row == mx:\n",
    "                        # update the value based on p of going back to start\n",
    "                        expected = (1 - pmm) * expected + pmm * (v_func[30, 1] + energy)\n",
    "                    \n",
    "                v_func[col, row] = expected\n",
    "                delta = max(delta, abs(v - v_func[col, row]))\n",
    "                \n",
    "        iterations += 1\n",
    "                      \n",
    "    return v_func, iterations"
   ]
  },
  {
   "cell_type": "code",
   "execution_count": 32,
   "id": "4b89a455",
   "metadata": {},
   "outputs": [],
   "source": [
    "def level2path(vf, level):\n",
    "    x, y = (1, 30)\n",
    "    path_x = [x]\n",
    "    path_y = [y]\n",
    "    \n",
    "    while not(x == 30 and y == 1):\n",
    "        states = []\n",
    "        values = []\n",
    "        for a in [0, 1, 2]:\n",
    "            (nx, ny), _ = next_state(x, y, a, level)\n",
    "            states.append((nx, ny))\n",
    "            values.append(vf[ny, nx])\n",
    "            \n",
    "        x, y = states[values.index(max(values))]\n",
    "        path_x.append(x)\n",
    "        path_y.append(y)\n",
    "    return path_x, path_y\n",
    "        "
   ]
  },
  {
   "cell_type": "code",
   "execution_count": 33,
   "id": "62a869f8",
   "metadata": {},
   "outputs": [
    {
     "data": {
      "image/png": "[encoded data removed]",
      "text/plain": [
       "<Figure size 432x288 with 1 Axes>"
      ]
     },
     "metadata": {
      "needs_background": "light"
     },
     "output_type": "display_data"
    },
    {
     "data": {
      "image/png": "[encoded data removed]",
      "text/plain": [
       "<Figure size 432x288 with 1 Axes>"
      ]
     },
     "metadata": {
      "needs_background": "light"
     },
     "output_type": "display_data"
    },
    {
     "name": "stdout",
     "output_type": "stream",
     "text": [
      "398\n"
     ]
    },
    {
     "data": {
      "image/png": "[encoded data removed]",
      "text/plain": [
       "<Figure size 432x288 with 1 Axes>"
      ]
     },
     "metadata": {
      "needs_background": "light"
     },
     "output_type": "display_data"
    },
    {
     "data": {
      "image/png": "[encoded data removed]",
      "text/plain": [
       "<Figure size 432x288 with 1 Axes>"
      ]
     },
     "metadata": {
      "needs_background": "light"
     },
     "output_type": "display_data"
    },
    {
     "name": "stdout",
     "output_type": "stream",
     "text": [
      "484\n"
     ]
    },
    {
     "data": {
      "image/png": "[encoded data removed]",
      "text/plain": [
       "<Figure size 432x288 with 1 Axes>"
      ]
     },
     "metadata": {
      "needs_background": "light"
     },
     "output_type": "display_data"
    },
    {
     "data": {
      "image/png": "[encoded data removed]",
      "text/plain": [
       "<Figure size 432x288 with 1 Axes>"
      ]
     },
     "metadata": {
      "needs_background": "light"
     },
     "output_type": "display_data"
    },
    {
     "name": "stdout",
     "output_type": "stream",
     "text": [
      "226\n"
     ]
    },
    {
     "data": {
      "image/png": "[encoded data removed]",
      "text/plain": [
       "<Figure size 432x288 with 1 Axes>"
      ]
     },
     "metadata": {
      "needs_background": "light"
     },
     "output_type": "display_data"
    },
    {
     "data": {
      "image/png": "[encoded data removed]",
      "text/plain": [
       "<Figure size 432x288 with 1 Axes>"
      ]
     },
     "metadata": {
      "needs_background": "light"
     },
     "output_type": "display_data"
    },
    {
     "name": "stdout",
     "output_type": "stream",
     "text": [
      "225\n"
     ]
    },
    {
     "data": {
      "image/png": "[encoded data removed]",
      "text/plain": [
       "<Figure size 432x288 with 1 Axes>"
      ]
     },
     "metadata": {
      "needs_background": "light"
     },
     "output_type": "display_data"
    },
    {
     "data": {
      "image/png": "[encoded data removed]",
      "text/plain": [
       "<Figure size 432x288 with 1 Axes>"
      ]
     },
     "metadata": {
      "needs_background": "light"
     },
     "output_type": "display_data"
    },
    {
     "name": "stdout",
     "output_type": "stream",
     "text": [
      "225\n"
     ]
    }
   ],
   "source": [
    "for pmm in [0.1, 0.2, 0.3, 0.5, 0.9]:\n",
    "    level2_vf, level2_iters = level2(maps[0], enemies[0], pmm)\n",
    "    path_x, path_y = level2path(level2_vf, maps[0])\n",
    "    plt.imshow(level2_vf)\n",
    "    plt.show()\n",
    "    plt.imshow(maps[0], cmap=\"gray\")\n",
    "    plt.plot(path_x, path_y)\n",
    "    plt.show()\n",
    "    print(level2_iters)"
   ]
  },
  {
   "cell_type": "markdown",
   "id": "d186bd76",
   "metadata": {},
   "source": [
    "# Task 3"
   ]
  },
  {
   "cell_type": "code",
   "execution_count": 501,
   "id": "13b52e90",
   "metadata": {},
   "outputs": [],
   "source": [
    "def init_mms(mms, level):\n",
    "    for i, (mmy, mmx) in enumerate(mms):\n",
    "        right = mmx\n",
    "        while(level[mmy][right+1] != 2 and level[mmy+1][right+1] != 1):\n",
    "            right += 1\n",
    "            \n",
    "        mms[i] = (mmy, random.randint(mmx, right))             \n",
    "    return mms    \n",
    "        "
   ]
  },
  {
   "cell_type": "code",
   "execution_count": 493,
   "id": "a79fc302",
   "metadata": {},
   "outputs": [],
   "source": [
    "def mms_next_state(mms, level):\n",
    "    new_mms = []\n",
    "    if not mms:\n",
    "        raise ValueError(\"The list of mms is empty\")\n",
    "    for mmy, mmx in mms:\n",
    "        options = []\n",
    "        if level[mmy][mmx-1] != 2 and level[mmy+1][mmx-1] != 1:\n",
    "            options.append(mmx-1)\n",
    "        if level[mmy][mmx+1] != 2 and level[mmy+1][mmx+1] != 1:\n",
    "            options.append(mmx+1)\n",
    "        \n",
    "        if not options:\n",
    "            new_mms.append((mmy, mmx))\n",
    "        else:\n",
    "            new_mms.append((mmy, np.random.choice(options)))\n",
    "    return new_mms\n"
   ]
  },
  {
   "cell_type": "code",
   "execution_count": 105,
   "id": "d89da3dd",
   "metadata": {},
   "outputs": [],
   "source": [
    "def select_dictionary_action(Q, s, epsilon=0.1):\n",
    "    # explorative move\n",
    "    if random.random() < epsilon:\n",
    "        return random.randrange(0, 3)\n",
    "    # exploitative move\n",
    "    max_value = max(Q[s])\n",
    "    options = [i for i, a in enumerate(Q[s]) if a == max_value]\n",
    "    return np.random.choice(options)\n"
   ]
  },
  {
   "cell_type": "code",
   "execution_count": 498,
   "id": "ca20e3aa",
   "metadata": {},
   "outputs": [],
   "source": [
    "# Sarsa for estimating Q approximately q\n",
    "def level3_TD(enemies, level=maps[1], episodes=20000, alpha=0.3, epsilon=0.1, max_steps=100000):\n",
    "    Q = {} # x, y, mm\n",
    "    \n",
    "    path_xs = []\n",
    "    path_ys = []\n",
    "    total_energy = 0\n",
    "    \n",
    "    mms = [(y, x) for y, x, _ in enemies]\n",
    "    \n",
    "    for e in tqdm(range(episodes)):\n",
    "        x, y = (1, 30) # S\n",
    "        mms = init_mms(mms, level) # x coordinate of mm\n",
    "        s = str(x) + \" \" + str(y)\n",
    "        Q[s] = [0.0, 0.0, 0.0]\n",
    "        a = select_dictionary_action(Q, s, epsilon) # A\n",
    "        \n",
    "        # for trajectory plotting\n",
    "        xs = []\n",
    "        ys = []\n",
    "        current_energy = 0\n",
    "        \n",
    "        # time steps\n",
    "        for _ in range(max_steps):\n",
    "            xs.append(x)\n",
    "            ys.append(y)\n",
    "            R = 0\n",
    "            \n",
    "            # Observe R, S'. S' described as = n+value (for new)\n",
    "            (nx, ny), energy = next_state(x, y, a, level)\n",
    "            nmms = mms_next_state(mms , level)\n",
    "            \n",
    "            # find path of hubert this timestep\n",
    "            intersections = find_intersects(x, y, nx, ny)\n",
    "            for (ix, iy) in intersections:\n",
    "                for mmy, mmx in mms:\n",
    "                    if ix == mmx and iy == mmy:\n",
    "                        nx, ny = (1, 30) # back to start\n",
    "                        break\n",
    "            \n",
    "            ns = str(nx) + \" \" + str(ny)\n",
    "            \n",
    "            if 16 < ny < 20:\n",
    "                ns += \" \" + str(mms[0][1])\n",
    "                \n",
    "            if not ns in Q:\n",
    "                Q[ns] = [0.0, 0.0, 0.0]\n",
    "            \n",
    "            # are we in the terminal state?\n",
    "            if nx == 30 and ny == 2:\n",
    "                xs.append(nx)\n",
    "                ys.append(ny)\n",
    "                # Only update when completed!\n",
    "                Q[s][a] = Q[s][a] + alpha * (R + Q[ns][na] - Q[s][a])\n",
    "                break\n",
    "            \n",
    "            R = energy\n",
    "            \n",
    "            # Choose action A'    \n",
    "            na = select_dictionary_action(Q, ns, epsilon)\n",
    "            \n",
    "            # Update X, S and A\n",
    "            Q[s][a] = Q[s][a] + alpha * (R + Q[ns][na] - Q[s][a])\n",
    "            x, y, mms, s, a = (nx, ny, nmms, ns, na)\n",
    "            current_energy -= R\n",
    "            \n",
    "        path_xs = xs\n",
    "        path_ys = ys\n",
    "        total_energy = current_energy\n",
    "    \n",
    "    return Q, path_xs, path_ys, total_energy"
   ]
  },
  {
   "cell_type": "code",
   "execution_count": 499,
   "id": "b2503159",
   "metadata": {},
   "outputs": [
    {
     "name": "stderr",
     "output_type": "stream",
     "text": [
      "100%|████████████████████████████████████| 50000/50000 [06:17<00:00, 132.49it/s]\n"
     ]
    }
   ],
   "source": [
    "level_3Q, level3_path_xs, level3_path_ys, level3_te = level3_TD(enemies[1], episodes=50000, epsilon=0)\n",
    "\n"
   ]
  },
  {
   "cell_type": "code",
   "execution_count": 500,
   "id": "a458bd01",
   "metadata": {},
   "outputs": [
    {
     "data": {
      "image/png": "[encoded data removed]",
      "text/plain": [
       "<Figure size 432x288 with 1 Axes>"
      ]
     },
     "metadata": {
      "needs_background": "light"
     },
     "output_type": "display_data"
    },
    {
     "name": "stdout",
     "output_type": "stream",
     "text": [
      "610\n"
     ]
    }
   ],
   "source": [
    "plt.imshow(maps[1], cmap=\"gray\")\n",
    "plt.plot(level3_path_xs, level3_path_ys)\n",
    "plt.show()\n",
    "print(level3_te)"
   ]
  },
  {
   "cell_type": "markdown",
   "id": "b295d6f7",
   "metadata": {},
   "source": [
    "# Level 4\n",
    "\n",
    "Dictionary State Space using only the local features of the window "
   ]
  },
  {
   "cell_type": "code",
   "execution_count": 7,
   "id": "5c4cae1b",
   "metadata": {},
   "outputs": [],
   "source": [
    "def fans_in_view(x, y, r, fans):\n",
    "    # fans in view\n",
    "    fans_in_view = \"\"\n",
    "    for dx in range(-r, r + 1):\n",
    "        for dy in range(-r, r + 1):\n",
    "            if dx == 0 and dy == 0:\n",
    "                continue\n",
    "            \n",
    "            for fx, fy in fans:\n",
    "                if x + dx == fx and y + dy == fy:\n",
    "                    fans_in_view += \" \" + str(dx) + \" \" + str(dy)\n",
    "                    \n",
    "    return fans_in_view.strip()"
   ]
  },
  {
   "cell_type": "code",
   "execution_count": 450,
   "id": "516fad69",
   "metadata": {},
   "outputs": [],
   "source": [
    "def fans_next_state(fans, x, y, level):\n",
    "    new_fans = []\n",
    "    if not fans:\n",
    "        raise ValueError(\"The list of fans is empty\")\n",
    "    for fy, fx in fans:\n",
    "        options = []\n",
    "        if y != fy:\n",
    "            if level[fy][fx-1] != 2 and level[fy+1][fx-1] != 1:\n",
    "                options.append(fx-1)\n",
    "            if level[fy][fx+1] != 2 and level[fy+1][fx+1] != 1:\n",
    "                options.append(fx+1)\n",
    "        else:\n",
    "            if x < fx:\n",
    "                if level[fy][fx-1] != 2 and level[fy+1][fx-1] != 1:\n",
    "                    options.append(fx-1)\n",
    "            else:\n",
    "                if level[fy][fx+1] != 2 and level[fy+1][fx+1] != 1:\n",
    "                    options.append(fx+1)\n",
    "        \n",
    "        if not options:\n",
    "            new_fans.append((fy, fx))\n",
    "        else:\n",
    "            new_fans.append((fy, np.random.choice(options)))\n",
    "    return new_fans"
   ]
  },
  {
   "cell_type": "code",
   "execution_count": 527,
   "id": "70abfb98",
   "metadata": {},
   "outputs": [],
   "source": [
    "# Sarsa for estimating Q approximately q\n",
    "def level4_TD(enemies, radius, episodes=20000, alpha=0.5, epsilon=0.1, level=maps[2], max_steps=100000):\n",
    "    Q = {} # x, y, fans\n",
    "    \n",
    "    path_xs = []\n",
    "    path_ys = []\n",
    "    total_energy = 0\n",
    "    \n",
    "    fans = [(y, x) for y, x, _ in enemies]\n",
    "    \n",
    "    for e in tqdm(range(episodes)):\n",
    "        x, y = (1, 30) # S\n",
    "        # fans\n",
    "        fans = init_mms(fans, maps[3])\n",
    "                \n",
    "        fans_seen = fans_in_view(x, y, radius, fans)\n",
    "        s = str(x) + \" \" + str(y) + \" \" + fans_seen\n",
    "        if not s in Q:\n",
    "            Q[s] = [0.0, 0.0, 0.0]\n",
    "            \n",
    "        a = select_dictionary_action(Q, s, epsilon) # A\n",
    "        \n",
    "        # for trajectory plotting\n",
    "        xs = []\n",
    "        ys = []\n",
    "        current_energy = 0\n",
    "        \n",
    "        # time steps\n",
    "        for _ in range(max_steps):\n",
    "            xs.append(x)\n",
    "            ys.append(y)\n",
    "            R = 0    \n",
    "            \n",
    "            # Observe R, S'. S' described as = n+value (for new)\n",
    "            (nx, ny), energy = next_state(x, y, a, level)\n",
    "            # new fan locations\n",
    "            nfans = fans_next_state(fans, nx, ny, level)\n",
    "            fans_seen = fans_in_view(x, y, radius, nfans)\n",
    "            ns = str(nx) + \" \" + str(ny) + str(fans_seen)\n",
    "            if not ns in Q:\n",
    "                Q[ns] = [0.0, 0.0, 0.0]\n",
    "            \n",
    "            # have they intersected?\n",
    "            # find path of hubert this timestep\n",
    "            intersections = find_intersects(x, y, nx, ny)\n",
    "            \n",
    "            for (ix, iy) in intersections:\n",
    "                for nfx, nfy in nfans:\n",
    "                    if ix == nfx and iy == nfy:\n",
    "                        R -=  np.random.uniform(20, 100)# back to start\n",
    "            \n",
    "            # are we in the terminal state?\n",
    "            if nx == 30 and ny == 1:\n",
    "                xs.append(nx)\n",
    "                ys.append(ny)\n",
    "                # Only update when completed!\n",
    "                Q[s][a] = Q[s][a] + alpha * (R + Q[ns][na] - Q[s][a])\n",
    "                break\n",
    "            \n",
    "            R = energy\n",
    "            \n",
    "            # Choose action A'    \n",
    "            na = select_dictionary_action(Q, ns, epsilon)\n",
    "            \n",
    "            # Update X, S and A\n",
    "            Q[s][a] = Q[s][a] + alpha * (R + Q[ns][na] - Q[s][a])\n",
    "            x, y, s, a, fans = (nx, ny, ns, na, nfans)\n",
    "            current_energy -= R\n",
    "            \n",
    "        path_xs = xs\n",
    "        path_ys = ys\n",
    "        total_energy = current_energy\n",
    "    \n",
    "    return Q, path_xs, path_ys, total_energy\n",
    "\n"
   ]
  },
  {
   "cell_type": "code",
   "execution_count": 528,
   "id": "9b3f7f01",
   "metadata": {},
   "outputs": [
    {
     "name": "stderr",
     "output_type": "stream",
     "text": [
      "100%|████████████████████████████████████| 20000/20000 [02:50<00:00, 117.20it/s]\n"
     ]
    }
   ],
   "source": [
    "level_4Q, level4_path_xs, level4_path_ys, te = level4_TD(enemies[2], 4, epsilon=0)\n"
   ]
  },
  {
   "cell_type": "code",
   "execution_count": 529,
   "id": "252451af",
   "metadata": {
    "scrolled": true
   },
   "outputs": [
    {
     "data": {
      "image/png": "[encoded data removed]",
      "text/plain": [
       "<Figure size 432x288 with 1 Axes>"
      ]
     },
     "metadata": {
      "needs_background": "light"
     },
     "output_type": "display_data"
    },
    {
     "name": "stdout",
     "output_type": "stream",
     "text": [
      "80 142\n"
     ]
    }
   ],
   "source": [
    "plt.imshow(maps[2], cmap=\"gray\")\n",
    "plt.plot(level4_path_xs, level4_path_ys)\n",
    "plt.show()\n",
    "print(len(level4_path_xs), te)"
   ]
  },
  {
   "cell_type": "markdown",
   "id": "628b4d8b",
   "metadata": {},
   "source": [
    "# Level 5\n",
    "\n",
    "Solve using both Q-learning tabularly and then solve using Function Approximation"
   ]
  },
  {
   "cell_type": "code",
   "execution_count": 167,
   "id": "bd60fade",
   "metadata": {},
   "outputs": [],
   "source": [
    "def level5_next_state(x, y, action, level):\n",
    "    energy = 0\n",
    "    # jump\n",
    "    if action == 1:\n",
    "        if level[y+1][x] == 1:\n",
    "            # if footing is air\n",
    "            if random.randrange(0, 3) == 0:\n",
    "                if level[y-1][x] != 2:\n",
    "                    y -= 1\n",
    "                energy = -3\n",
    "            else:\n",
    "                y += 1\n",
    "                # if still air under\n",
    "                if level[y+1][x] == 1:\n",
    "                    y += 1\n",
    "            \n",
    "        # if footing is solid\n",
    "        else:\n",
    "            # if not solid above\n",
    "            if level[y-1][x] != 2:\n",
    "                y -= 1\n",
    "                # if still not solid above\n",
    "                if level[y-1][x] != 2:\n",
    "                    y -= 1\n",
    "            \n",
    "            energy = -5\n",
    "            \n",
    "    # go left if not solid\n",
    "    elif action == 0:\n",
    "        energy = -1\n",
    "        if level[y][x-1] != 2:\n",
    "            x -= 1\n",
    "        # if footing is air\n",
    "        if level[y+1][x] == 1:\n",
    "            y += 1\n",
    "            # if footing still air move again and fall\n",
    "            if level[y+1][x] == 1:\n",
    "                if level[y][x-1] != 2:\n",
    "                    x -= 1\n",
    "                if level[y+1][x] == 1:\n",
    "                    y += 1\n",
    "    \n",
    "    # go right if not solid\n",
    "    elif action == 2:\n",
    "        energy = -1\n",
    "        if level[y][x+1] != 2:\n",
    "            x += 1\n",
    "        # if footing is air\n",
    "        if level[y+1][x] == 1:\n",
    "            y += 1\n",
    "            # if footing still air move again and fall\n",
    "            if level[y+1][x] == 1:\n",
    "                if level[y][x+1] != 2:\n",
    "                    x += 1\n",
    "                if level[y+1][x] == 1:\n",
    "                    y += 1\n",
    "    \n",
    "    return ((x, y), energy)"
   ]
  },
  {
   "cell_type": "code",
   "execution_count": 53,
   "id": "50691707",
   "metadata": {},
   "outputs": [],
   "source": [
    "def get_local_features(x, y, r, level):\n",
    "    features = []\n",
    "    for dy in range(-r, r + 1):\n",
    "        for dx in range(-r, r + 1):\n",
    "            features.append(level[y+dy][x+dx])\n",
    "    return features"
   ]
  },
  {
   "cell_type": "code",
   "execution_count": 55,
   "id": "aa8d9ee3",
   "metadata": {},
   "outputs": [],
   "source": [
    "def pad_level(l, r):\n",
    "    level = [[-1 for _ in range(len(l[0]) + 2 * r)] for _ in range(len(l) + 2 * r)]\n",
    "    for y in range(len(l)):\n",
    "        for x in range(len(l[0])):\n",
    "            level[y + r][x + r] = l[y][x]\n",
    "    \n",
    "    return level\n"
   ]
  },
  {
   "cell_type": "markdown",
   "id": "8c1d91f3",
   "metadata": {},
   "source": [
    "Solution using action-value function"
   ]
  },
  {
   "cell_type": "code",
   "execution_count": 370,
   "id": "8ecc0cc9",
   "metadata": {},
   "outputs": [],
   "source": [
    "# Sarsa for estimating Q approximately q\n",
    "def level5_TD(radius, level=maps[3], episodes=20000, alpha=0.3, epsilon=0.1, max_steps=100000):\n",
    "    Q = {} # local features\n",
    "    \n",
    "    path_xs = []\n",
    "    path_ys = []\n",
    "    best_xs = []\n",
    "    best_ys = []\n",
    "    best_energy = float(\"inf\")\n",
    "    final_energy = 0\n",
    "    \n",
    "    level = pad_level(level, radius)\n",
    "    \n",
    "    for e in tqdm(range(episodes)):\n",
    "        x, y = (1 + radius, 30 + radius) # S\n",
    "        s = \"-\".join(str(_) for _ in get_local_features(x, y, radius, level))\n",
    "        if not s in Q:\n",
    "            Q[s] = [0.0, 0.0, 0.0]\n",
    "            \n",
    "        a = select_dictionary_action(Q, s, epsilon) # A\n",
    "        \n",
    "        # for trajectory plotting\n",
    "        xs = []\n",
    "        ys = []\n",
    "        current_energy = 0\n",
    "        \n",
    "        # time steps\n",
    "        for _ in range(max_steps):\n",
    "            xs.append(x)\n",
    "            ys.append(y)\n",
    "            R = 0    \n",
    "            \n",
    "            # Observe R, S'. S' described as = n+value (for new)\n",
    "            (nx, ny), energy = level5_next_state(x, y, a, level)\n",
    "            ns = \"-\".join(str(_) for _ in get_local_features(nx, ny, radius, level))\n",
    "            if not ns in Q:\n",
    "                Q[ns] = [0.0, 0.0, 0.0]\n",
    "            \n",
    "            # are we in the terminal state?\n",
    "            if nx == 30 + radius and ny == 1 + radius:\n",
    "                xs.append(nx)\n",
    "                ys.append(ny)\n",
    "                # Only update when completed!\n",
    "                Q[s][a] = Q[s][a] + alpha * (R + Q[ns][na] - Q[s][a])\n",
    "                break\n",
    "            \n",
    "            R = energy\n",
    "            \n",
    "            # Choose action A'    \n",
    "            na = select_dictionary_action(Q, ns, epsilon)\n",
    "            \n",
    "            # Update X, S and A\n",
    "            Q[s][a] = Q[s][a] + alpha * (R + Q[ns][na] - Q[s][a])\n",
    "            x, y, s, a = (nx, ny, ns, na)\n",
    "            current_energy -= R\n",
    "            \n",
    "        path_xs = xs\n",
    "        path_ys = ys\n",
    "        if current_energy < best_energy:\n",
    "            best_xs = xs\n",
    "            best_ys = ys\n",
    "            best_energy = current_energy\n",
    "        final_energy = current_energy\n",
    "    \n",
    "    return Q, path_xs, path_ys, best_xs, best_ys, final_energy\n",
    "\n"
   ]
  },
  {
   "cell_type": "code",
   "execution_count": 371,
   "id": "bb6400b7",
   "metadata": {
    "scrolled": true
   },
   "outputs": [
    {
     "name": "stderr",
     "output_type": "stream",
     "text": [
      "100%|████████████████████████████████████| 20000/20000 [00:35<00:00, 563.25it/s]\n"
     ]
    }
   ],
   "source": [
    "l5Q_td, l5_path_xs_td, l5_path_ys, l5_best_xs, l5_best_ys, l5td_te = level5_TD(4, epsilon=0)\n"
   ]
  },
  {
   "cell_type": "code",
   "execution_count": 372,
   "id": "f13e0cbb",
   "metadata": {},
   "outputs": [
    {
     "data": {
      "image/png": "[encoded data removed]",
      "text/plain": [
       "<Figure size 432x288 with 1 Axes>"
      ]
     },
     "metadata": {
      "needs_background": "light"
     },
     "output_type": "display_data"
    },
    {
     "data": {
      "image/png": "[encoded data removed]",
      "text/plain": [
       "<Figure size 432x288 with 1 Axes>"
      ]
     },
     "metadata": {
      "needs_background": "light"
     },
     "output_type": "display_data"
    },
    {
     "name": "stdout",
     "output_type": "stream",
     "text": [
      "77 157\n"
     ]
    }
   ],
   "source": [
    "plt.imshow(pad_level(maps[3], 4), cmap=\"gray\")\n",
    "plt.plot(l5_path_xs_td, l5_path_ys)\n",
    "plt.show()\n",
    "plt.imshow(pad_level(maps[3], 4), cmap=\"gray\")\n",
    "plt.plot(l5_best_xs, l5_best_ys)\n",
    "plt.show()\n",
    "print(len(l5_path_xs_td), l5td_te)"
   ]
  },
  {
   "cell_type": "markdown",
   "id": "4d1f0bfb",
   "metadata": {},
   "source": [
    "Solution using PyTorch and function approximation"
   ]
  },
  {
   "cell_type": "code",
   "execution_count": 824,
   "id": "0ebf1178",
   "metadata": {},
   "outputs": [],
   "source": [
    "class Policy(nn.Module):\n",
    "    \"\"\"PyTorch solution for function approximation,\n",
    "    input \"\"\"\n",
    "    def __init__(self, local_window=9):\n",
    "        super().__init__()\n",
    "        \n",
    "        self.fc1 = nn.Linear(local_window**2, 256)\n",
    "        self.fc2 = nn.Linear(256, 3)\n",
    "        self.softmax = nn.Softmax(dim=0)\n",
    "    \n",
    "    def forward(self, x):\n",
    "        out = torch.relu(self.fc1(x))\n",
    "        out = self.softmax(self.fc2(out))\n",
    "        return out\n"
   ]
  },
  {
   "cell_type": "code",
   "execution_count": 355,
   "id": "0ef07564",
   "metadata": {},
   "outputs": [],
   "source": [
    "def select_policy_action(policy, s, epsilon=0.1):\n",
    "    s_tensor = torch.tensor(s).type(torch.FloatTensor)\n",
    "    a_value = policy(s_tensor)\n",
    "    a = torch.argmax(a_value)\n",
    "    # explorative move\n",
    "    if random.random() < epsilon:\n",
    "        return random.randrange(0, 3), a_value\n",
    "    # exploitative move\n",
    "    return a, a_value\n",
    "\n"
   ]
  },
  {
   "cell_type": "code",
   "execution_count": 373,
   "id": "883d8d97",
   "metadata": {},
   "outputs": [],
   "source": [
    "# Semi-gradient Sarsa with function approximation using neural network\n",
    "def level5_func_approx(radius, episodes=20000, gamma=0.99, epsilons=[0.9, 0.5, 0.1, 0.01], max_steps=100000):\n",
    "    \n",
    "    policy = Policy(radius * 2 + 1)\n",
    "    optimizer = optim.Adam(policy.parameters(), lr=0.01)\n",
    "    gamma = 1.0\n",
    "    \n",
    "    path_xs = []\n",
    "    path_ys = []\n",
    "    total_energy = 0\n",
    "    epsilon, e_index = (epsilons[0], 0)\n",
    "    \n",
    "    # fix to be parameter\n",
    "    level = pad_level(maps[3], radius)\n",
    "    \n",
    "    for e in tqdm(range(episodes)):\n",
    "        x, y = (1 + radius, 30 + radius) # S\n",
    "        s = get_local_features(x, y, radius, level)\n",
    "        \n",
    "        # select action from policy\n",
    "        a, a_v = select_policy_action(policy, s, epsilon)\n",
    "        \n",
    "        # for trajectory plotting\n",
    "        xs = []\n",
    "        ys = []\n",
    "        current_energy = 0\n",
    "        \"\"\"\n",
    "        if e != 0 and e % (episodes // len(epsilons)) == 0:\n",
    "            epsilon = epsilons[e_index+1]\n",
    "            e_index += 1\n",
    "            print(e, epsilon)\n",
    "        \"\"\"\n",
    "        \n",
    "        # time steps\n",
    "        for _ in range(max_steps):\n",
    "            xs.append(x)\n",
    "            ys.append(y)\n",
    "            \n",
    "            # Observe R, S'. S' described as = n+value (for new)\n",
    "            (nx, ny), R = level5_next_state(x, y, a, level)\n",
    "            \n",
    "            # are we in the terminal state?\n",
    "            if nx == 30 + radius and ny == 1 + radius:\n",
    "                xs.append(nx)\n",
    "                ys.append(ny)\n",
    "                # Only update when completed!\n",
    "                final_loss = torch.tensor(-(R - a_v[a]), requires_grad=True)\n",
    "                final_loss.backward()\n",
    "                optimizer.step()\n",
    "                optimizer.zero_grad()\n",
    "                break\n",
    "            \n",
    "            # Choose action A' as a function of  q(S', *, w)\n",
    "            ns = get_local_features(nx, ny, radius, level)\n",
    "            na, na_v = select_policy_action(policy, ns, epsilon)\n",
    "            \n",
    "            # Update X, S and A\n",
    "            loss = -(R + gamma * na_v[na] - a_v[a])\n",
    "            loss.backward()\n",
    "            optimizer.step()\n",
    "            optimizer.zero_grad()\n",
    "            x, y, s, a, a_v = (nx, ny, ns, na, na_v.detach())\n",
    "            current_energy -= R\n",
    "            \n",
    "        path_xs = xs\n",
    "        path_ys = ys\n",
    "        total_energy = current_energy\n",
    "        \n",
    "        if e % 20 == 0:\n",
    "            plt.imshow(level, cmap=\"gray\")\n",
    "            plt.plot(path_xs, path_ys)\n",
    "            plt.show()\n",
    "    \n",
    "    return path_xs, path_ys, total_energy\n",
    "\n"
   ]
  },
  {
   "cell_type": "code",
   "execution_count": 374,
   "id": "6d277b30",
   "metadata": {},
   "outputs": [
    {
     "name": "stderr",
     "output_type": "stream",
     "text": [
      "\r",
      "  0%|                                                   | 0/200 [00:00<?, ?it/s]"
     ]
    },
    {
     "data": {
      "image/png": "[encoded data removed]",
      "text/plain": [
       "<Figure size 432x288 with 1 Axes>"
      ]
     },
     "metadata": {
      "needs_background": "light"
     },
     "output_type": "display_data"
    },
    {
     "name": "stderr",
     "output_type": "stream",
     "text": [
      "  8%|███▍                                    | 17/200 [05:47<1:02:16, 20.42s/it]\n"
     ]
    },
    {
     "ename": "KeyboardInterrupt",
     "evalue": "",
     "output_type": "error",
     "traceback": [
      "\u001b[0;31m---------------------------------------------------------------------------\u001b[0m",
      "\u001b[0;31mKeyboardInterrupt\u001b[0m                         Traceback (most recent call last)",
      "Input \u001b[0;32mIn [374]\u001b[0m, in \u001b[0;36m<cell line: 1>\u001b[0;34m()\u001b[0m\n\u001b[0;32m----> 1\u001b[0m level5_path_xs, level5_path_ys, level5_te \u001b[38;5;241m=\u001b[39m \u001b[43mlevel5_func_approx\u001b[49m\u001b[43m(\u001b[49m\u001b[38;5;241;43m4\u001b[39;49m\u001b[43m,\u001b[49m\u001b[43m \u001b[49m\u001b[43mepisodes\u001b[49m\u001b[38;5;241;43m=\u001b[39;49m\u001b[38;5;241;43m200\u001b[39;49m\u001b[43m,\u001b[49m\u001b[43m \u001b[49m\u001b[43mepsilons\u001b[49m\u001b[38;5;241;43m=\u001b[39;49m\u001b[43m[\u001b[49m\u001b[38;5;241;43m0.9\u001b[39;49m\u001b[43m,\u001b[49m\u001b[43m \u001b[49m\u001b[38;5;241;43m0.1\u001b[39;49m\u001b[43m,\u001b[49m\u001b[43m \u001b[49m\u001b[38;5;241;43m0.01\u001b[39;49m\u001b[43m]\u001b[49m\u001b[43m)\u001b[49m\n",
      "Input \u001b[0;32mIn [373]\u001b[0m, in \u001b[0;36mlevel5_func_approx\u001b[0;34m(radius, episodes, gamma, epsilons, max_steps)\u001b[0m\n\u001b[1;32m     58\u001b[0m \u001b[38;5;66;03m# Choose action A' as a function of  q(S', w)\u001b[39;00m\n\u001b[1;32m     59\u001b[0m ns \u001b[38;5;241m=\u001b[39m get_local_features(nx, ny, radius, level)\n\u001b[0;32m---> 60\u001b[0m na, na_v \u001b[38;5;241m=\u001b[39m \u001b[43mselect_policy_action\u001b[49m\u001b[43m(\u001b[49m\u001b[43mpolicy\u001b[49m\u001b[43m,\u001b[49m\u001b[43m \u001b[49m\u001b[43mns\u001b[49m\u001b[43m,\u001b[49m\u001b[43m \u001b[49m\u001b[43mepsilon\u001b[49m\u001b[43m)\u001b[49m\n\u001b[1;32m     62\u001b[0m \u001b[38;5;66;03m# Update X, S and A\u001b[39;00m\n\u001b[1;32m     63\u001b[0m loss \u001b[38;5;241m=\u001b[39m \u001b[38;5;241m-\u001b[39m(R \u001b[38;5;241m+\u001b[39m gamma \u001b[38;5;241m*\u001b[39m na_v[na] \u001b[38;5;241m-\u001b[39m a_v[a])\n",
      "Input \u001b[0;32mIn [355]\u001b[0m, in \u001b[0;36mselect_policy_action\u001b[0;34m(policy, s, epsilon)\u001b[0m\n\u001b[1;32m      1\u001b[0m \u001b[38;5;28;01mdef\u001b[39;00m \u001b[38;5;21mselect_policy_action\u001b[39m(policy, s, epsilon\u001b[38;5;241m=\u001b[39m\u001b[38;5;241m0.1\u001b[39m):\n\u001b[1;32m      2\u001b[0m     s_tensor \u001b[38;5;241m=\u001b[39m torch\u001b[38;5;241m.\u001b[39mtensor(s)\u001b[38;5;241m.\u001b[39mtype(torch\u001b[38;5;241m.\u001b[39mFloatTensor)\n\u001b[0;32m----> 3\u001b[0m     a_value \u001b[38;5;241m=\u001b[39m \u001b[43mpolicy\u001b[49m\u001b[43m(\u001b[49m\u001b[43ms_tensor\u001b[49m\u001b[43m)\u001b[49m\n\u001b[1;32m      4\u001b[0m     a \u001b[38;5;241m=\u001b[39m np\u001b[38;5;241m.\u001b[39mrandom\u001b[38;5;241m.\u001b[39mchoice(np\u001b[38;5;241m.\u001b[39mflatnonzero(a_value \u001b[38;5;241m==\u001b[39m a_value\u001b[38;5;241m.\u001b[39mmax()))\n\u001b[1;32m      5\u001b[0m     \u001b[38;5;66;03m# explorative move\u001b[39;00m\n",
      "File \u001b[0;32m~/miniforge3/lib/python3.9/site-packages/torch/nn/modules/module.py:1102\u001b[0m, in \u001b[0;36mModule._call_impl\u001b[0;34m(self, *input, **kwargs)\u001b[0m\n\u001b[1;32m   1098\u001b[0m \u001b[38;5;66;03m# If we don't have any hooks, we want to skip the rest of the logic in\u001b[39;00m\n\u001b[1;32m   1099\u001b[0m \u001b[38;5;66;03m# this function, and just call forward.\u001b[39;00m\n\u001b[1;32m   1100\u001b[0m \u001b[38;5;28;01mif\u001b[39;00m \u001b[38;5;129;01mnot\u001b[39;00m (\u001b[38;5;28mself\u001b[39m\u001b[38;5;241m.\u001b[39m_backward_hooks \u001b[38;5;129;01mor\u001b[39;00m \u001b[38;5;28mself\u001b[39m\u001b[38;5;241m.\u001b[39m_forward_hooks \u001b[38;5;129;01mor\u001b[39;00m \u001b[38;5;28mself\u001b[39m\u001b[38;5;241m.\u001b[39m_forward_pre_hooks \u001b[38;5;129;01mor\u001b[39;00m _global_backward_hooks\n\u001b[1;32m   1101\u001b[0m         \u001b[38;5;129;01mor\u001b[39;00m _global_forward_hooks \u001b[38;5;129;01mor\u001b[39;00m _global_forward_pre_hooks):\n\u001b[0;32m-> 1102\u001b[0m     \u001b[38;5;28;01mreturn\u001b[39;00m \u001b[43mforward_call\u001b[49m\u001b[43m(\u001b[49m\u001b[38;5;241;43m*\u001b[39;49m\u001b[38;5;28;43minput\u001b[39;49m\u001b[43m,\u001b[49m\u001b[43m \u001b[49m\u001b[38;5;241;43m*\u001b[39;49m\u001b[38;5;241;43m*\u001b[39;49m\u001b[43mkwargs\u001b[49m\u001b[43m)\u001b[49m\n\u001b[1;32m   1103\u001b[0m \u001b[38;5;66;03m# Do not call functions when jit is used\u001b[39;00m\n\u001b[1;32m   1104\u001b[0m full_backward_hooks, non_full_backward_hooks \u001b[38;5;241m=\u001b[39m [], []\n",
      "Input \u001b[0;32mIn [300]\u001b[0m, in \u001b[0;36mPolicy.forward\u001b[0;34m(self, x)\u001b[0m\n\u001b[1;32m     10\u001b[0m \u001b[38;5;28;01mdef\u001b[39;00m \u001b[38;5;21mforward\u001b[39m(\u001b[38;5;28mself\u001b[39m, x):\n\u001b[1;32m     11\u001b[0m     out \u001b[38;5;241m=\u001b[39m torch\u001b[38;5;241m.\u001b[39mrelu(\u001b[38;5;28mself\u001b[39m\u001b[38;5;241m.\u001b[39mfc1(x))\n\u001b[0;32m---> 12\u001b[0m     out \u001b[38;5;241m=\u001b[39m \u001b[38;5;28;43mself\u001b[39;49m\u001b[38;5;241;43m.\u001b[39;49m\u001b[43mfc2\u001b[49m\u001b[43m(\u001b[49m\u001b[43mout\u001b[49m\u001b[43m)\u001b[49m\n\u001b[1;32m     13\u001b[0m     \u001b[38;5;28;01mreturn\u001b[39;00m out\n",
      "File \u001b[0;32m~/miniforge3/lib/python3.9/site-packages/torch/nn/modules/module.py:1102\u001b[0m, in \u001b[0;36mModule._call_impl\u001b[0;34m(self, *input, **kwargs)\u001b[0m\n\u001b[1;32m   1098\u001b[0m \u001b[38;5;66;03m# If we don't have any hooks, we want to skip the rest of the logic in\u001b[39;00m\n\u001b[1;32m   1099\u001b[0m \u001b[38;5;66;03m# this function, and just call forward.\u001b[39;00m\n\u001b[1;32m   1100\u001b[0m \u001b[38;5;28;01mif\u001b[39;00m \u001b[38;5;129;01mnot\u001b[39;00m (\u001b[38;5;28mself\u001b[39m\u001b[38;5;241m.\u001b[39m_backward_hooks \u001b[38;5;129;01mor\u001b[39;00m \u001b[38;5;28mself\u001b[39m\u001b[38;5;241m.\u001b[39m_forward_hooks \u001b[38;5;129;01mor\u001b[39;00m \u001b[38;5;28mself\u001b[39m\u001b[38;5;241m.\u001b[39m_forward_pre_hooks \u001b[38;5;129;01mor\u001b[39;00m _global_backward_hooks\n\u001b[1;32m   1101\u001b[0m         \u001b[38;5;129;01mor\u001b[39;00m _global_forward_hooks \u001b[38;5;129;01mor\u001b[39;00m _global_forward_pre_hooks):\n\u001b[0;32m-> 1102\u001b[0m     \u001b[38;5;28;01mreturn\u001b[39;00m \u001b[43mforward_call\u001b[49m\u001b[43m(\u001b[49m\u001b[38;5;241;43m*\u001b[39;49m\u001b[38;5;28;43minput\u001b[39;49m\u001b[43m,\u001b[49m\u001b[43m \u001b[49m\u001b[38;5;241;43m*\u001b[39;49m\u001b[38;5;241;43m*\u001b[39;49m\u001b[43mkwargs\u001b[49m\u001b[43m)\u001b[49m\n\u001b[1;32m   1103\u001b[0m \u001b[38;5;66;03m# Do not call functions when jit is used\u001b[39;00m\n\u001b[1;32m   1104\u001b[0m full_backward_hooks, non_full_backward_hooks \u001b[38;5;241m=\u001b[39m [], []\n",
      "File \u001b[0;32m~/miniforge3/lib/python3.9/site-packages/torch/nn/modules/linear.py:103\u001b[0m, in \u001b[0;36mLinear.forward\u001b[0;34m(self, input)\u001b[0m\n\u001b[1;32m    102\u001b[0m \u001b[38;5;28;01mdef\u001b[39;00m \u001b[38;5;21mforward\u001b[39m(\u001b[38;5;28mself\u001b[39m, \u001b[38;5;28minput\u001b[39m: Tensor) \u001b[38;5;241m-\u001b[39m\u001b[38;5;241m>\u001b[39m Tensor:\n\u001b[0;32m--> 103\u001b[0m     \u001b[38;5;28;01mreturn\u001b[39;00m \u001b[43mF\u001b[49m\u001b[38;5;241;43m.\u001b[39;49m\u001b[43mlinear\u001b[49m\u001b[43m(\u001b[49m\u001b[38;5;28;43minput\u001b[39;49m\u001b[43m,\u001b[49m\u001b[43m \u001b[49m\u001b[38;5;28;43mself\u001b[39;49m\u001b[38;5;241;43m.\u001b[39;49m\u001b[43mweight\u001b[49m\u001b[43m,\u001b[49m\u001b[43m \u001b[49m\u001b[38;5;28;43mself\u001b[39;49m\u001b[38;5;241;43m.\u001b[39;49m\u001b[43mbias\u001b[49m\u001b[43m)\u001b[49m\n",
      "File \u001b[0;32m~/miniforge3/lib/python3.9/site-packages/torch/nn/functional.py:1848\u001b[0m, in \u001b[0;36mlinear\u001b[0;34m(input, weight, bias)\u001b[0m\n\u001b[1;32m   1846\u001b[0m \u001b[38;5;28;01mif\u001b[39;00m has_torch_function_variadic(\u001b[38;5;28minput\u001b[39m, weight, bias):\n\u001b[1;32m   1847\u001b[0m     \u001b[38;5;28;01mreturn\u001b[39;00m handle_torch_function(linear, (\u001b[38;5;28minput\u001b[39m, weight, bias), \u001b[38;5;28minput\u001b[39m, weight, bias\u001b[38;5;241m=\u001b[39mbias)\n\u001b[0;32m-> 1848\u001b[0m \u001b[38;5;28;01mreturn\u001b[39;00m \u001b[43mtorch\u001b[49m\u001b[38;5;241;43m.\u001b[39;49m\u001b[43m_C\u001b[49m\u001b[38;5;241;43m.\u001b[39;49m\u001b[43m_nn\u001b[49m\u001b[38;5;241;43m.\u001b[39;49m\u001b[43mlinear\u001b[49m\u001b[43m(\u001b[49m\u001b[38;5;28;43minput\u001b[39;49m\u001b[43m,\u001b[49m\u001b[43m \u001b[49m\u001b[43mweight\u001b[49m\u001b[43m,\u001b[49m\u001b[43m \u001b[49m\u001b[43mbias\u001b[49m\u001b[43m)\u001b[49m\n",
      "\u001b[0;31mKeyboardInterrupt\u001b[0m: "
     ]
    }
   ],
   "source": [
    "level5_path_xs, level5_path_ys, level5_te = level5_func_approx(4, episodes=200, epsilons=[0.9, 0.1, 0.01])\n"
   ]
  },
  {
   "cell_type": "markdown",
   "id": "263be8e2",
   "metadata": {},
   "source": [
    "# Level 6"
   ]
  },
  {
   "cell_type": "code",
   "execution_count": 698,
   "id": "150b5b5c",
   "metadata": {},
   "outputs": [],
   "source": [
    "def loss_fn(r, x):\n",
    "    return -(r*torch.log(x) + (1-r) * torch.log(1 - x))\n"
   ]
  },
  {
   "cell_type": "code",
   "execution_count": 845,
   "id": "de9cee14",
   "metadata": {},
   "outputs": [],
   "source": [
    "# Semi-gradient Sarsa with function approximation using neural network\n",
    "def level6(enemies, radius, level, e0=0, dE=0, episodes=5000, gamma=0.99, epsilon=0.01):\n",
    "    \n",
    "    policy = Policy(radius * 2 + 1)\n",
    "    optimizer = optim.Adam(policy.parameters(), lr=0.001)\n",
    "    gamma = 1.0\n",
    "    \n",
    "    path_xs = []\n",
    "    path_ys = []\n",
    "    y_peak_total = len(level)+radius\n",
    "    peaks = 0\n",
    "    \n",
    "    # fix to be parameter\n",
    "    level = pad_level(level, radius)\n",
    "    \n",
    "    for e in tqdm(range(episodes)):\n",
    "        x, y = (len(level[0]) // 2, len(level) - radius - 2) # S\n",
    "        s = get_local_features(x, y, radius, level)\n",
    "        energy_budget = e0\n",
    "        y_peak = len(level)+radius\n",
    "        \n",
    "        # select action from policy\n",
    "        a, value_a = select_policy_action(policy, s, epsilon)\n",
    "        \n",
    "        # for trajectory plotting\n",
    "        xs = []\n",
    "        ys = []\n",
    "        \n",
    "        # testing for different rewards\n",
    "        last_pos = [(x, y)]\n",
    "        last_ys = [y for _ in range(5)]\n",
    "        \n",
    "        while True:\n",
    "            xs.append(x)\n",
    "            ys.append(y)\n",
    "            \n",
    "            # Observe R, S'. S' described as = n+value (for new)\n",
    "            R = 0\n",
    "            (nx, ny), energy = level5_next_state(x, y, a, level)\n",
    "            energy_budget += energy\n",
    "            \n",
    "            # ways to hand out reward\n",
    "            if ny < y_peak:\n",
    "                y_peak = ny\n",
    "                energy_budget += dE\n",
    "                R = 1\n",
    "            \n",
    "            last_ys.pop(0)\n",
    "            last_ys.append(ny)\n",
    "            \n",
    "            # Rewards exploration\n",
    "            if (nx, ny) not in last_pos:\n",
    "                last_pos.append((nx, ny))\n",
    "                R = 1\n",
    "                \n",
    "            # are we in the terminal state?\n",
    "            if energy_budget < 0:\n",
    "                xs.append(nx)\n",
    "                ys.append(ny)\n",
    "                # Only update when completed!\n",
    "                final_loss = loss_fn(R, value_a[a].clone().detach().requires_grad_(True))\n",
    "                final_loss.backward()\n",
    "                optimizer.step()\n",
    "                optimizer.zero_grad()\n",
    "                break\n",
    "            \n",
    "            # Choose action A' as a function of  q(S', w)\n",
    "            ns = get_local_features(nx, ny, radius, level)\n",
    "            na, value_na = select_policy_action(policy, ns, epsilon)\n",
    "            \n",
    "            # Update X, S and A\n",
    "            #loss = -(R + gamma * na_v[na] - a_v[a])\n",
    "            \n",
    "            # loss function to use with softmax and R either 0 or 1\n",
    "            # give reward for going to a new state, or just move at all\n",
    "            # punish for not getting going upward, and reward for going upward\n",
    "            # dont punish for using energy (wont jump probably)\n",
    "            loss = loss_fn(R, value_na[na])\n",
    "            loss.backward()\n",
    "            optimizer.step()\n",
    "            optimizer.zero_grad()\n",
    "            x, y, s, a, value_a = (nx, ny, ns, na, value_na.detach())\n",
    "            \n",
    "        path_xs = xs\n",
    "        path_ys = ys\n",
    "        \n",
    "        if y_peak - radius == 0:\n",
    "            peaks += 1\n",
    "        \n",
    "        if y_peak - radius < y_peak_total:\n",
    "            y_peak_total = y_peak - radius\n",
    "            plt.imshow(level, cmap=\"gray\")\n",
    "            plt.plot(path_xs, path_ys)\n",
    "            plt.show()\n",
    "        \n",
    "        if e % 400 == 0:\n",
    "            plt.imshow(level, cmap=\"gray\")\n",
    "            plt.plot(path_xs, path_ys)\n",
    "            plt.show()\n",
    "    \n",
    "    return policy, y_peak_total, peaks, path_xs, path_ys\n"
   ]
  },
  {
   "cell_type": "code",
   "execution_count": 846,
   "id": "08c96f55",
   "metadata": {},
   "outputs": [
    {
     "name": "stderr",
     "output_type": "stream",
     "text": [
      "\r",
      "  0%|                                                  | 0/2000 [00:00<?, ?it/s]"
     ]
    },
    {
     "data": {
      "image/png": "[encoded data removed]",
      "text/plain": [
       "<Figure size 432x288 with 1 Axes>"
      ]
     },
     "metadata": {
      "needs_background": "light"
     },
     "output_type": "display_data"
    },
    {
     "data": {
      "image/png": "[encoded data removed]",
      "text/plain": [
       "<Figure size 432x288 with 1 Axes>"
      ]
     },
     "metadata": {
      "needs_background": "light"
     },
     "output_type": "display_data"
    },
    {
     "name": "stderr",
     "output_type": "stream",
     "text": [
      "  1%|▎                                        | 13/2000 [00:01<02:37, 12.62it/s]"
     ]
    },
    {
     "data": {
      "image/png": "[encoded data removed]",
      "text/plain": [
       "<Figure size 432x288 with 1 Axes>"
      ]
     },
     "metadata": {
      "needs_background": "light"
     },
     "output_type": "display_data"
    },
    {
     "name": "stderr",
     "output_type": "stream",
     "text": [
      "  1%|▌                                        | 29/2000 [00:02<02:41, 12.23it/s]"
     ]
    },
    {
     "data": {
      "image/png": "[encoded data removed]",
      "text/plain": [
       "<Figure size 432x288 with 1 Axes>"
      ]
     },
     "metadata": {
      "needs_background": "light"
     },
     "output_type": "display_data"
    },
    {
     "name": "stderr",
     "output_type": "stream",
     "text": [
      "  3%|█                                        | 53/2000 [00:04<03:06, 10.44it/s]"
     ]
    },
    {
     "data": {
      "image/png": "[encoded data removed]",
      "text/plain": [
       "<Figure size 432x288 with 1 Axes>"
      ]
     },
     "metadata": {
      "needs_background": "light"
     },
     "output_type": "display_data"
    },
    {
     "name": "stderr",
     "output_type": "stream",
     "text": [
      " 20%|███████▉                                | 399/2000 [00:39<02:24, 11.05it/s]"
     ]
    },
    {
     "data": {
      "image/png": "[encoded data removed]",
      "text/plain": [
       "<Figure size 432x288 with 1 Axes>"
      ]
     },
     "metadata": {
      "needs_background": "light"
     },
     "output_type": "display_data"
    },
    {
     "name": "stderr",
     "output_type": "stream",
     "text": [
      " 23%|█████████▎                              | 468/2000 [00:47<02:35,  9.86it/s]\n"
     ]
    },
    {
     "ename": "KeyboardInterrupt",
     "evalue": "",
     "output_type": "error",
     "traceback": [
      "\u001b[0;31m---------------------------------------------------------------------------\u001b[0m",
      "\u001b[0;31mKeyboardInterrupt\u001b[0m                         Traceback (most recent call last)",
      "Input \u001b[0;32mIn [846]\u001b[0m, in \u001b[0;36m<cell line: 1>\u001b[0;34m()\u001b[0m\n\u001b[0;32m----> 1\u001b[0m level6_policy, level_6_peak, peaks, level6_path_xs, level6_path_ys \u001b[38;5;241m=\u001b[39m \u001b[43mlevel6\u001b[49m\u001b[43m(\u001b[49m\u001b[38;5;28;43;01mNone\u001b[39;49;00m\u001b[43m,\u001b[49m\u001b[43m \u001b[49m\u001b[38;5;241;43m4\u001b[39;49m\u001b[43m,\u001b[49m\u001b[43m \u001b[49m\u001b[43mmaps\u001b[49m\u001b[43m[\u001b[49m\u001b[38;5;241;43m3\u001b[39;49m\u001b[43m]\u001b[49m\u001b[43m,\u001b[49m\u001b[43m \u001b[49m\u001b[43me0\u001b[49m\u001b[38;5;241;43m=\u001b[39;49m\u001b[38;5;241;43m400\u001b[39;49m\u001b[43m,\u001b[49m\u001b[43m \u001b[49m\u001b[43mdE\u001b[49m\u001b[38;5;241;43m=\u001b[39;49m\u001b[38;5;241;43m50\u001b[39;49m\u001b[43m,\u001b[49m\u001b[43m \u001b[49m\u001b[43mepisodes\u001b[49m\u001b[38;5;241;43m=\u001b[39;49m\u001b[38;5;241;43m2000\u001b[39;49m\u001b[43m)\u001b[49m\n\u001b[1;32m      2\u001b[0m \u001b[38;5;28mprint\u001b[39m(level_6_peak, peaks)\n",
      "Input \u001b[0;32mIn [845]\u001b[0m, in \u001b[0;36mlevel6\u001b[0;34m(enemies, radius, level, e0, dE, episodes, gamma, epsilon)\u001b[0m\n\u001b[1;32m     71\u001b[0m \u001b[38;5;66;03m# Update X, S and A\u001b[39;00m\n\u001b[1;32m     72\u001b[0m \u001b[38;5;66;03m#loss = -(R + gamma * na_v[na] - a_v[a])\u001b[39;00m\n\u001b[1;32m     73\u001b[0m \n\u001b[0;32m   (...)\u001b[0m\n\u001b[1;32m     76\u001b[0m \u001b[38;5;66;03m# punish for not getting going upward, and reward for going upward\u001b[39;00m\n\u001b[1;32m     77\u001b[0m \u001b[38;5;66;03m# dont punish for using energy (wont jump probably)\u001b[39;00m\n\u001b[1;32m     78\u001b[0m loss \u001b[38;5;241m=\u001b[39m loss_fn(R, value_na[na])\n\u001b[0;32m---> 79\u001b[0m \u001b[43mloss\u001b[49m\u001b[38;5;241;43m.\u001b[39;49m\u001b[43mbackward\u001b[49m\u001b[43m(\u001b[49m\u001b[43m)\u001b[49m\n\u001b[1;32m     80\u001b[0m optimizer\u001b[38;5;241m.\u001b[39mstep()\n\u001b[1;32m     81\u001b[0m optimizer\u001b[38;5;241m.\u001b[39mzero_grad()\n",
      "File \u001b[0;32m~/miniforge3/lib/python3.9/site-packages/torch/_tensor.py:307\u001b[0m, in \u001b[0;36mTensor.backward\u001b[0;34m(self, gradient, retain_graph, create_graph, inputs)\u001b[0m\n\u001b[1;32m    298\u001b[0m \u001b[38;5;28;01mif\u001b[39;00m has_torch_function_unary(\u001b[38;5;28mself\u001b[39m):\n\u001b[1;32m    299\u001b[0m     \u001b[38;5;28;01mreturn\u001b[39;00m handle_torch_function(\n\u001b[1;32m    300\u001b[0m         Tensor\u001b[38;5;241m.\u001b[39mbackward,\n\u001b[1;32m    301\u001b[0m         (\u001b[38;5;28mself\u001b[39m,),\n\u001b[0;32m   (...)\u001b[0m\n\u001b[1;32m    305\u001b[0m         create_graph\u001b[38;5;241m=\u001b[39mcreate_graph,\n\u001b[1;32m    306\u001b[0m         inputs\u001b[38;5;241m=\u001b[39minputs)\n\u001b[0;32m--> 307\u001b[0m \u001b[43mtorch\u001b[49m\u001b[38;5;241;43m.\u001b[39;49m\u001b[43mautograd\u001b[49m\u001b[38;5;241;43m.\u001b[39;49m\u001b[43mbackward\u001b[49m\u001b[43m(\u001b[49m\u001b[38;5;28;43mself\u001b[39;49m\u001b[43m,\u001b[49m\u001b[43m \u001b[49m\u001b[43mgradient\u001b[49m\u001b[43m,\u001b[49m\u001b[43m \u001b[49m\u001b[43mretain_graph\u001b[49m\u001b[43m,\u001b[49m\u001b[43m \u001b[49m\u001b[43mcreate_graph\u001b[49m\u001b[43m,\u001b[49m\u001b[43m \u001b[49m\u001b[43minputs\u001b[49m\u001b[38;5;241;43m=\u001b[39;49m\u001b[43minputs\u001b[49m\u001b[43m)\u001b[49m\n",
      "File \u001b[0;32m~/miniforge3/lib/python3.9/site-packages/torch/autograd/__init__.py:154\u001b[0m, in \u001b[0;36mbackward\u001b[0;34m(tensors, grad_tensors, retain_graph, create_graph, grad_variables, inputs)\u001b[0m\n\u001b[1;32m    151\u001b[0m \u001b[38;5;28;01mif\u001b[39;00m retain_graph \u001b[38;5;129;01mis\u001b[39;00m \u001b[38;5;28;01mNone\u001b[39;00m:\n\u001b[1;32m    152\u001b[0m     retain_graph \u001b[38;5;241m=\u001b[39m create_graph\n\u001b[0;32m--> 154\u001b[0m \u001b[43mVariable\u001b[49m\u001b[38;5;241;43m.\u001b[39;49m\u001b[43m_execution_engine\u001b[49m\u001b[38;5;241;43m.\u001b[39;49m\u001b[43mrun_backward\u001b[49m\u001b[43m(\u001b[49m\n\u001b[1;32m    155\u001b[0m \u001b[43m    \u001b[49m\u001b[43mtensors\u001b[49m\u001b[43m,\u001b[49m\u001b[43m \u001b[49m\u001b[43mgrad_tensors_\u001b[49m\u001b[43m,\u001b[49m\u001b[43m \u001b[49m\u001b[43mretain_graph\u001b[49m\u001b[43m,\u001b[49m\u001b[43m \u001b[49m\u001b[43mcreate_graph\u001b[49m\u001b[43m,\u001b[49m\u001b[43m \u001b[49m\u001b[43minputs\u001b[49m\u001b[43m,\u001b[49m\n\u001b[1;32m    156\u001b[0m \u001b[43m    \u001b[49m\u001b[43mallow_unreachable\u001b[49m\u001b[38;5;241;43m=\u001b[39;49m\u001b[38;5;28;43;01mTrue\u001b[39;49;00m\u001b[43m,\u001b[49m\u001b[43m \u001b[49m\u001b[43maccumulate_grad\u001b[49m\u001b[38;5;241;43m=\u001b[39;49m\u001b[38;5;28;43;01mTrue\u001b[39;49;00m\u001b[43m)\u001b[49m\n",
      "\u001b[0;31mKeyboardInterrupt\u001b[0m: "
     ]
    }
   ],
   "source": [
    "level6_policy, level_6_peak, peaks, level6_path_xs, level6_path_ys = level6(None, 4, maps[3], e0=400, dE=50, episodes=2000)\n",
    "print(level_6_peak, peaks)"
   ]
  },
  {
   "cell_type": "code",
   "execution_count": 828,
   "id": "5641f561",
   "metadata": {
    "scrolled": true
   },
   "outputs": [
    {
     "data": {
      "image/png": "[encoded data removed]",
      "text/plain": [
       "<Figure size 432x288 with 1 Axes>"
      ]
     },
     "metadata": {
      "needs_background": "light"
     },
     "output_type": "display_data"
    }
   ],
   "source": [
    "def create_custom_map(x, y):\n",
    "    custom_map = [[2] + [1 for _ in range(x-2)] + [2] for _ in range(y)]\n",
    "    custom_map[0] = [2 for _ in range(x)]\n",
    "    custom_map[31] = [2 for _ in range(x)]\n",
    "    for i in range(1, 31):\n",
    "        for j in range(1, 31):\n",
    "            custom_map[i][j] = np.random.choice([1, 1, 1, 1, 1, 1, 2, 3])\n",
    "    custom_map[y-2][x//2] = 1\n",
    "    return custom_map\n",
    "\n",
    "plt.imshow(create_custom_map(32, 32), cmap=\"gray\")\n",
    "plt.show()"
   ]
  },
  {
   "cell_type": "code",
   "execution_count": 800,
   "id": "d6069dbc",
   "metadata": {},
   "outputs": [],
   "source": [
    "class Sarsa_Policy(nn.Module):\n",
    "    \"\"\"PyTorch solution for function approximation,\n",
    "    input \"\"\"\n",
    "    def __init__(self, local_window=9):\n",
    "        super().__init__()\n",
    "        \n",
    "        self.fc1 = nn.Linear(local_window**2, 256)\n",
    "        self.fc2 = nn.Linear(256, 3)\n",
    "        \n",
    "    def forward(self, x):\n",
    "        out = torch.relu(self.fc1(x))\n",
    "        out = self.fc2(out)\n",
    "        return out\n"
   ]
  },
  {
   "cell_type": "code",
   "execution_count": 891,
   "id": "49bba9da",
   "metadata": {},
   "outputs": [],
   "source": [
    "import sys\n",
    "#Semi-gradient Sarsa with function approximation using neural network\n",
    "def level6_sarsa(enemies, radius, level, n=1, e0=0, dE=0, episodes=5000, gamma=0.99, epsilon=0.01):\n",
    "    \n",
    "    policy = Sarsa_Policy(radius * 2 + 1)\n",
    "    optimizer = optim.Adam(policy.parameters(), lr=0.0001)\n",
    "    \n",
    "    path_xs = []\n",
    "    path_ys = []\n",
    "    y_peak_total = len(level)+radius\n",
    "    peaks = 0\n",
    "    \n",
    "    # fix to be parameter\n",
    "    level = pad_level(level, radius)\n",
    "    \n",
    "    for e in tqdm(range(episodes)):\n",
    "        stored_A = {}\n",
    "        stored_R = {}\n",
    "        stored_S = {}\n",
    "        stored_Q = {}\n",
    "        \n",
    "        x, y = (len(level[0]) // 2, len(level) - radius - 2) # S\n",
    "        s = get_local_features(x, y, radius, level)\n",
    "        energy_budget = e0\n",
    "        y_peak = len(level)+radius\n",
    "        \n",
    "        # select action from policy\n",
    "        a, q = select_policy_action(policy, s, epsilon)\n",
    "        \n",
    "        stored_A[0] = a\n",
    "        stored_S[0] = s\n",
    "        stored_Q[0] = q\n",
    "        \n",
    "        # for trajectory plotting\n",
    "        xs = []\n",
    "        ys = []\n",
    "        \n",
    "        t = -1\n",
    "        T = sys.maxsize\n",
    "        tau = 0\n",
    "        while tau < (T - 1):\n",
    "            xs.append(x)\n",
    "            ys.append(y)\n",
    "            \n",
    "            t += 1\n",
    "            current = (t+1) % (n+1)\n",
    "            \n",
    "            if t < T:\n",
    "                # Observe R, S'. S' described as = n+value (for new)\n",
    "                R = 0\n",
    "                (nx, ny), energy = level5_next_state(x, y, a, level)\n",
    "                energy_budget += energy\n",
    "                R += energy\n",
    "            \n",
    "                # ways to hand out reward\n",
    "                if y < y_peak:\n",
    "                    y_peak = ny\n",
    "                    energy_budget += dE\n",
    "                    R -= dE\n",
    "                    \n",
    "                stored_R[current] = R\n",
    "                stored_S[current] = (x, y)\n",
    "                \n",
    "                # are we in the terminal state?\n",
    "                if energy_budget < 0:\n",
    "                    T = t + 1\n",
    "                else:\n",
    "                    # Choose action A' as a function of  q(S', w)\n",
    "                    ns = get_local_features(nx, ny, radius, level)\n",
    "                    na, nq = select_policy_action(policy, ns, epsilon)\n",
    "                    stored_S[current] = ns\n",
    "                    stored_A[current] = na\n",
    "                    stored_Q[current] = nq.detach()\n",
    "\n",
    "            tau = t - n + 1\n",
    "            if tau >= 0:\n",
    "                G = np.sum([stored_R[i%(n+1)] for i in range(tau+1, min(tau+n, T))])\n",
    "                \n",
    "                if tau + n < T:\n",
    "                    G += stored_Q[tau % (n+1)][stored_A[tau % (n+1)]]\n",
    "                    \n",
    "                loss = -(G - gamma * stored_Q[tau % (n+1)][stored_A[tau % (n+1)]].clone().detach().requires_grad_(True))\n",
    "                loss.backward()\n",
    "                optimizer.step()\n",
    "                optimizer.zero_grad()\n",
    "                \n",
    "            x, y, a = (nx, ny, na)\n",
    "                \n",
    "            \n",
    "        path_xs = xs\n",
    "        path_ys = ys\n",
    "        \n",
    "        if y_peak - radius == 0:\n",
    "            peaks += 1\n",
    "        \n",
    "        if y_peak - radius < y_peak_total:\n",
    "            y_peak_total = y_peak - radius\n",
    "            plt.imshow(level, cmap=\"gray\")\n",
    "            plt.plot(path_xs, path_ys)\n",
    "            plt.show()\n",
    "        \n",
    "        if e % 400 == 0:\n",
    "            plt.imshow(level, cmap=\"gray\")\n",
    "            plt.plot(path_xs, path_ys)\n",
    "            plt.show()\n",
    "    \n",
    "    return policy, y_peak_total, peaks, path_xs, path_ys\n"
   ]
  },
  {
   "cell_type": "code",
   "execution_count": 892,
   "id": "a76c2c59",
   "metadata": {},
   "outputs": [
    {
     "name": "stderr",
     "output_type": "stream",
     "text": [
      "\r",
      "  0%|                                                  | 0/2000 [00:00<?, ?it/s]"
     ]
    },
    {
     "data": {
      "image/png": "[encoded data removed]",
      "text/plain": [
       "<Figure size 432x288 with 1 Axes>"
      ]
     },
     "metadata": {
      "needs_background": "light"
     },
     "output_type": "display_data"
    },
    {
     "data": {
      "image/png": "[encoded data removed]",
      "text/plain": [
       "<Figure size 432x288 with 1 Axes>"
      ]
     },
     "metadata": {
      "needs_background": "light"
     },
     "output_type": "display_data"
    },
    {
     "name": "stderr",
     "output_type": "stream",
     "text": [
      "\r",
      "  0%|                                          | 1/2000 [00:00<04:32,  7.33it/s]"
     ]
    },
    {
     "data": {
      "image/png": "[encoded data removed]",
      "text/plain": [
       "<Figure size 432x288 with 1 Axes>"
      ]
     },
     "metadata": {
      "needs_background": "light"
     },
     "output_type": "display_data"
    },
    {
     "name": "stderr",
     "output_type": "stream",
     "text": [
      "  1%|▍                                        | 24/2000 [00:00<00:53, 36.76it/s]"
     ]
    },
    {
     "data": {
      "image/png": "[encoded data removed]",
      "text/plain": [
       "<Figure size 432x288 with 1 Axes>"
      ]
     },
     "metadata": {
      "needs_background": "light"
     },
     "output_type": "display_data"
    },
    {
     "name": "stderr",
     "output_type": "stream",
     "text": [
      "\r",
      "  1%|▌                                        | 28/2000 [00:00<01:04, 30.77it/s]"
     ]
    },
    {
     "data": {
      "image/png": "[encoded data removed]",
      "text/plain": [
       "<Figure size 432x288 with 1 Axes>"
      ]
     },
     "metadata": {
      "needs_background": "light"
     },
     "output_type": "display_data"
    },
    {
     "name": "stderr",
     "output_type": "stream",
     "text": [
      "  4%|█▊                                       | 86/2000 [00:02<00:49, 38.49it/s]"
     ]
    },
    {
     "data": {
      "image/png": "[encoded data removed]",
      "text/plain": [
       "<Figure size 432x288 with 1 Axes>"
      ]
     },
     "metadata": {
      "needs_background": "light"
     },
     "output_type": "display_data"
    },
    {
     "name": "stderr",
     "output_type": "stream",
     "text": [
      " 20%|████████                                | 400/2000 [00:14<00:53, 30.01it/s]"
     ]
    },
    {
     "data": {
      "image/png": "[encoded data removed]",
      "text/plain": [
       "<Figure size 432x288 with 1 Axes>"
      ]
     },
     "metadata": {
      "needs_background": "light"
     },
     "output_type": "display_data"
    },
    {
     "name": "stderr",
     "output_type": "stream",
     "text": [
      " 31%|████████████▌                           | 629/2000 [00:22<00:50, 27.20it/s]"
     ]
    },
    {
     "data": {
      "image/png": "[encoded data removed]",
      "text/plain": [
       "<Figure size 432x288 with 1 Axes>"
      ]
     },
     "metadata": {
      "needs_background": "light"
     },
     "output_type": "display_data"
    },
    {
     "name": "stderr",
     "output_type": "stream",
     "text": [
      " 40%|███████████████▉                        | 797/2000 [00:28<00:37, 31.68it/s]"
     ]
    },
    {
     "data": {
      "image/png": "[encoded data removed]",
      "text/plain": [
       "<Figure size 432x288 with 1 Axes>"
      ]
     },
     "metadata": {
      "needs_background": "light"
     },
     "output_type": "display_data"
    },
    {
     "name": "stderr",
     "output_type": "stream",
     "text": [
      " 60%|███████████████████████▎               | 1198/2000 [00:42<00:31, 25.38it/s]"
     ]
    },
    {
     "data": {
      "image/png": "[encoded data removed]",
      "text/plain": [
       "<Figure size 432x288 with 1 Axes>"
      ]
     },
     "metadata": {
      "needs_background": "light"
     },
     "output_type": "display_data"
    },
    {
     "name": "stderr",
     "output_type": "stream",
     "text": [
      " 80%|███████████████████████████████▏       | 1597/2000 [00:56<00:11, 35.98it/s]"
     ]
    },
    {
     "data": {
      "image/png": "[encoded data removed]",
      "text/plain": [
       "<Figure size 432x288 with 1 Axes>"
      ]
     },
     "metadata": {
      "needs_background": "light"
     },
     "output_type": "display_data"
    },
    {
     "name": "stderr",
     "output_type": "stream",
     "text": [
      " 90%|███████████████████████████████████    | 1798/2000 [01:02<00:05, 34.05it/s]"
     ]
    },
    {
     "data": {
      "image/png": "[encoded data removed]",
      "text/plain": [
       "<Figure size 432x288 with 1 Axes>"
      ]
     },
     "metadata": {
      "needs_background": "light"
     },
     "output_type": "display_data"
    },
    {
     "name": "stderr",
     "output_type": "stream",
     "text": [
      "100%|███████████████████████████████████████| 2000/2000 [01:10<00:00, 28.42it/s]"
     ]
    },
    {
     "name": "stdout",
     "output_type": "stream",
     "text": [
      "1 0\n"
     ]
    },
    {
     "name": "stderr",
     "output_type": "stream",
     "text": [
      "\n"
     ]
    }
   ],
   "source": [
    "slevel6_policy, slevel_6_peak, speaks, slevel6_path_xs, slevel6_path_ys = level6_sarsa(None, 4, create_custom_map(32, 32), 5, e0=400, dE=50, episodes=2000)\n",
    "print(slevel_6_peak, speaks)\n"
   ]
  },
  {
   "cell_type": "code",
   "execution_count": null,
   "id": "43fb58bb",
   "metadata": {},
   "outputs": [],
   "source": []
  }
 ],
 "metadata": {
  "kernelspec": {
   "display_name": "Python 3 (ipykernel)",
   "language": "python",
   "name": "python3"
  },
  "language_info": {
   "codemirror_mode": {
    "name": "ipython",
    "version": 3
   },
   "file_extension": ".py",
   "mimetype": "text/x-python",
   "name": "python",
   "nbconvert_exporter": "python",
   "pygments_lexer": "ipython3",
   "version": "3.9.12"
  }
 },
 "nbformat": 4,
 "nbformat_minor": 5
}
