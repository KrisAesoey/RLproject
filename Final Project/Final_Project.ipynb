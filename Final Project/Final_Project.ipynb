{
 "cells": [
  {
   "cell_type": "code",
   "execution_count": 45,
   "id": "f343511d",
   "metadata": {},
   "outputs": [],
   "source": [
    "# imports for the rest of the assignment\n",
    "import numpy as np\n",
    "import random\n",
    "import matplotlib.pyplot as plt\n",
    "from tqdm import tqdm\n",
    "\n",
    "import torch\n",
    "from torch import nn\n",
    "from torch.autograd import backward, Variable\n",
    "import torch.optim as optim"
   ]
  },
  {
   "cell_type": "markdown",
   "id": "2bed4061",
   "metadata": {},
   "source": [
    "## Loading Files"
   ]
  },
  {
   "cell_type": "code",
   "execution_count": 50,
   "id": "80255987",
   "metadata": {},
   "outputs": [
    {
     "name": "stdout",
     "output_type": "stream",
     "text": [
      "32 32\n"
     ]
    }
   ],
   "source": [
    "# File names\n",
    "map_1_file = \"./data/map_1.dat\"\n",
    "map_2_file = \"./data/map_2.dat\"\n",
    "map_3_file = \"./data/map_3.dat\"\n",
    "map_4_file = \"./data/map_4.dat\"\n",
    "\n",
    "enemies_1_file = \"./data/enemies_1.dat\"\n",
    "enemies_2_file = \"./data/enemies_2.dat\"\n",
    "enemies_3_file = \"./data/enemies_3.dat\"\n",
    "\n",
    "maps = []\n",
    "for map_file in [map_1_file, map_2_file, map_3_file, map_4_file]:\n",
    "    map_data = []\n",
    "    with open(map_file, 'r') as file:\n",
    "        for line in file:\n",
    "            map_data.append(list(map(int, line.split())))\n",
    "    maps.append(map_data)\n",
    "    \n",
    "enemies = []\n",
    "for enemies_file in [enemies_1_file, enemies_2_file, enemies_3_file]:\n",
    "    enemies_data = []\n",
    "    with open(enemies_file, 'r') as file:\n",
    "        for line in file:\n",
    "            ey, ex, et = list(map(int, line.split()))\n",
    "            enemies_data.append([ey - 1, ex - 1, et])\n",
    "            \n",
    "    enemies.append(enemies_data)\n",
    "print(len(maps[0]), len(maps[0][0]))\n",
    "      \n",
    "      "
   ]
  },
  {
   "cell_type": "code",
   "execution_count": 17,
   "id": "0b1ebfdc",
   "metadata": {},
   "outputs": [],
   "source": [
    "# Algorithm 1 described in task sheet\n",
    "def find_intersects(i, j, ni, nj):\n",
    "    deltai = abs(ni - i)\n",
    "    deltaj = abs(nj - j)\n",
    "    n = deltai + deltaj + 1\n",
    "    di = 1 if ni > i else -1\n",
    "    dj = 1 if nj > j else -1\n",
    "    epsilon = deltai - deltaj\n",
    "    deltai = 2 * deltai\n",
    "    deltaj = 2 * deltaj\n",
    "    \n",
    "    tiles = []\n",
    "    #find interesects\n",
    "    while n > 0:\n",
    "        tiles.append((i, j))\n",
    "        # The difference in x direction is greater than y\n",
    "        if epsilon > 0:\n",
    "            i += di\n",
    "            epsilon -= deltaj\n",
    "            n -= 1\n",
    "        # y difference greater than x\n",
    "        elif epsilon < 0:\n",
    "            j += dj\n",
    "            epsilon += deltai\n",
    "            n -= 1\n",
    "        # equal difference in x and y\n",
    "        elif epsilon == 0:\n",
    "            i += di\n",
    "            j += dj\n",
    "            epsilon += deltai - deltaj\n",
    "            n -= 2\n",
    "        \n",
    "    return tiles\n"
   ]
  },
  {
   "cell_type": "code",
   "execution_count": 18,
   "id": "077f66fa",
   "metadata": {},
   "outputs": [],
   "source": [
    "def next_state(x, y, action, level):\n",
    "    energy = 0\n",
    "    # jump\n",
    "    if action == 1:\n",
    "        # if footing is air\n",
    "        if level[y+1][x] == 1:\n",
    "            y += 1\n",
    "            # if still air under\n",
    "            if level[y+1][x] == 1:\n",
    "                y += 1\n",
    "            \n",
    "        # if footing is solid\n",
    "        else:\n",
    "            # if not solid above\n",
    "            if level[y-1][x] != 2:\n",
    "                y -= 1\n",
    "                # if still not solid above\n",
    "                if level[y-1][x] != 2:\n",
    "                    y -= 1\n",
    "            \n",
    "            energy = -5\n",
    "            \n",
    "    # go left if not solid\n",
    "    elif action == 0:\n",
    "        energy = -1\n",
    "        if level[y][x-1] != 2:\n",
    "            x -= 1\n",
    "        # if footing is air\n",
    "        if level[y+1][x] == 1:\n",
    "            y += 1\n",
    "            # if footing still air move again and fall\n",
    "            if level[y+1][x] == 1:\n",
    "                if level[y][x-1] != 2:\n",
    "                    x -= 1\n",
    "                if level[y+1][x] == 1:\n",
    "                    y += 1\n",
    "    \n",
    "    # go right if not solid\n",
    "    elif action == 2:\n",
    "        energy = -1\n",
    "        if level[y][x+1] != 2:\n",
    "            x += 1\n",
    "        # if footing is air\n",
    "        if level[y+1][x] == 1:\n",
    "            y += 1\n",
    "            # if footing still air move again and fall\n",
    "            if level[y+1][x] == 1:\n",
    "                if level[y][x+1] != 2:\n",
    "                    x += 1\n",
    "                if level[y+1][x] == 1:\n",
    "                    y += 1\n",
    "    \n",
    "    return ((x, y), energy)\n",
    "            "
   ]
  },
  {
   "cell_type": "markdown",
   "id": "80fea06e",
   "metadata": {},
   "source": [
    "# Task 2\n",
    "\n",
    "Dynamic Programming using Iterative Policy Evaluation"
   ]
  },
  {
   "cell_type": "code",
   "execution_count": 31,
   "id": "68443007",
   "metadata": {},
   "outputs": [],
   "source": [
    "def level2(level, mms, pmm):\n",
    "    # value function height, width, action space\n",
    "    v_func = np.zeros((len(level), len(level[0])))\n",
    "    delta = 1\n",
    "    theta = 0.00000000001\n",
    "    \n",
    "    iterations = 0\n",
    "    \n",
    "    while(delta >= theta):\n",
    "        delta = 0.0\n",
    "        for row in range(len(level[0]) - 1, 0, -1):\n",
    "            for col in range(len(level) - 1):\n",
    "                if level[col][row] == 2:\n",
    "                    continue\n",
    "                    \n",
    "                # goal\n",
    "                if col == 1 and row == 30:\n",
    "                    continue\n",
    "                \n",
    "                v = v_func[col][row]\n",
    "                      \n",
    "                values = []\n",
    "                energies = []\n",
    "                \n",
    "                # find values and energy for all next states\n",
    "                for a in [0, 1, 2]:\n",
    "                    (nx, ny), e = next_state(row, col, a, level)\n",
    "                    values.append(v_func[ny, nx] + e)\n",
    "                    energies.append(e)\n",
    "                      \n",
    "                expected = max(values)\n",
    "                energy = energies[values.index(expected)]\n",
    "                \n",
    "                # check if an mm is at the position\n",
    "                for (my, mx, _) in mms:\n",
    "                    if col == my and row == mx:\n",
    "                        # update the value based on p of going back to start\n",
    "                        expected = (1 - pmm) * expected + pmm * (v_func[30, 1] + energy)\n",
    "                    \n",
    "                v_func[col, row] = expected\n",
    "                delta = max(delta, abs(v - v_func[col, row]))\n",
    "                \n",
    "        iterations += 1\n",
    "                      \n",
    "    return v_func, iterations"
   ]
  },
  {
   "cell_type": "code",
   "execution_count": 32,
   "id": "4b89a455",
   "metadata": {},
   "outputs": [],
   "source": [
    "def level2path(vf, level):\n",
    "    x, y = (1, 30)\n",
    "    path_x = [x]\n",
    "    path_y = [y]\n",
    "    \n",
    "    while not(x == 30 and y == 1):\n",
    "        states = []\n",
    "        values = []\n",
    "        for a in [0, 1, 2]:\n",
    "            (nx, ny), _ = next_state(x, y, a, level)\n",
    "            states.append((nx, ny))\n",
    "            values.append(vf[ny, nx])\n",
    "            \n",
    "        x, y = states[values.index(max(values))]\n",
    "        path_x.append(x)\n",
    "        path_y.append(y)\n",
    "    return path_x, path_y\n",
    "        "
   ]
  },
  {
   "cell_type": "code",
   "execution_count": 33,
   "id": "62a869f8",
   "metadata": {},
   "outputs": [
    {
     "data": {
      "image/png": "[encoded data removed]",
      "text/plain": [
       "<Figure size 432x288 with 1 Axes>"
      ]
     },
     "metadata": {
      "needs_background": "light"
     },
     "output_type": "display_data"
    },
    {
     "data": {
      "image/png": "[encoded data removed]",
      "text/plain": [
       "<Figure size 432x288 with 1 Axes>"
      ]
     },
     "metadata": {
      "needs_background": "light"
     },
     "output_type": "display_data"
    },
    {
     "name": "stdout",
     "output_type": "stream",
     "text": [
      "398\n"
     ]
    },
    {
     "data": {
      "image/png": "[encoded data removed]",
      "text/plain": [
       "<Figure size 432x288 with 1 Axes>"
      ]
     },
     "metadata": {
      "needs_background": "light"
     },
     "output_type": "display_data"
    },
    {
     "data": {
      "image/png": "[encoded data removed]",
      "text/plain": [
       "<Figure size 432x288 with 1 Axes>"
      ]
     },
     "metadata": {
      "needs_background": "light"
     },
     "output_type": "display_data"
    },
    {
     "name": "stdout",
     "output_type": "stream",
     "text": [
      "484\n"
     ]
    },
    {
     "data": {
      "image/png": "[encoded data removed]",
      "text/plain": [
       "<Figure size 432x288 with 1 Axes>"
      ]
     },
     "metadata": {
      "needs_background": "light"
     },
     "output_type": "display_data"
    },
    {
     "data": {
      "image/png": "[encoded data removed]",
      "text/plain": [
       "<Figure size 432x288 with 1 Axes>"
      ]
     },
     "metadata": {
      "needs_background": "light"
     },
     "output_type": "display_data"
    },
    {
     "name": "stdout",
     "output_type": "stream",
     "text": [
      "226\n"
     ]
    },
    {
     "data": {
      "image/png": "[encoded data removed]",
      "text/plain": [
       "<Figure size 432x288 with 1 Axes>"
      ]
     },
     "metadata": {
      "needs_background": "light"
     },
     "output_type": "display_data"
    },
    {
     "data": {
      "image/png": "[encoded data removed]",
      "text/plain": [
       "<Figure size 432x288 with 1 Axes>"
      ]
     },
     "metadata": {
      "needs_background": "light"
     },
     "output_type": "display_data"
    },
    {
     "name": "stdout",
     "output_type": "stream",
     "text": [
      "225\n"
     ]
    },
    {
     "data": {
      "image/png": "[encoded data removed]",
      "text/plain": [
       "<Figure size 432x288 with 1 Axes>"
      ]
     },
     "metadata": {
      "needs_background": "light"
     },
     "output_type": "display_data"
    },
    {
     "data": {
      "image/png": "[encoded data removed]",
      "text/plain": [
       "<Figure size 432x288 with 1 Axes>"
      ]
     },
     "metadata": {
      "needs_background": "light"
     },
     "output_type": "display_data"
    },
    {
     "name": "stdout",
     "output_type": "stream",
     "text": [
      "225\n"
     ]
    }
   ],
   "source": [
    "for pmm in [0.1, 0.2, 0.3, 0.5, 0.9]:\n",
    "    level2_vf, level2_iters = level2(maps[0], enemies[0], pmm)\n",
    "    path_x, path_y = level2path(level2_vf, maps[0])\n",
    "    plt.imshow(level2_vf)\n",
    "    plt.show()\n",
    "    plt.imshow(maps[0], cmap=\"gray\")\n",
    "    plt.plot(path_x, path_y)\n",
    "    plt.show()\n",
    "    print(level2_iters)"
   ]
  },
  {
   "cell_type": "markdown",
   "id": "d186bd76",
   "metadata": {},
   "source": [
    "# Task 3"
   ]
  },
  {
   "cell_type": "code",
   "execution_count": 105,
   "id": "d89da3dd",
   "metadata": {},
   "outputs": [],
   "source": [
    "def select_dictionary_action(Q, s, epsilon=0.1):\n",
    "    # explorative move\n",
    "    if random.random() < epsilon:\n",
    "        return random.randrange(0, 3)\n",
    "    # exploitative move\n",
    "    max_value = max(Q[s])\n",
    "    options = [i for i, a in enumerate(Q[s]) if a == max_value]\n",
    "    return np.random.choice(options)\n"
   ]
  },
  {
   "cell_type": "code",
   "execution_count": 153,
   "id": "ca20e3aa",
   "metadata": {},
   "outputs": [],
   "source": [
    "# Sarsa for estimating Q approximately q\n",
    "def level3_TD(episodes=20000, alpha=0.3, epsilon=0.1, max_steps=100000):\n",
    "    Q = {} # x, y, mm\n",
    "    \n",
    "    path_xs = []\n",
    "    path_ys = []\n",
    "    total_energy = 0\n",
    "    \n",
    "    for e in tqdm(range(episodes)):\n",
    "        x, y = (1, 30) # S\n",
    "        mmx = random.randrange(2, 30) # x coordinate of mm\n",
    "        s = str(x) + \" \" + str(y)\n",
    "        Q[s] = [0.0, 0.0, 0.0]\n",
    "        a = select_dictionary_action(Q, s, epsilon) # A\n",
    "        \n",
    "        # for trajectory plotting\n",
    "        xs = []\n",
    "        ys = []\n",
    "        current_energy = 0\n",
    "        \n",
    "        # time steps\n",
    "        for _ in range(max_steps):\n",
    "            xs.append(x)\n",
    "            ys.append(y)\n",
    "            R = 0\n",
    "            \n",
    "            # Observe R, S'. S' described as = n+value (for new)\n",
    "            (nx, ny), energy = next_state(x, y, a, maps[1])\n",
    "            nmmx = np.random.choice([max(2, mmx-1), min(29, mmx+1)])\n",
    "            \n",
    "            # find path of hubert this timestep\n",
    "            intersections = find_intersects(x, y, nx, ny)\n",
    "            for (ix, iy) in intersections:\n",
    "                if ix == mmx and iy == 20:\n",
    "                    nx, ny = (1, 30) # back to start\n",
    "                    break\n",
    "            \n",
    "            ns = str(nx) + \" \" + str(ny)\n",
    "            \n",
    "            if 16 < ny < 20:\n",
    "                ns += \" \" + str(nmmx)\n",
    "                \n",
    "            if not ns in Q:\n",
    "                Q[ns] = [0.0, 0.0, 0.0]\n",
    "            \n",
    "            # are we in the terminal state?\n",
    "            if nx == 30 and ny == 2:\n",
    "                xs.append(nx)\n",
    "                ys.append(ny)\n",
    "                # Only update when completed!\n",
    "                Q[s][a] = Q[s][a] + alpha * (R + Q[ns][na] - Q[s][a])\n",
    "                break\n",
    "            \n",
    "            R = energy\n",
    "            \n",
    "            # Choose action A'    \n",
    "            na = select_dictionary_action(Q, ns, epsilon)\n",
    "            \n",
    "            # Update X, S and A\n",
    "            Q[s][a] = Q[s][a] + alpha * (R + Q[ns][na] - Q[s][a])\n",
    "            x, y, mmx, s, a = (nx, ny, nmmx, ns, na)\n",
    "            current_energy -= R\n",
    "            \n",
    "        path_xs = xs\n",
    "        path_ys = ys\n",
    "        total_energy = current_energy\n",
    "    \n",
    "    return Q, path_xs, path_ys, total_energy"
   ]
  },
  {
   "cell_type": "code",
   "execution_count": 154,
   "id": "b2503159",
   "metadata": {},
   "outputs": [
    {
     "name": "stderr",
     "output_type": "stream",
     "text": [
      "100%|█████████████████████████████████████| 20000/20000 [06:07<00:00, 54.46it/s]\n"
     ]
    }
   ],
   "source": [
    "level_3Q, level3_path_xs, level3_path_ys, level3_te = level3_TD(epsilon=0)"
   ]
  },
  {
   "cell_type": "code",
   "execution_count": 156,
   "id": "a458bd01",
   "metadata": {},
   "outputs": [
    {
     "data": {
      "image/png": "[encoded data removed]",
      "text/plain": [
       "<Figure size 432x288 with 1 Axes>"
      ]
     },
     "metadata": {
      "needs_background": "light"
     },
     "output_type": "display_data"
    },
    {
     "name": "stdout",
     "output_type": "stream",
     "text": [
      "3757\n"
     ]
    }
   ],
   "source": [
    "plt.imshow(maps[1], cmap=\"gray\")\n",
    "plt.plot(level3_path_xs, level3_path_ys)\n",
    "plt.show()\n",
    "print(level3_te)"
   ]
  },
  {
   "cell_type": "markdown",
   "id": "b295d6f7",
   "metadata": {},
   "source": [
    "# Level 4\n",
    "\n",
    "Dictionary State Space\n",
    "One-hot Encoding for Sensors"
   ]
  },
  {
   "cell_type": "code",
   "execution_count": 7,
   "id": "5c4cae1b",
   "metadata": {},
   "outputs": [],
   "source": [
    "def fans_in_view(x, y, r, fans):\n",
    "    # fans in view\n",
    "    fans_in_view = \"\"\n",
    "    for dx in range(-r, r + 1):\n",
    "        for dy in range(-r, r + 1):\n",
    "            if dx == 0 and dy == 0:\n",
    "                continue\n",
    "            \n",
    "            for fx, fy in fans:\n",
    "                if x + dx == fx and y + dy == fy:\n",
    "                    fans_in_view += \" \" + str(dx) + \" \" + str(dy)\n",
    "                    \n",
    "    return fans_in_view.strip()"
   ]
  },
  {
   "cell_type": "code",
   "execution_count": 8,
   "id": "fc109b8c",
   "metadata": {},
   "outputs": [],
   "source": [
    "def move_fans(x, y, fans):\n",
    "    new_fans = []\n",
    "    for fx, fy in fans:\n",
    "        if x != fx:\n",
    "            if fy == 26:\n",
    "                fx = np.random.choice([max(5, fx-1), min(23, fx+1)])\n",
    "            elif fy == 17:\n",
    "                fx = np.random.choice([max(6, fx-1), min(24, fx+1)])\n",
    "            elif fy == 10:\n",
    "                fx = np.random.choice([max(5, fx-1), min(15, fx+1)])\n",
    "            elif fy == 3:\n",
    "                fx = np.random.choice([max(4, fx-1), min(30, fx+1)])\n",
    "        else:\n",
    "            if x < fx:\n",
    "                if fy == 26:\n",
    "                    fx = max(5, fx-1)\n",
    "                elif fy == 17:\n",
    "                    fx = max(6, fx-1)\n",
    "                elif fy == 10:\n",
    "                    fx = max(5, fx-1)\n",
    "                elif fy == 3:\n",
    "                    fx = max(4, fx-1)\n",
    "            else:\n",
    "                if fy == 26:\n",
    "                    fx = min(23, fx+1)\n",
    "                elif fy == 17:\n",
    "                    fx = min(24, fx+1)\n",
    "                elif fy == 10:\n",
    "                    fx = min(15, fx+1)\n",
    "                elif fy == 3:\n",
    "                    fx = min(430, fx+1)\n",
    "        new_fans.append((fx, fy))\n",
    "        \n",
    "    return new_fans\n",
    "                \n",
    "        "
   ]
  },
  {
   "cell_type": "code",
   "execution_count": 184,
   "id": "70abfb98",
   "metadata": {},
   "outputs": [],
   "source": [
    "# Sarsa for estimating Q approximately q\n",
    "def level4_TD(enemies, radius, episodes=20000, alpha=0.5, epsilon=0.1, max_steps=100000):\n",
    "    Q = {} # x, y, fans\n",
    "    \n",
    "    path_xs = []\n",
    "    path_ys = []\n",
    "    total_energy = 0\n",
    "    \n",
    "    fans = [(x, y) for x, y, _ in enemies]\n",
    "    \n",
    "    for e in tqdm(range(episodes)):\n",
    "        x, y = (1, 30) # S\n",
    "        # fans\n",
    "        fan_locs = []\n",
    "        for fan in fans:\n",
    "            fanx, fany = fan\n",
    "            if fany == 26:\n",
    "                fan_locs.append((random.randrange(fanx, 24), fany))\n",
    "            elif fany == 17:\n",
    "                fan_locs.append((random.randrange(fanx, 25), fany))\n",
    "            elif fany == 10:\n",
    "                fan_locs.append((random.randrange(fanx, 16), fany))\n",
    "            elif fany == 3:\n",
    "                fan_locs.append((random.randrange(fanx, 31), fany))\n",
    "                \n",
    "        fans_seen = fans_in_view(x, y, radius, fan_locs)\n",
    "        s = str(x) + \" \" + str(y) + \" \" + fans_seen\n",
    "        if not s in Q:\n",
    "            Q[s] = [0.0, 0.0, 0.0]\n",
    "            \n",
    "        a = select_dictionary_action(Q, s, epsilon) # A\n",
    "        \n",
    "        # for trajectory plotting\n",
    "        xs = []\n",
    "        ys = []\n",
    "        current_energy = 0\n",
    "        \n",
    "        # time steps\n",
    "        for _ in range(max_steps):\n",
    "            xs.append(x)\n",
    "            ys.append(y)\n",
    "            R = 0    \n",
    "            \n",
    "            # Observe R, S'. S' described as = n+value (for new)\n",
    "            (nx, ny), energy = next_state(x, y, a, maps[2])\n",
    "            # new fan locations\n",
    "            nfan_locs = move_fans(nx, ny, fan_locs)\n",
    "            fans_seen = fans_in_view(x, y, radius, fan_locs)\n",
    "            ns = str(nx) + \" \" + str(ny) + str(fans_seen)\n",
    "            if not ns in Q:\n",
    "                Q[ns] = [0.0, 0.0, 0.0]\n",
    "            \n",
    "            # have they intersected?\n",
    "            # find path of hubert this timestep\n",
    "            intersections = find_intersects(x, y, nx, ny)\n",
    "            \n",
    "            for (ix, iy) in intersections:\n",
    "                for nfx, nfy in nfan_locs:\n",
    "                    if ix == nfx and iy == nfy:\n",
    "                        R -=  np.random.uniform(20, 100)# back to star\n",
    "            \n",
    "            # are we in the terminal state?\n",
    "            if nx == 30 and ny == 1:\n",
    "                xs.append(nx)\n",
    "                ys.append(ny)\n",
    "                # Only update when completed!\n",
    "                Q[s][a] = Q[s][a] + alpha * (R + Q[ns][na] - Q[s][a])\n",
    "                break\n",
    "            \n",
    "            R = energy\n",
    "            \n",
    "            # Choose action A'    \n",
    "            na = select_dictionary_action(Q, ns, epsilon)\n",
    "            \n",
    "            # Update X, S and A\n",
    "            Q[s][a] = Q[s][a] + alpha * (R + Q[ns][na] - Q[s][a])\n",
    "            x, y, s, a = (nx, ny, ns, na)\n",
    "            current_energy -= R\n",
    "            \n",
    "        path_xs = xs\n",
    "        path_ys = ys\n",
    "        total_energy = current_energy\n",
    "    \n",
    "    return Q, path_xs, path_ys, total_energy\n",
    "\n"
   ]
  },
  {
   "cell_type": "code",
   "execution_count": 185,
   "id": "9b3f7f01",
   "metadata": {},
   "outputs": [
    {
     "name": "stderr",
     "output_type": "stream",
     "text": [
      "100%|███████████████████████████████████| 20000/20000 [00:15<00:00, 1265.94it/s]\n"
     ]
    }
   ],
   "source": [
    "level_4Q, level4_path_xs, level4_path_ys, te = level4_TD(enemies[2], 4, epsilon=0.01)\n"
   ]
  },
  {
   "cell_type": "code",
   "execution_count": 186,
   "id": "252451af",
   "metadata": {
    "scrolled": true
   },
   "outputs": [
    {
     "data": {
      "image/png": "[encoded data removed]",
      "text/plain": [
       "<Figure size 432x288 with 1 Axes>"
      ]
     },
     "metadata": {
      "needs_background": "light"
     },
     "output_type": "display_data"
    },
    {
     "name": "stdout",
     "output_type": "stream",
     "text": [
      "85 158\n"
     ]
    }
   ],
   "source": [
    "plt.imshow(maps[2], cmap=\"gray\")\n",
    "plt.plot(level4_path_xs, level4_path_ys)\n",
    "plt.show()\n",
    "print(len(level4_path_xs), te)"
   ]
  },
  {
   "cell_type": "markdown",
   "id": "b2c92bde",
   "metadata": {},
   "source": [
    "# Level 5\n",
    "\n",
    "Solve using both Q-learning tabularly and then solve using Function Approximation"
   ]
  },
  {
   "cell_type": "code",
   "execution_count": 167,
   "id": "a11c8120",
   "metadata": {},
   "outputs": [],
   "source": [
    "def level5_next_state(x, y, action, level):\n",
    "    energy = 0\n",
    "    # jump\n",
    "    if action == 1:\n",
    "        if level[y+1][x] == 1:\n",
    "            # if footing is air\n",
    "            if random.randrange(0, 3) == 0:\n",
    "                if level[y-1][x] != 2:\n",
    "                    y -= 1\n",
    "                energy = -3\n",
    "            else:\n",
    "                y += 1\n",
    "                # if still air under\n",
    "                if level[y+1][x] == 1:\n",
    "                    y += 1\n",
    "            \n",
    "        # if footing is solid\n",
    "        else:\n",
    "            # if not solid above\n",
    "            if level[y-1][x] != 2:\n",
    "                y -= 1\n",
    "                # if still not solid above\n",
    "                if level[y-1][x] != 2:\n",
    "                    y -= 1\n",
    "            \n",
    "            energy = -5\n",
    "            \n",
    "    # go left if not solid\n",
    "    elif action == 0:\n",
    "        energy = -1\n",
    "        if level[y][x-1] != 2:\n",
    "            x -= 1\n",
    "        # if footing is air\n",
    "        if level[y+1][x] == 1:\n",
    "            y += 1\n",
    "            # if footing still air move again and fall\n",
    "            if level[y+1][x] == 1:\n",
    "                if level[y][x-1] != 2:\n",
    "                    x -= 1\n",
    "                if level[y+1][x] == 1:\n",
    "                    y += 1\n",
    "    \n",
    "    # go right if not solid\n",
    "    elif action == 2:\n",
    "        energy = -1\n",
    "        if level[y][x+1] != 2:\n",
    "            x += 1\n",
    "        # if footing is air\n",
    "        if level[y+1][x] == 1:\n",
    "            y += 1\n",
    "            # if footing still air move again and fall\n",
    "            if level[y+1][x] == 1:\n",
    "                if level[y][x+1] != 2:\n",
    "                    x += 1\n",
    "                if level[y+1][x] == 1:\n",
    "                    y += 1\n",
    "    \n",
    "    return ((x, y), energy)"
   ]
  },
  {
   "cell_type": "code",
   "execution_count": 53,
   "id": "93b0f36b",
   "metadata": {},
   "outputs": [],
   "source": [
    "def get_local_features(x, y, r, level):\n",
    "    features = []\n",
    "    for dy in range(-r, r + 1):\n",
    "        for dx in range(-r, r + 1):\n",
    "            features.append(level[y+dy][x+dx])\n",
    "    return features"
   ]
  },
  {
   "cell_type": "code",
   "execution_count": 55,
   "id": "85af80d8",
   "metadata": {},
   "outputs": [],
   "source": [
    "def pad_level(l, r):\n",
    "    level = [[-1 for _ in range(len(l[0]) + 2 * r)] for _ in range(len(l) + 2 * r)]\n",
    "    for y in range(len(l)):\n",
    "        for x in range(len(l[0])):\n",
    "            level[y + r][x + r] = l[y][x]\n",
    "    \n",
    "    return level\n"
   ]
  },
  {
   "cell_type": "markdown",
   "id": "c4c26511",
   "metadata": {},
   "source": [
    "Solution using Q-learning"
   ]
  },
  {
   "cell_type": "code",
   "execution_count": 370,
   "id": "b218a976",
   "metadata": {},
   "outputs": [],
   "source": [
    "# Sarsa for estimating Q approximately q\n",
    "def level5_TD(radius, level=maps[3], episodes=20000, alpha=0.3, epsilon=0.1, max_steps=100000):\n",
    "    Q = {} # local features\n",
    "    \n",
    "    path_xs = []\n",
    "    path_ys = []\n",
    "    best_xs = []\n",
    "    best_ys = []\n",
    "    best_energy = float(\"inf\")\n",
    "    final_energy = 0\n",
    "    \n",
    "    level = pad_level(level, radius)\n",
    "    \n",
    "    for e in tqdm(range(episodes)):\n",
    "        x, y = (1 + radius, 30 + radius) # S\n",
    "        s = \"-\".join(str(_) for _ in get_local_features(x, y, radius, level))\n",
    "        if not s in Q:\n",
    "            Q[s] = [0.0, 0.0, 0.0]\n",
    "            \n",
    "        a = select_dictionary_action(Q, s, epsilon) # A\n",
    "        \n",
    "        # for trajectory plotting\n",
    "        xs = []\n",
    "        ys = []\n",
    "        current_energy = 0\n",
    "        \n",
    "        # time steps\n",
    "        for _ in range(max_steps):\n",
    "            xs.append(x)\n",
    "            ys.append(y)\n",
    "            R = 0    \n",
    "            \n",
    "            # Observe R, S'. S' described as = n+value (for new)\n",
    "            (nx, ny), energy = level5_next_state(x, y, a, level)\n",
    "            ns = \"-\".join(str(_) for _ in get_local_features(nx, ny, radius, level))\n",
    "            if not ns in Q:\n",
    "                Q[ns] = [0.0, 0.0, 0.0]\n",
    "            \n",
    "            # are we in the terminal state?\n",
    "            if nx == 30 + radius and ny == 1 + radius:\n",
    "                xs.append(nx)\n",
    "                ys.append(ny)\n",
    "                # Only update when completed!\n",
    "                Q[s][a] = Q[s][a] + alpha * (R + Q[ns][na] - Q[s][a])\n",
    "                break\n",
    "            \n",
    "            R = energy\n",
    "            \n",
    "            # Choose action A'    \n",
    "            na = select_dictionary_action(Q, ns, epsilon)\n",
    "            \n",
    "            # Update X, S and A\n",
    "            Q[s][a] = Q[s][a] + alpha * (R + Q[ns][na] - Q[s][a])\n",
    "            x, y, s, a = (nx, ny, ns, na)\n",
    "            current_energy -= R\n",
    "            \n",
    "        path_xs = xs\n",
    "        path_ys = ys\n",
    "        if current_energy < best_energy:\n",
    "            best_xs = xs\n",
    "            best_ys = ys\n",
    "            best_energy = current_energy\n",
    "        final_energy = current_energy\n",
    "    \n",
    "    return Q, path_xs, path_ys, best_xs, best_ys, final_energy\n",
    "\n"
   ]
  },
  {
   "cell_type": "code",
   "execution_count": 371,
   "id": "cfefcf45",
   "metadata": {
    "scrolled": true
   },
   "outputs": [
    {
     "name": "stderr",
     "output_type": "stream",
     "text": [
      "100%|████████████████████████████████████| 20000/20000 [00:35<00:00, 563.25it/s]\n"
     ]
    }
   ],
   "source": [
    "l5Q_td, l5_path_xs_td, l5_path_ys, l5_best_xs, l5_best_ys, l5td_te = level5_TD(4, epsilon=0)\n"
   ]
  },
  {
   "cell_type": "code",
   "execution_count": 372,
   "id": "33f89c84",
   "metadata": {},
   "outputs": [
    {
     "data": {
      "image/png": "[encoded data removed]",
      "text/plain": [
       "<Figure size 432x288 with 1 Axes>"
      ]
     },
     "metadata": {
      "needs_background": "light"
     },
     "output_type": "display_data"
    },
    {
     "data": {
      "image/png": "[encoded data removed]",
      "text/plain": [
       "<Figure size 432x288 with 1 Axes>"
      ]
     },
     "metadata": {
      "needs_background": "light"
     },
     "output_type": "display_data"
    },
    {
     "name": "stdout",
     "output_type": "stream",
     "text": [
      "77 157\n"
     ]
    }
   ],
   "source": [
    "plt.imshow(pad_level(maps[3], 4), cmap=\"gray\")\n",
    "plt.plot(l5_path_xs_td, l5_path_ys)\n",
    "plt.show()\n",
    "plt.imshow(pad_level(maps[3], 4), cmap=\"gray\")\n",
    "plt.plot(l5_best_xs, l5_best_ys)\n",
    "plt.show()\n",
    "print(len(l5_path_xs_td), l5td_te)"
   ]
  },
  {
   "cell_type": "markdown",
   "id": "94c81cf6",
   "metadata": {},
   "source": [
    "Solution using PyTorch and function approximation"
   ]
  },
  {
   "cell_type": "code",
   "execution_count": 300,
   "id": "0ebf1178",
   "metadata": {},
   "outputs": [],
   "source": [
    "class Policy(nn.Module):\n",
    "    \"\"\"PyTorch solution for function approximation,\n",
    "    input \"\"\"\n",
    "    def __init__(self, local_window=9):\n",
    "        super().__init__()\n",
    "        \n",
    "        self.fc1 = nn.Linear(local_window**2, 64)\n",
    "        self.fc2 = nn.Linear(64, 3)\n",
    "    \n",
    "    def forward(self, x):\n",
    "        out = torch.relu(self.fc1(x))\n",
    "        out = self.fc2(out)\n",
    "        return out\n"
   ]
  },
  {
   "cell_type": "code",
   "execution_count": 355,
   "id": "8b9d789c",
   "metadata": {},
   "outputs": [],
   "source": [
    "def select_policy_action(policy, s, epsilon=0.1):\n",
    "    s_tensor = torch.tensor(s).type(torch.FloatTensor)\n",
    "    a_value = policy(s_tensor)\n",
    "    a = np.random.choice(np.flatnonzero(a_value == a_value.max()))\n",
    "    # explorative move\n",
    "    if random.random() < epsilon:\n",
    "        return random.randrange(0, 3), a_value\n",
    "    # exploitative move\n",
    "    return a, a_value\n",
    "\n"
   ]
  },
  {
   "cell_type": "code",
   "execution_count": 368,
   "id": "937eefe5",
   "metadata": {},
   "outputs": [],
   "source": [
    "# Semi-gradient Sarsa with function approximation using neural network\n",
    "def level5_func_approx(radius, episodes=20000, gamma=0.99, epsilons=[0.9, 0.5, 0.1, 0.01], max_steps=100000):\n",
    "    \n",
    "    policy = Policy(radius * 2 + 1)\n",
    "    optimizer = optim.Adam(policy.parameters(), lr=0.01)\n",
    "    gamma = 1.0\n",
    "    \n",
    "    path_xs = []\n",
    "    path_ys = []\n",
    "    total_energy = 0\n",
    "    epsilon, e_index = (epsilons[0], 0)\n",
    "    \n",
    "    # fix to be parameter\n",
    "    level = pad_level(maps[3], radius)\n",
    "    \n",
    "    for e in tqdm(range(episodes)):\n",
    "        x, y = (1 + radius, 30 + radius) # S\n",
    "        s = get_local_features(x, y, radius, level)\n",
    "        \n",
    "        # select action from policy\n",
    "        a, a_v = select_policy_action(policy, s, epsilon)\n",
    "        \n",
    "        # for trajectory plotting\n",
    "        xs = []\n",
    "        ys = []\n",
    "        current_energy = 0\n",
    "        \"\"\"\n",
    "        if e != 0 and e % (episodes // len(epsilons)) == 0:\n",
    "            epsilon = epsilons[e_index+1]\n",
    "            e_index += 1\n",
    "            print(e, epsilon)\n",
    "        \"\"\"\n",
    "        if e == 10:\n",
    "            e_index += 1\n",
    "        \n",
    "        if e == 25:\n",
    "            e_index += 1\n",
    "        \n",
    "        # time steps\n",
    "        for _ in range(max_steps):\n",
    "            xs.append(x)\n",
    "            ys.append(y)\n",
    "            \n",
    "            # Observe R, S'. S' described as = n+value (for new)\n",
    "            (nx, ny), R = level5_next_state(x, y, a, level)\n",
    "            \n",
    "            # are we in the terminal state?\n",
    "            if nx == 30 + radius and ny == 1 + radius:\n",
    "                xs.append(nx)\n",
    "                ys.append(ny)\n",
    "                # Only update when completed!\n",
    "                final_loss = -(R - a_v[a])\n",
    "                final_loss.backward()\n",
    "                optimizer.step()\n",
    "                optimizer.zero_grad()\n",
    "                break\n",
    "            \n",
    "            # Choose action A' as a function of  q(S', w)\n",
    "            ns = get_local_features(nx, ny, radius, level)\n",
    "            na, na_v = select_policy_action(policy, ns, epsilon)\n",
    "            \n",
    "            # Update X, S and A\n",
    "            loss = -(R + gamma * na_v[na] - a_v[a])\n",
    "            loss.backward()\n",
    "            optimizer.step()\n",
    "            optimizer.zero_grad()\n",
    "            x, y, s, a, a_v = (nx, ny, ns, na, na_v.detach())\n",
    "            current_energy -= R\n",
    "            \n",
    "        path_xs = xs\n",
    "        path_ys = ys\n",
    "        total_energy = current_energy\n",
    "        \n",
    "        if e % 20 == 0:\n",
    "            plt.imshow(level, cmap=\"gray\")\n",
    "            plt.plot(path_xs, path_ys)\n",
    "            plt.show()\n",
    "    \n",
    "    return path_xs, path_ys, total_energy\n",
    "\n"
   ]
  },
  {
   "cell_type": "code",
   "execution_count": 369,
   "id": "c7d40558",
   "metadata": {},
   "outputs": [
    {
     "name": "stderr",
     "output_type": "stream",
     "text": [
      "\r",
      "  0%|                                                   | 0/200 [00:00<?, ?it/s]"
     ]
    },
    {
     "data": {
      "image/png": "[encoded data removed]",
      "text/plain": [
       "<Figure size 432x288 with 1 Axes>"
      ]
     },
     "metadata": {
      "needs_background": "light"
     },
     "output_type": "display_data"
    },
    {
     "name": "stderr",
     "output_type": "stream",
     "text": [
      " 10%|████                                    | 20/200 [07:05<1:01:36, 20.54s/it]"
     ]
    },
    {
     "data": {
      "image/png": "[encoded data removed]",
      "text/plain": [
       "<Figure size 432x288 with 1 Axes>"
      ]
     },
     "metadata": {
      "needs_background": "light"
     },
     "output_type": "display_data"
    },
    {
     "name": "stderr",
     "output_type": "stream",
     "text": [
      " 20%|████████▍                                 | 40/200 [14:02<56:48, 21.30s/it]"
     ]
    },
    {
     "data": {
      "image/png": "[encoded data removed]",
      "text/plain": [
       "<Figure size 432x288 with 1 Axes>"
      ]
     },
     "metadata": {
      "needs_background": "light"
     },
     "output_type": "display_data"
    },
    {
     "name": "stderr",
     "output_type": "stream",
     "text": [
      " 30%|████████████▌                             | 60/200 [21:30<50:10, 21.50s/it]\n"
     ]
    },
    {
     "ename": "KeyboardInterrupt",
     "evalue": "",
     "output_type": "error",
     "traceback": [
      "\u001b[0;31m---------------------------------------------------------------------------\u001b[0m",
      "\u001b[0;31mKeyboardInterrupt\u001b[0m                         Traceback (most recent call last)",
      "Input \u001b[0;32mIn [369]\u001b[0m, in \u001b[0;36m<cell line: 1>\u001b[0;34m()\u001b[0m\n\u001b[0;32m----> 1\u001b[0m level5_path_xs, level5_path_ys, level5_te \u001b[38;5;241m=\u001b[39m \u001b[43mlevel5_func_approx\u001b[49m\u001b[43m(\u001b[49m\u001b[38;5;241;43m4\u001b[39;49m\u001b[43m,\u001b[49m\u001b[43m \u001b[49m\u001b[43mepisodes\u001b[49m\u001b[38;5;241;43m=\u001b[39;49m\u001b[38;5;241;43m200\u001b[39;49m\u001b[43m,\u001b[49m\u001b[43m \u001b[49m\u001b[43mepsilons\u001b[49m\u001b[38;5;241;43m=\u001b[39;49m\u001b[43m[\u001b[49m\u001b[38;5;241;43m0.9\u001b[39;49m\u001b[43m,\u001b[49m\u001b[43m \u001b[49m\u001b[38;5;241;43m0.1\u001b[39;49m\u001b[43m,\u001b[49m\u001b[43m \u001b[49m\u001b[38;5;241;43m0.01\u001b[39;49m\u001b[43m]\u001b[49m\u001b[43m)\u001b[49m\n",
      "Input \u001b[0;32mIn [368]\u001b[0m, in \u001b[0;36mlevel5_func_approx\u001b[0;34m(radius, episodes, gamma, epsilons, max_steps)\u001b[0m\n\u001b[1;32m     62\u001b[0m \u001b[38;5;66;03m# Update X, S and A\u001b[39;00m\n\u001b[1;32m     63\u001b[0m loss \u001b[38;5;241m=\u001b[39m \u001b[38;5;241m-\u001b[39m(R \u001b[38;5;241m+\u001b[39m gamma \u001b[38;5;241m*\u001b[39m na_v[na] \u001b[38;5;241m-\u001b[39m a_v[a])\n\u001b[0;32m---> 64\u001b[0m \u001b[43mloss\u001b[49m\u001b[38;5;241;43m.\u001b[39;49m\u001b[43mbackward\u001b[49m\u001b[43m(\u001b[49m\u001b[43m)\u001b[49m\n\u001b[1;32m     65\u001b[0m optimizer\u001b[38;5;241m.\u001b[39mstep()\n\u001b[1;32m     66\u001b[0m optimizer\u001b[38;5;241m.\u001b[39mzero_grad()\n",
      "File \u001b[0;32m~/miniforge3/lib/python3.9/site-packages/torch/_tensor.py:307\u001b[0m, in \u001b[0;36mTensor.backward\u001b[0;34m(self, gradient, retain_graph, create_graph, inputs)\u001b[0m\n\u001b[1;32m    298\u001b[0m \u001b[38;5;28;01mif\u001b[39;00m has_torch_function_unary(\u001b[38;5;28mself\u001b[39m):\n\u001b[1;32m    299\u001b[0m     \u001b[38;5;28;01mreturn\u001b[39;00m handle_torch_function(\n\u001b[1;32m    300\u001b[0m         Tensor\u001b[38;5;241m.\u001b[39mbackward,\n\u001b[1;32m    301\u001b[0m         (\u001b[38;5;28mself\u001b[39m,),\n\u001b[0;32m   (...)\u001b[0m\n\u001b[1;32m    305\u001b[0m         create_graph\u001b[38;5;241m=\u001b[39mcreate_graph,\n\u001b[1;32m    306\u001b[0m         inputs\u001b[38;5;241m=\u001b[39minputs)\n\u001b[0;32m--> 307\u001b[0m \u001b[43mtorch\u001b[49m\u001b[38;5;241;43m.\u001b[39;49m\u001b[43mautograd\u001b[49m\u001b[38;5;241;43m.\u001b[39;49m\u001b[43mbackward\u001b[49m\u001b[43m(\u001b[49m\u001b[38;5;28;43mself\u001b[39;49m\u001b[43m,\u001b[49m\u001b[43m \u001b[49m\u001b[43mgradient\u001b[49m\u001b[43m,\u001b[49m\u001b[43m \u001b[49m\u001b[43mretain_graph\u001b[49m\u001b[43m,\u001b[49m\u001b[43m \u001b[49m\u001b[43mcreate_graph\u001b[49m\u001b[43m,\u001b[49m\u001b[43m \u001b[49m\u001b[43minputs\u001b[49m\u001b[38;5;241;43m=\u001b[39;49m\u001b[43minputs\u001b[49m\u001b[43m)\u001b[49m\n",
      "File \u001b[0;32m~/miniforge3/lib/python3.9/site-packages/torch/autograd/__init__.py:154\u001b[0m, in \u001b[0;36mbackward\u001b[0;34m(tensors, grad_tensors, retain_graph, create_graph, grad_variables, inputs)\u001b[0m\n\u001b[1;32m    151\u001b[0m \u001b[38;5;28;01mif\u001b[39;00m retain_graph \u001b[38;5;129;01mis\u001b[39;00m \u001b[38;5;28;01mNone\u001b[39;00m:\n\u001b[1;32m    152\u001b[0m     retain_graph \u001b[38;5;241m=\u001b[39m create_graph\n\u001b[0;32m--> 154\u001b[0m \u001b[43mVariable\u001b[49m\u001b[38;5;241;43m.\u001b[39;49m\u001b[43m_execution_engine\u001b[49m\u001b[38;5;241;43m.\u001b[39;49m\u001b[43mrun_backward\u001b[49m\u001b[43m(\u001b[49m\n\u001b[1;32m    155\u001b[0m \u001b[43m    \u001b[49m\u001b[43mtensors\u001b[49m\u001b[43m,\u001b[49m\u001b[43m \u001b[49m\u001b[43mgrad_tensors_\u001b[49m\u001b[43m,\u001b[49m\u001b[43m \u001b[49m\u001b[43mretain_graph\u001b[49m\u001b[43m,\u001b[49m\u001b[43m \u001b[49m\u001b[43mcreate_graph\u001b[49m\u001b[43m,\u001b[49m\u001b[43m \u001b[49m\u001b[43minputs\u001b[49m\u001b[43m,\u001b[49m\n\u001b[1;32m    156\u001b[0m \u001b[43m    \u001b[49m\u001b[43mallow_unreachable\u001b[49m\u001b[38;5;241;43m=\u001b[39;49m\u001b[38;5;28;43;01mTrue\u001b[39;49;00m\u001b[43m,\u001b[49m\u001b[43m \u001b[49m\u001b[43maccumulate_grad\u001b[49m\u001b[38;5;241;43m=\u001b[39;49m\u001b[38;5;28;43;01mTrue\u001b[39;49;00m\u001b[43m)\u001b[49m\n",
      "\u001b[0;31mKeyboardInterrupt\u001b[0m: "
     ]
    }
   ],
   "source": [
    "level5_path_xs, level5_path_ys, level5_te = level5_func_approx(4, episodes=200, epsilons=[0.9, 0.1, 0.01])\n",
    "\n"
   ]
  },
  {
   "cell_type": "code",
   "execution_count": 211,
   "id": "b684611c",
   "metadata": {},
   "outputs": [
    {
     "data": {
      "image/png": "[encoded data removed]",
      "text/plain": [
       "<Figure size 432x288 with 1 Axes>"
      ]
     },
     "metadata": {
      "needs_background": "light"
     },
     "output_type": "display_data"
    },
    {
     "name": "stdout",
     "output_type": "stream",
     "text": [
      "48641 122561\n"
     ]
    }
   ],
   "source": [
    "plt.imshow(pad_level(maps[3], 4), cmap=\"gray\")\n",
    "plt.plot(level5_path_xs, level5_path_ys)\n",
    "plt.show()\n",
    "print(len(level5_path_xs), level5_te)"
   ]
  },
  {
   "cell_type": "code",
   "execution_count": 210,
   "id": "016599f7",
   "metadata": {},
   "outputs": [
    {
     "name": "stderr",
     "output_type": "stream",
     "text": [
      "\r",
      "  0%|                                                  | 0/2000 [00:00<?, ?it/s]"
     ]
    },
    {
     "data": {
      "image/png": "[encoded data removed]",
      "text/plain": [
       "<Figure size 432x288 with 1 Axes>"
      ]
     },
     "metadata": {
      "needs_background": "light"
     },
     "output_type": "display_data"
    },
    {
     "name": "stderr",
     "output_type": "stream",
     "text": [
      "  0%|▏                                      | 10/2000 [00:21<1:08:30,  2.07s/it]"
     ]
    },
    {
     "data": {
      "image/png": "[encoded data removed]",
      "text/plain": [
       "<Figure size 432x288 with 1 Axes>"
      ]
     },
     "metadata": {
      "needs_background": "light"
     },
     "output_type": "display_data"
    },
    {
     "name": "stderr",
     "output_type": "stream",
     "text": [
      "  1%|▍                                      | 20/2000 [00:41<1:08:29,  2.08s/it]"
     ]
    },
    {
     "data": {
      "image/png": "[encoded data removed]",
      "text/plain": [
       "<Figure size 432x288 with 1 Axes>"
      ]
     },
     "metadata": {
      "needs_background": "light"
     },
     "output_type": "display_data"
    },
    {
     "name": "stderr",
     "output_type": "stream",
     "text": [
      "  2%|▌                                      | 30/2000 [01:02<1:08:02,  2.07s/it]"
     ]
    },
    {
     "data": {
      "image/png": "[encoded data removed]",
      "text/plain": [
       "<Figure size 432x288 with 1 Axes>"
      ]
     },
     "metadata": {
      "needs_background": "light"
     },
     "output_type": "display_data"
    },
    {
     "name": "stderr",
     "output_type": "stream",
     "text": [
      "  2%|▌                                      | 32/2000 [01:08<1:09:55,  2.13s/it]\n"
     ]
    },
    {
     "ename": "KeyboardInterrupt",
     "evalue": "",
     "output_type": "error",
     "traceback": [
      "\u001b[0;31m---------------------------------------------------------------------------\u001b[0m",
      "\u001b[0;31mKeyboardInterrupt\u001b[0m                         Traceback (most recent call last)",
      "Input \u001b[0;32mIn [210]\u001b[0m, in \u001b[0;36m<cell line: 1>\u001b[0;34m()\u001b[0m\n\u001b[0;32m----> 1\u001b[0m level5_path_xs, level5_path_ys, level5_te \u001b[38;5;241m=\u001b[39m \u001b[43mlevel5_func_approx\u001b[49m\u001b[43m(\u001b[49m\u001b[38;5;241;43m4\u001b[39;49m\u001b[43m,\u001b[49m\u001b[43m \u001b[49m\u001b[43mepisodes\u001b[49m\u001b[38;5;241;43m=\u001b[39;49m\u001b[38;5;241;43m2000\u001b[39;49m\u001b[43m,\u001b[49m\u001b[43m \u001b[49m\u001b[43mepsilons\u001b[49m\u001b[38;5;241;43m=\u001b[39;49m\u001b[43m[\u001b[49m\u001b[38;5;241;43m0.9\u001b[39;49m\u001b[43m,\u001b[49m\u001b[43m \u001b[49m\u001b[38;5;241;43m0.5\u001b[39;49m\u001b[43m,\u001b[49m\u001b[43m \u001b[49m\u001b[38;5;241;43m0.25\u001b[39;49m\u001b[43m,\u001b[49m\u001b[43m \u001b[49m\u001b[38;5;241;43m0.1\u001b[39;49m\u001b[43m]\u001b[49m\u001b[43m,\u001b[49m\u001b[43m \u001b[49m\u001b[43mmax_steps\u001b[49m\u001b[38;5;241;43m=\u001b[39;49m\u001b[38;5;241;43m50000\u001b[39;49m\u001b[43m)\u001b[49m\n",
      "Input \u001b[0;32mIn [207]\u001b[0m, in \u001b[0;36mlevel5_func_approx\u001b[0;34m(radius, episodes, alpha, epsilons, max_steps)\u001b[0m\n\u001b[1;32m     50\u001b[0m     \u001b[38;5;28;01mbreak\u001b[39;00m\n\u001b[1;32m     52\u001b[0m \u001b[38;5;66;03m# Choose action A' as a function of  q(S', w)\u001b[39;00m\n\u001b[0;32m---> 53\u001b[0m ns \u001b[38;5;241m=\u001b[39m \u001b[43mget_local_features\u001b[49m\u001b[43m(\u001b[49m\u001b[43mnx\u001b[49m\u001b[43m,\u001b[49m\u001b[43m \u001b[49m\u001b[43mny\u001b[49m\u001b[43m,\u001b[49m\u001b[43m \u001b[49m\u001b[43mradius\u001b[49m\u001b[43m,\u001b[49m\u001b[43m \u001b[49m\u001b[43mlevel\u001b[49m\u001b[43m)\u001b[49m\n\u001b[1;32m     54\u001b[0m ns_tensor \u001b[38;5;241m=\u001b[39m torch\u001b[38;5;241m.\u001b[39mtensor(ns)\u001b[38;5;241m.\u001b[39mtype(torch\u001b[38;5;241m.\u001b[39mFloatTensor)\n\u001b[1;32m     55\u001b[0m na \u001b[38;5;241m=\u001b[39m select_policy_action(policy, ns_tensor, epsilon)\n",
      "Input \u001b[0;32mIn [53]\u001b[0m, in \u001b[0;36mget_local_features\u001b[0;34m(x, y, r, level)\u001b[0m\n\u001b[1;32m      1\u001b[0m \u001b[38;5;28;01mdef\u001b[39;00m \u001b[38;5;21mget_local_features\u001b[39m(x, y, r, level):\n\u001b[1;32m      2\u001b[0m     features \u001b[38;5;241m=\u001b[39m []\n\u001b[0;32m----> 3\u001b[0m     \u001b[38;5;28;01mfor\u001b[39;00m dy \u001b[38;5;129;01min\u001b[39;00m \u001b[38;5;28;43mrange\u001b[39;49m\u001b[43m(\u001b[49m\u001b[38;5;241;43m-\u001b[39;49m\u001b[43mr\u001b[49m\u001b[43m,\u001b[49m\u001b[43m \u001b[49m\u001b[43mr\u001b[49m\u001b[43m \u001b[49m\u001b[38;5;241;43m+\u001b[39;49m\u001b[43m \u001b[49m\u001b[38;5;241;43m1\u001b[39;49m\u001b[43m)\u001b[49m:\n\u001b[1;32m      4\u001b[0m         \u001b[38;5;28;01mfor\u001b[39;00m dx \u001b[38;5;129;01min\u001b[39;00m \u001b[38;5;28mrange\u001b[39m(\u001b[38;5;241m-\u001b[39mr, r \u001b[38;5;241m+\u001b[39m \u001b[38;5;241m1\u001b[39m):\n\u001b[1;32m      5\u001b[0m             features\u001b[38;5;241m.\u001b[39mappend(level[y\u001b[38;5;241m+\u001b[39mdy][x\u001b[38;5;241m+\u001b[39mdx])\n",
      "\u001b[0;31mKeyboardInterrupt\u001b[0m: "
     ]
    }
   ],
   "source": [
    "level5_path_xs, level5_path_ys, level5_te = level5_func_approx(4, episodes=2000, epsilons=[0.9, 0.5, 0.25, 0.1], max_steps=50000)\n"
   ]
  },
  {
   "cell_type": "code",
   "execution_count": null,
   "id": "6aa7b4b8",
   "metadata": {},
   "outputs": [],
   "source": []
  }
 ],
 "metadata": {
  "kernelspec": {
   "display_name": "Python 3 (ipykernel)",
   "language": "python",
   "name": "python3"
  },
  "language_info": {
   "codemirror_mode": {
    "name": "ipython",
    "version": 3
   },
   "file_extension": ".py",
   "mimetype": "text/x-python",
   "name": "python",
   "nbconvert_exporter": "python",
   "pygments_lexer": "ipython3",
   "version": "3.9.12"
  }
 },
 "nbformat": 4,
 "nbformat_minor": 5
}
