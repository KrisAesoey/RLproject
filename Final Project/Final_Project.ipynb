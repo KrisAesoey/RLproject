{
 "cells": [
  {
   "cell_type": "markdown",
   "metadata": {},
   "source": [
    "# Reinforcement Learning Final Project\n",
    "\n",
    "### Table of Contents\n",
    "\n",
    "* Imports\n",
    "* File loading and parsing\n",
    "* Util functions\n",
    "* Level 1 (Multi-armed bandit)\n",
    "* Level 2 (Dynamic programming)\n",
    "* Level 3 (1-step Sarsa TD with limited statespace)\n",
    "* Level 4 (1-step Sarsa TD with local window enemy detection)\n",
    "* Level 5 (1-step Sarsa with local feature statespace)\n",
    "* Level 6 (n-step semi-gradient Sarsa with neural network function approximation)"
   ]
  },
  {
   "cell_type": "code",
   "execution_count": 1,
   "metadata": {},
   "outputs": [],
   "source": [
    "# imports for the rest of the assignment\n",
    "import numpy as np\n",
    "import random\n",
    "import matplotlib.pyplot as plt\n",
    "from tqdm import tqdm\n",
    "import sys\n",
    "\n",
    "# Pytorch for neural network\n",
    "import torch\n",
    "from torch import nn\n",
    "from torch.autograd import backward, Variable\n",
    "import torch.optim as optim\n",
    "\n",
    "# animation\n",
    "import imageio\n",
    "import os\n"
   ]
  },
  {
   "cell_type": "markdown",
   "metadata": {},
   "source": [
    "## Loading Files"
   ]
  },
  {
   "cell_type": "code",
   "execution_count": 2,
   "metadata": {},
   "outputs": [
    {
     "name": "stdout",
     "output_type": "stream",
     "text": [
      "32 32\n"
     ]
    }
   ],
   "source": [
    "# File names\n",
    "map_1_file = \"./data/map_1.dat\"\n",
    "map_2_file = \"./data/map_2.dat\"\n",
    "map_3_file = \"./data/map_3.dat\"\n",
    "map_4_file = \"./data/map_4.dat\"\n",
    "\n",
    "enemies_1_file = \"./data/enemies_1.dat\"\n",
    "enemies_2_file = \"./data/enemies_2.dat\"\n",
    "enemies_3_file = \"./data/enemies_3.dat\"\n",
    "\n",
    "# parse the map files\n",
    "maps = []\n",
    "for map_file in [map_1_file, map_2_file, map_3_file, map_4_file]:\n",
    "    map_data = []\n",
    "    with open(map_file, 'r') as file:\n",
    "        for line in file:\n",
    "            map_data.append(list(map(int, line.split())))\n",
    "    maps.append(map_data)\n",
    "\n",
    "# parse all the enemies and 0-index them\n",
    "enemies = []\n",
    "for enemies_file in [enemies_1_file, enemies_2_file, enemies_3_file]:\n",
    "    enemies_data = []\n",
    "    with open(enemies_file, 'r') as file:\n",
    "        for line in file:\n",
    "            ey, ex, et = list(map(int, line.split()))\n",
    "            enemies_data.append([ey - 1, ex - 1, et])\n",
    "            \n",
    "    enemies.append(enemies_data)\n",
    "print(len(maps[0]), len(maps[0][0]))\n",
    "\n",
    "# parse the custom map files\n",
    "# parse the map files\n",
    "custom_1_file = \"./data/layers.dat.txt\"\n",
    "custom = []\n",
    "for custom_file in [custom_1_file]:\n",
    "    custom_data = []\n",
    "    with open(custom_file, 'r') as file:\n",
    "        for line in file:\n",
    "            custom_data.append(list((map(int, line.replace(\"\\u200b\", \" \").split()))))\n",
    "    custom.append(custom_data[:-1])\n",
    "      "
   ]
  },
  {
   "cell_type": "markdown",
   "metadata": {},
   "source": [
    "## Util functions"
   ]
  },
  {
   "cell_type": "markdown",
   "metadata": {},
   "source": [
    "### Functions for movement of Hubert and enemies"
   ]
  },
  {
   "cell_type": "code",
   "execution_count": 3,
   "metadata": {},
   "outputs": [],
   "source": [
    "\"\"\"\n",
    "Algorithm used in weekly task 7 to find intersecting positions\n",
    "when moving from one grid-based position to the next\n",
    "\"\"\"\n",
    "def find_intersects(i, j, ni, nj):\n",
    "    deltai = abs(ni - i)\n",
    "    deltaj = abs(nj - j)\n",
    "    n = deltai + deltaj + 1\n",
    "    di = 1 if ni > i else -1\n",
    "    dj = 1 if nj > j else -1\n",
    "    epsilon = deltai - deltaj\n",
    "    deltai = 2 * deltai\n",
    "    deltaj = 2 * deltaj\n",
    "    \n",
    "    tiles = []\n",
    "    #find interesects\n",
    "    while n > 0:\n",
    "        tiles.append((i, j))\n",
    "        # The difference in x direction is greater than y\n",
    "        if epsilon > 0:\n",
    "            i += di\n",
    "            epsilon -= deltaj\n",
    "            n -= 1\n",
    "        # y difference greater than x\n",
    "        elif epsilon < 0:\n",
    "            j += dj\n",
    "            epsilon += deltai\n",
    "            n -= 1\n",
    "        # equal difference in x and y\n",
    "        elif epsilon == 0:\n",
    "            i += di\n",
    "            j += dj\n",
    "            epsilon += deltai - deltaj\n",
    "            n -= 2\n",
    "        \n",
    "    return tiles\n"
   ]
  },
  {
   "cell_type": "code",
   "execution_count": 4,
   "metadata": {},
   "outputs": [],
   "source": [
    "\"\"\"\n",
    "Function defining the logic of moving from one state\n",
    "to another based on the action taken, without double-jump.\n",
    "\"\"\"\n",
    "def next_state(x, y, action, level):\n",
    "    energy = 0\n",
    "    # jump\n",
    "    if action == 1:\n",
    "        # if footing is air\n",
    "        if level[y+1][x] == 1:\n",
    "            y += 1\n",
    "            # if still air under\n",
    "            if level[y+1][x] == 1:\n",
    "                y += 1\n",
    "            \n",
    "        # if footing is solid\n",
    "        else:\n",
    "            # if not solid above\n",
    "            if level[y-1][x] != 2:\n",
    "                y -= 1\n",
    "                # if still not solid above\n",
    "                if level[y-1][x] != 2:\n",
    "                    y -= 1\n",
    "            \n",
    "            energy = -5\n",
    "            \n",
    "    # go left if not solid\n",
    "    elif action == 0:\n",
    "        energy = -1\n",
    "        if level[y][x-1] != 2:\n",
    "            x -= 1\n",
    "        # if footing is air\n",
    "        if level[y+1][x] == 1:\n",
    "            y += 1\n",
    "            # if footing still air move again and fall\n",
    "            if level[y+1][x] == 1:\n",
    "                if level[y][x-1] != 2:\n",
    "                    x -= 1\n",
    "                if level[y+1][x] == 1:\n",
    "                    y += 1\n",
    "    \n",
    "    # go right if not solid\n",
    "    elif action == 2:\n",
    "        energy = -1\n",
    "        if level[y][x+1] != 2:\n",
    "            x += 1\n",
    "        # if footing is air\n",
    "        if level[y+1][x] == 1:\n",
    "            y += 1\n",
    "            # if footing still air move again and fall\n",
    "            if level[y+1][x] == 1:\n",
    "                if level[y][x+1] != 2:\n",
    "                    x += 1\n",
    "                if level[y+1][x] == 1:\n",
    "                    y += 1\n",
    "    \n",
    "    return ((x, y), energy)\n",
    "            "
   ]
  },
  {
   "cell_type": "code",
   "execution_count": 5,
   "metadata": {},
   "outputs": [],
   "source": [
    "\"\"\"\n",
    "Function defining the logic of moving from one state\n",
    "to another based on the action taken, with double-jump.\n",
    "\"\"\"\n",
    "def next_state_with_jump(x, y, action, level):\n",
    "    energy = 0\n",
    "    # jump\n",
    "    if action == 1:\n",
    "        if level[y+1][x] == 1:\n",
    "            # if footing is air\n",
    "            if random.randrange(0, 3) == 0:\n",
    "                if level[y-1][x] != 2:\n",
    "                    y -= 1\n",
    "                energy = -3\n",
    "            else:\n",
    "                y += 1\n",
    "                # if still air under\n",
    "                if level[y+1][x] == 1:\n",
    "                    y += 1\n",
    "            \n",
    "        # if footing is solid\n",
    "        else:\n",
    "            # if not solid above\n",
    "            if level[y-1][x] != 2:\n",
    "                y -= 1\n",
    "                # if still not solid above\n",
    "                if level[y-1][x] != 2:\n",
    "                    y -= 1\n",
    "            \n",
    "            energy = -5\n",
    "            \n",
    "    # go left if not solid\n",
    "    elif action == 0:\n",
    "        energy = -1\n",
    "        if level[y][x-1] != 2:\n",
    "            x -= 1\n",
    "        # if footing is air\n",
    "        if level[y+1][x] == 1:\n",
    "            y += 1\n",
    "            # if footing still air move again and fall\n",
    "            if level[y+1][x] == 1:\n",
    "                if level[y][x-1] != 2:\n",
    "                    x -= 1\n",
    "                if level[y+1][x] == 1:\n",
    "                    y += 1\n",
    "    \n",
    "    # go right if not solid\n",
    "    elif action == 2:\n",
    "        energy = -1\n",
    "        if level[y][x+1] != 2:\n",
    "            x += 1\n",
    "        # if footing is air\n",
    "        if level[y+1][x] == 1:\n",
    "            y += 1\n",
    "            # if footing still air move again and fall\n",
    "            if level[y+1][x] == 1:\n",
    "                if level[y][x+1] != 2:\n",
    "                    x += 1\n",
    "                if level[y+1][x] == 1:\n",
    "                    y += 1\n",
    "    \n",
    "    return ((x, y), energy)"
   ]
  },
  {
   "cell_type": "code",
   "execution_count": 6,
   "metadata": {},
   "outputs": [],
   "source": [
    "\"\"\"\n",
    "Function that moves the middle managers to their\n",
    "next state, randomly chosen between possible actions.\n",
    "\"\"\"\n",
    "def mms_next_state(mms, level):\n",
    "    new_mms = []\n",
    "    if not mms:\n",
    "        raise ValueError(\"The list of mms is empty\")\n",
    "    for mmy, mmx in mms:\n",
    "        options = []\n",
    "        if level[mmy][mmx-1] != 2 and level[mmy+1][mmx-1] != 1:\n",
    "            options.append(mmx-1)\n",
    "        if level[mmy][mmx+1] != 2 and level[mmy+1][mmx+1] != 1:\n",
    "            options.append(mmx+1)\n",
    "        \n",
    "        if not options:\n",
    "            new_mms.append((mmy, mmx))\n",
    "        else:\n",
    "            new_mms.append((mmy, np.random.choice(options)))\n",
    "    return new_mms\n"
   ]
  },
  {
   "cell_type": "code",
   "execution_count": 7,
   "metadata": {},
   "outputs": [],
   "source": [
    "\"\"\"\n",
    "Function that moves the fans to their next state,\n",
    "based on view of player (they can look through walls) and\n",
    "moving accordingly or randomly.\n",
    "\"\"\"\n",
    "def fans_next_state(fans, x, y, level):\n",
    "    new_fans = []\n",
    "    if not fans:\n",
    "        raise ValueError(\"The list of fans is empty\")\n",
    "    for fy, fx in fans:\n",
    "        options = []\n",
    "        if y != fy:\n",
    "            if level[fy][fx-1] != 2 and level[fy+1][fx-1] != 1:\n",
    "                options.append(fx-1)\n",
    "            if level[fy][fx+1] != 2 and level[fy+1][fx+1] != 1:\n",
    "                options.append(fx+1)\n",
    "        else:\n",
    "            if x < fx:\n",
    "                if level[fy][fx-1] != 2 and level[fy+1][fx-1] != 1:\n",
    "                    options.append(fx-1)\n",
    "            else:\n",
    "                if level[fy][fx+1] != 2 and level[fy+1][fx+1] != 1:\n",
    "                    options.append(fx+1)\n",
    "        \n",
    "        if not options:\n",
    "            new_fans.append((fy, fx))\n",
    "        else:\n",
    "            new_fans.append((fy, np.random.choice(options)))\n",
    "    return new_fans"
   ]
  },
  {
   "cell_type": "code",
   "execution_count": 8,
   "metadata": {},
   "outputs": [],
   "source": [
    "\"\"\"\n",
    "Function that randomly places an enemies on the interval\n",
    "it finds possibly by checking all possible states right of the\n",
    "starting point.\n",
    "\"\"\"\n",
    "def init_enemies(enemies, level):\n",
    "    for i, (ey, ex) in enumerate(enemies):\n",
    "        right = ex\n",
    "        while(level[ey][right+1] != 2 and level[ex+1][right+1] != 1):\n",
    "            right += 1\n",
    "            \n",
    "        enemies[i] = (ey, random.randint(ex, right))             \n",
    "    return enemies    \n",
    "        "
   ]
  },
  {
   "cell_type": "code",
   "execution_count": 9,
   "metadata": {},
   "outputs": [],
   "source": [
    "\"\"\"\n",
    "Function that creates a string of all relative positions\n",
    "of enemies in the local window of a position.\n",
    "\"\"\"\n",
    "def enemies_in_view(x, y, r, enemies):\n",
    "    # fans in view\n",
    "    view = \"\"\n",
    "    for ey, ex in enemies:\n",
    "        if abs(ey - y) <= r and abs(ex - x) <= r:\n",
    "            view += \" \" + str(ey - y) + str(ex - x)\n",
    "    return view.strip()"
   ]
  },
  {
   "cell_type": "code",
   "execution_count": 10,
   "metadata": {},
   "outputs": [],
   "source": [
    "\"\"\"\n",
    "Function for epsilon_greedy action selection\n",
    "from a tabular Q represented as a dictionary\n",
    "\"\"\"\n",
    "def select_dictionary_action(Q, s, epsilon=0.1):\n",
    "    # explorative move\n",
    "    if random.random() < epsilon:\n",
    "        return random.randrange(0, 3)\n",
    "    # exploitative move\n",
    "    max_value = max(Q[s])\n",
    "    options = [i for i, a in enumerate(Q[s]) if a == max_value]\n",
    "    return np.random.choice(options)\n"
   ]
  },
  {
   "cell_type": "markdown",
   "metadata": {},
   "source": [
    "# Task 1\n",
    "\n",
    "## Problem Statement\n",
    "Hubert has been banished to the depths of the headquarters and must now perform the terrible duty that one can find in the entire company, which is the one of helping the accountants go over the their accounting, every single day.\n",
    "\n",
    "There is a total of 7 different accountants who each has their own office in the basement, and they are all tasked with septuple checking the bookkeeping every single day. Now Hubert has been tasked with assisting one of them every single day, but he has been given the choice of who he wants to support. Hubert is destined to diligently do his task for the next 30 years, which equates to a total of 10950 days (Hubert might deserve a vacation every leap day).\n",
    "\n",
    "Hubert, of course, wants to spend the least amount of time every day working, because he can't stand finances and working with Excel. Luckily for him, not all accountants are created equally, and some get their work done faster than others. Each accountant has a mean value for how long they take to finish a day's work. In addition to this they also have a standard deviation, as some days they are more efficient than others. How long a workday takes is determined randomly by a normal (Gaussian) distribusion given these values.\n",
    "\n",
    "| Accountant | µ ± σ   | \n",
    "| ---------- | ------- |\n",
    "| Antonioni  | 9 ± 4   |\n",
    "| Bambi      | 12 ± 1  |\n",
    "| Cocteau    | 15 ± 5  |\n",
    "| Dante      | 9 ± 2   |\n",
    "| Eren       | 10 ± 0  |\n",
    "| Faust      | 8 ± 3   |\n",
    "| Godot      | 13 ± 4  | \n",
    "\n",
    "Sadly, we also know that Fredriksen will never be satisified with the company's earnings, no matter how well the accounts say things are going. Therefore, in an attempt to impress investors, he will end up firing a random accountant after every fiscal year (365) days, and replace them with someone completely new. The new hire also has a mean time to finish their work, which is in the range of 6-16 as well as a standard deviation in the range of 0-5 (both randomly drawn from a uniform distribution).\n",
    "\n",
    "\n",
    "However, due to the lack of lighting (to save costs) in the basement; Hubert is not able to perceive the accountants' faces and will therefore not be notice if any of them are replaced by looking at them. The only reason they get any work done is because of the glow-in-the-dark papers and light from the PC-screens.\n",
    "\n",
    "Given this situation, help Hubert minimize of the amount of time he has to work by picking accountants to help that take less time to perform the work.\n"
   ]
  },
  {
   "cell_type": "code",
   "execution_count": 11,
   "metadata": {},
   "outputs": [],
   "source": [
    "def new_accountant():\n",
    "    mu = np.random.uniform(6, 17)\n",
    "    sigma = np.random.uniform(0, 5)\n",
    "    return (mu, sigma)\n",
    "\n",
    "def calc_hours(mu, sigma):\n",
    "    hours = np.random.normal(mu, sigma)\n",
    "    return hours\n",
    "\n",
    "def bandit_e_greedy(Q, options, epsilon=0.1):\n",
    "    if random.random() < epsilon:\n",
    "        return random.randrange(options)\n",
    "    return Q.index(min(Q))\n",
    "\n",
    "def multi_armed_bandit(accountants, iterations=10950, epsilon=0.1, alpha=0.1, q_1=0, replace=365):\n",
    "    Q = [q_1 for _ in range(len(accountants))]\n",
    "    N = [0 for _ in range(len(accountants))]\n",
    "    avg_hours = []\n",
    "    total_hours = 0\n",
    "    for i in range(1, iterations + 1):\n",
    "        \n",
    "        if i % replace == 0: # replace an accountant\n",
    "            replaced = random.randrange(len(accountants))\n",
    "            accountants[replaced] = new_accountant()\n",
    "            \n",
    "        \n",
    "        A = bandit_e_greedy(Q, len(accountants), epsilon)\n",
    "        N[A] += 1\n",
    "        mu, sigma = accountants[A]\n",
    "        R = calc_hours(mu, sigma)\n",
    "        Q[A] = Q[A] + alpha * (R - Q[A])\n",
    "        \n",
    "        if i == 1:\n",
    "            avg_hours.append(R)\n",
    "        else:\n",
    "            avg_hours.append((avg_hours[-1] * (i - 1) + R) / i)\n",
    "        \n",
    "        total_hours += R\n",
    "    \n",
    "    return avg_hours, total_hours\n",
    "            "
   ]
  },
  {
   "cell_type": "code",
   "execution_count": 118,
   "metadata": {},
   "outputs": [
    {
     "data": {
      "image/png": "[encoded data removed]",
      "text/plain": [
       "<Figure size 432x288 with 1 Axes>"
      ]
     },
     "metadata": {
      "needs_background": "light"
     },
     "output_type": "display_data"
    },
    {
     "data": {
      "image/png": "[encoded data removed]",
      "text/plain": [
       "<Figure size 432x288 with 1 Axes>"
      ]
     },
     "metadata": {
      "needs_background": "light"
     },
     "output_type": "display_data"
    }
   ],
   "source": [
    "accountants = [(9, 4),\n",
    "              (12, 1),\n",
    "              (15, 5),\n",
    "              (9, 2),\n",
    "              (10, 0),\n",
    "              (8, 3),\n",
    "              (13, 4)]\n",
    "\n",
    "# Driver code for plotting\n",
    "def plot_epsilons(accountants, iterations, epsilons, bandit=multi_armed_bandit, episodes=300, colors=['r', 'g', 'b', 'c', 'm', 'y']):\n",
    "    all_avg_hours = [0] * len(epsilons)\n",
    "    total_hours_by_e = []\n",
    "    for i, e in enumerate(epsilons):\n",
    "        avg_epsilon_hours = []\n",
    "        total_epsilon_hours = []\n",
    "        for _ in range(episodes):\n",
    "            avg_e, total_e =  bandit(accountants, iterations, e, alpha=0.1, q_1=-5)\n",
    "            avg_epsilon_hours.append(np.array(avg_e))\n",
    "            total_epsilon_hours.append(total_e)\n",
    "        \n",
    "        # Average over all the episodes\n",
    "        for avg_e_hour in avg_epsilon_hours:\n",
    "            all_avg_hours[i] += avg_e_hour\n",
    "        all_avg_hours[i] /= episodes\n",
    "        total_hours_by_e.append(sum(total_epsilon_hours) / episodes)\n",
    "    \n",
    "    for i, avg_hour in enumerate(all_avg_hours):\n",
    "        plt.plot(avg_hour, color=colors[i], label=str(epsilons[i]))\n",
    "    plt.xlabel(\"Iterations\")\n",
    "    plt.ylabel(\"Average Hours\")\n",
    "    plt.legend()\n",
    "    plt.show()\n",
    "        \n",
    "    plt.plot(epsilons, total_hours_by_e)\n",
    "    plt.xlabel(\"Epsilon Value\")\n",
    "    plt.ylabel(\"Expected Total Hours\")\n",
    "    plt.show()\n",
    "    \n",
    "    return all_avg_hours, total_hours_by_e\n",
    "            \n",
    "iterations = 10950\n",
    "epsilons = [0, 0.01, 0.1, 0.25, 0.5, 1]\n",
    "avg_e, total_e = plot_epsilons(accountants, iterations, epsilons)\n",
    "\n"
   ]
  },
  {
   "cell_type": "markdown",
   "metadata": {},
   "source": [
    "# Task 2\n",
    "\n",
    "Dynamic Programming using Iterative Policy Evaluation"
   ]
  },
  {
   "cell_type": "code",
   "execution_count": 12,
   "metadata": {},
   "outputs": [],
   "source": [
    "def level2(level, mms, pmm):\n",
    "    # value function height, width, action space\n",
    "    v_func = np.zeros((len(level), len(level[0])))\n",
    "    delta = 1\n",
    "    theta = 0.00000000001\n",
    "    iterations = 0\n",
    "    \n",
    "    while(delta >= theta):\n",
    "        delta = 0.0\n",
    "        for row in range(len(level[0]) - 1, 0, -1):\n",
    "            for col in range(len(level) - 1):\n",
    "                if level[col][row] == 2:\n",
    "                    continue\n",
    "                    \n",
    "                # goal\n",
    "                if col == 1 and row == 30:\n",
    "                    continue\n",
    "                \n",
    "                v = v_func[col][row]\n",
    "                      \n",
    "                values = []\n",
    "                energies = []\n",
    "                \n",
    "                # find values and energy for all next states\n",
    "                for a in [0, 1, 2]:\n",
    "                    (nx, ny), e = next_state(row, col, a, level)\n",
    "                    values.append(v_func[ny, nx] + e)\n",
    "                    energies.append(e)\n",
    "                      \n",
    "                expected = max(values)\n",
    "                energy = energies[values.index(expected)]\n",
    "                \n",
    "                # check if an mm is at the position\n",
    "                for (my, mx, _) in mms:\n",
    "                    if col == my and row == mx:\n",
    "                        # update the value based on p of going back to start\n",
    "                        expected = (1 - pmm) * expected + pmm * (v_func[30, 1] + energy)\n",
    "                    \n",
    "                v_func[col, row] = expected\n",
    "                delta = max(delta, abs(v - v_func[col, row]))\n",
    "                \n",
    "        iterations += 1\n",
    "                      \n",
    "    return v_func, iterations"
   ]
  },
  {
   "cell_type": "code",
   "execution_count": 13,
   "metadata": {},
   "outputs": [],
   "source": [
    "def level2_path_finder(vf, level):\n",
    "    x, y = (1, 30)\n",
    "    path_x = [x]\n",
    "    path_y = [y]\n",
    "    \n",
    "    while not(x == 30 and y == 1):\n",
    "        states = []\n",
    "        values = []\n",
    "        for a in [0, 1, 2]:\n",
    "            (nx, ny), _ = next_state(x, y, a, level)\n",
    "            states.append((nx, ny))\n",
    "            values.append(vf[ny, nx])\n",
    "            \n",
    "        x, y = states[values.index(max(values))]\n",
    "        path_x.append(x)\n",
    "        path_y.append(y)\n",
    "    return path_x, path_y\n",
    "        "
   ]
  },
  {
   "cell_type": "code",
   "execution_count": 92,
   "metadata": {},
   "outputs": [
    {
     "data": {
      "image/png": "[encoded data removed]",
      "text/plain": [
       "<Figure size 432x288 with 1 Axes>"
      ]
     },
     "metadata": {
      "needs_background": "light"
     },
     "output_type": "display_data"
    },
    {
     "data": {
      "image/png": "[encoded data removed]",
      "text/plain": [
       "<Figure size 432x288 with 1 Axes>"
      ]
     },
     "metadata": {
      "needs_background": "light"
     },
     "output_type": "display_data"
    },
    {
     "name": "stdout",
     "output_type": "stream",
     "text": [
      "398\n"
     ]
    },
    {
     "data": {
      "image/png": "[encoded data removed]",
      "text/plain": [
       "<Figure size 432x288 with 1 Axes>"
      ]
     },
     "metadata": {
      "needs_background": "light"
     },
     "output_type": "display_data"
    },
    {
     "data": {
      "image/png": "[encoded data removed]",
      "text/plain": [
       "<Figure size 432x288 with 1 Axes>"
      ]
     },
     "metadata": {
      "needs_background": "light"
     },
     "output_type": "display_data"
    },
    {
     "name": "stdout",
     "output_type": "stream",
     "text": [
      "484\n"
     ]
    },
    {
     "data": {
      "image/png": "[encoded data removed]",
      "text/plain": [
       "<Figure size 432x288 with 1 Axes>"
      ]
     },
     "metadata": {
      "needs_background": "light"
     },
     "output_type": "display_data"
    },
    {
     "data": {
      "image/png": "[encoded data removed]",
      "text/plain": [
       "<Figure size 432x288 with 1 Axes>"
      ]
     },
     "metadata": {
      "needs_background": "light"
     },
     "output_type": "display_data"
    },
    {
     "name": "stdout",
     "output_type": "stream",
     "text": [
      "226\n"
     ]
    },
    {
     "data": {
      "image/png": "[encoded data removed]",
      "text/plain": [
       "<Figure size 432x288 with 1 Axes>"
      ]
     },
     "metadata": {
      "needs_background": "light"
     },
     "output_type": "display_data"
    },
    {
     "data": {
      "image/png": "[encoded data removed]",
      "text/plain": [
       "<Figure size 432x288 with 1 Axes>"
      ]
     },
     "metadata": {
      "needs_background": "light"
     },
     "output_type": "display_data"
    },
    {
     "name": "stdout",
     "output_type": "stream",
     "text": [
      "225\n"
     ]
    },
    {
     "data": {
      "image/png": "[encoded data removed]",
      "text/plain": [
       "<Figure size 432x288 with 1 Axes>"
      ]
     },
     "metadata": {
      "needs_background": "light"
     },
     "output_type": "display_data"
    },
    {
     "data": {
      "image/png": "[encoded data removed]",
      "text/plain": [
       "<Figure size 432x288 with 1 Axes>"
      ]
     },
     "metadata": {
      "needs_background": "light"
     },
     "output_type": "display_data"
    },
    {
     "name": "stdout",
     "output_type": "stream",
     "text": [
      "225\n"
     ]
    }
   ],
   "source": [
    "for pmm in [0.1, 0.2, 0.3, 0.5, 0.9]:\n",
    "    level2_vf, level2_iters = level2(maps[0], enemies[0], pmm)\n",
    "    path_x, path_y = level2_path_finder(level2_vf, maps[0])\n",
    "    plt.imshow(level2_vf)\n",
    "    plt.show()\n",
    "    plt.imshow(maps[0], cmap=\"gray\")\n",
    "    plt.plot(path_x, path_y)\n",
    "    plt.show()\n",
    "    print(level2_iters)"
   ]
  },
  {
   "cell_type": "markdown",
   "metadata": {},
   "source": [
    "# Task 3"
   ]
  },
  {
   "cell_type": "code",
   "execution_count": 14,
   "metadata": {},
   "outputs": [],
   "source": [
    "# Sarsa for estimating Q approximately q\n",
    "def level3_1step_sarsa(enemies, level=maps[1], episodes=20000, alpha=0.3, epsilon=0.1, max_steps=100000):\n",
    "    Q = {} # x, y (+ mms if close)\n",
    "    \n",
    "    path_xs = []\n",
    "    path_ys = []\n",
    "    total_energy = 0\n",
    "    \n",
    "    mms = [(y, x) for y, x, _ in enemies]\n",
    "    \n",
    "    for e in tqdm(range(episodes)):\n",
    "        x, y = (1, 30) # S\n",
    "        mms = init_enemies(mms, level) # x coordinate of mm\n",
    "        s = str(x) + \" \" + str(y)\n",
    "        if not s in Q:\n",
    "            Q[s] = [0.0, 0.0, 0.0]\n",
    "        a = select_dictionary_action(Q, s, epsilon) # A\n",
    "        \n",
    "        # for trajectory plotting\n",
    "        xs = []\n",
    "        ys = []\n",
    "        current_energy = 0\n",
    "        \n",
    "        # time steps\n",
    "        for _ in range(max_steps):\n",
    "            xs.append(x)\n",
    "            ys.append(y)\n",
    "            R = 0\n",
    "            \n",
    "            # Observe R, S'. S' described as = n+value (for new)\n",
    "            (nx, ny), energy = next_state(x, y, a, level)\n",
    "            nmms = mms_next_state(mms , level)\n",
    "            \n",
    "            # find path of hubert this timestep\n",
    "            intersections = find_intersects(x, y, nx, ny)\n",
    "            for (ix, iy) in intersections:\n",
    "                for mmy, mmx in nmms:\n",
    "                    if ix == mmx and iy == mmy:\n",
    "                        nx, ny = (1, 30) # back to start\n",
    "                        break\n",
    "            \n",
    "            ns = str(nx) + \" \" + str(ny)\n",
    "            \n",
    "            # the space where mm location is relevant\n",
    "            for mmy, mmx in nmms:\n",
    "                if -1 < mmy - ny < 4:\n",
    "                    ns += \" \" + str(mmx)\n",
    "                \n",
    "            if not ns in Q:\n",
    "                Q[ns] = [0.0, 0.0, 0.0]\n",
    "            \n",
    "            # are we in the terminal state?\n",
    "            if nx == 30 and ny == 1:\n",
    "                xs.append(nx)\n",
    "                ys.append(ny)\n",
    "                # Only update when completed!\n",
    "                Q[s][a] = Q[s][a] + alpha * (R + Q[ns][na] - Q[s][a])\n",
    "                break\n",
    "            \n",
    "            R = energy\n",
    "            \n",
    "            # Choose action A'    \n",
    "            na = select_dictionary_action(Q, ns, epsilon)\n",
    "            \n",
    "            # Update X, S and A\n",
    "            Q[s][a] = Q[s][a] + alpha * (R + Q[ns][na] - Q[s][a])\n",
    "            x, y, mms, s, a = (nx, ny, nmms, ns, na)\n",
    "            current_energy -= R\n",
    "            \n",
    "        path_xs = xs\n",
    "        path_ys = ys\n",
    "        total_energy = current_energy\n",
    "    \n",
    "    return Q, path_xs, path_ys, total_energy"
   ]
  },
  {
   "cell_type": "code",
   "execution_count": 15,
   "metadata": {},
   "outputs": [
    {
     "name": "stderr",
     "output_type": "stream",
     "text": [
      "100%|██████████| 50000/50000 [07:16<00:00, 114.59it/s]\n"
     ]
    }
   ],
   "source": [
    "level_3Q, level3_path_xs, level3_path_ys, level3_te = level3_1step_sarsa(enemies[1], level=maps[1], episodes=50000, epsilon=0)\n",
    "\n"
   ]
  },
  {
   "cell_type": "code",
   "execution_count": 17,
   "metadata": {},
   "outputs": [
    {
     "data": {
      "image/png": "[encoded data removed]",
      "text/plain": [
       "<Figure size 432x288 with 1 Axes>"
      ]
     },
     "metadata": {
      "needs_background": "light"
     },
     "output_type": "display_data"
    },
    {
     "name": "stdout",
     "output_type": "stream",
     "text": [
      "524\n"
     ]
    },
    {
     "name": "stderr",
     "output_type": "stream",
     "text": [
      "<ipython-input-17-05b90564f4d6>:14: DeprecationWarning: Starting with ImageIO v3 the behavior of this function will switch to that of iio.v3.imread. To keep the current behavior (and make this warning dissapear) use `import imageio.v2 as imageio` or call `imageio.v2.imread` directly.\n",
      "  image = imageio.imread(\"./plots\" + str(i) + \".png\")\n"
     ]
    },
    {
     "ename": "FileNotFoundError",
     "evalue": "No such file: '/Users/bendiksolevag/Documents/krisskross/RLproject/Final Project/plots0.png'",
     "output_type": "error",
     "traceback": [
      "\u001b[0;31m-------------------------------------------------------------------\u001b[0m",
      "\u001b[0;31mFileNotFoundError\u001b[0m                 Traceback (most recent call last)",
      "\u001b[0;32m<ipython-input-17-05b90564f4d6>\u001b[0m in \u001b[0;36m<module>\u001b[0;34m\u001b[0m\n\u001b[1;32m     12\u001b[0m \u001b[0;32mwith\u001b[0m \u001b[0mimageio\u001b[0m\u001b[0;34m.\u001b[0m\u001b[0mget_writer\u001b[0m\u001b[0;34m(\u001b[0m\u001b[0;34m'./plots/level3.gif'\u001b[0m\u001b[0;34m,\u001b[0m \u001b[0mmode\u001b[0m\u001b[0;34m=\u001b[0m\u001b[0;34m\"I\"\u001b[0m\u001b[0;34m)\u001b[0m \u001b[0;32mas\u001b[0m \u001b[0mwriter\u001b[0m\u001b[0;34m:\u001b[0m\u001b[0;34m\u001b[0m\u001b[0;34m\u001b[0m\u001b[0m\n\u001b[1;32m     13\u001b[0m     \u001b[0;32mfor\u001b[0m \u001b[0mi\u001b[0m \u001b[0;32min\u001b[0m \u001b[0mrange\u001b[0m\u001b[0;34m(\u001b[0m\u001b[0mlen\u001b[0m\u001b[0;34m(\u001b[0m\u001b[0mlevel3_path_xs\u001b[0m\u001b[0;34m)\u001b[0m\u001b[0;34m)\u001b[0m\u001b[0;34m:\u001b[0m\u001b[0;34m\u001b[0m\u001b[0;34m\u001b[0m\u001b[0m\n\u001b[0;32m---> 14\u001b[0;31m         \u001b[0mimage\u001b[0m \u001b[0;34m=\u001b[0m \u001b[0mimageio\u001b[0m\u001b[0;34m.\u001b[0m\u001b[0mimread\u001b[0m\u001b[0;34m(\u001b[0m\u001b[0;34m\"./plots\"\u001b[0m \u001b[0;34m+\u001b[0m \u001b[0mstr\u001b[0m\u001b[0;34m(\u001b[0m\u001b[0mi\u001b[0m\u001b[0;34m)\u001b[0m \u001b[0;34m+\u001b[0m \u001b[0;34m\".png\"\u001b[0m\u001b[0;34m)\u001b[0m\u001b[0;34m\u001b[0m\u001b[0;34m\u001b[0m\u001b[0m\n\u001b[0m\u001b[1;32m     15\u001b[0m         \u001b[0mwriter\u001b[0m\u001b[0;34m.\u001b[0m\u001b[0mappend_data\u001b[0m\u001b[0;34m(\u001b[0m\u001b[0mimage\u001b[0m\u001b[0;34m)\u001b[0m\u001b[0;34m\u001b[0m\u001b[0;34m\u001b[0m\u001b[0m\n\u001b[1;32m     16\u001b[0m         \u001b[0mos\u001b[0m\u001b[0;34m.\u001b[0m\u001b[0mremove\u001b[0m\u001b[0;34m(\u001b[0m\u001b[0;34m\"./plots/\"\u001b[0m \u001b[0;34m+\u001b[0m \u001b[0mstr\u001b[0m\u001b[0;34m(\u001b[0m\u001b[0mi\u001b[0m\u001b[0;34m)\u001b[0m \u001b[0;34m+\u001b[0m \u001b[0;34m\".png\"\u001b[0m\u001b[0;34m)\u001b[0m\u001b[0;34m\u001b[0m\u001b[0;34m\u001b[0m\u001b[0m\n",
      "\u001b[0;32m/Library/Frameworks/Python.framework/Versions/3.8/lib/python3.8/site-packages/imageio/__init__.py\u001b[0m in \u001b[0;36mimread\u001b[0;34m(uri, format, **kwargs)\u001b[0m\n\u001b[1;32m     95\u001b[0m     )\n\u001b[1;32m     96\u001b[0m \u001b[0;34m\u001b[0m\u001b[0m\n\u001b[0;32m---> 97\u001b[0;31m     \u001b[0;32mreturn\u001b[0m \u001b[0mimread_v2\u001b[0m\u001b[0;34m(\u001b[0m\u001b[0muri\u001b[0m\u001b[0;34m,\u001b[0m \u001b[0mformat\u001b[0m\u001b[0;34m=\u001b[0m\u001b[0mformat\u001b[0m\u001b[0;34m,\u001b[0m \u001b[0;34m**\u001b[0m\u001b[0mkwargs\u001b[0m\u001b[0;34m)\u001b[0m\u001b[0;34m\u001b[0m\u001b[0;34m\u001b[0m\u001b[0m\n\u001b[0m\u001b[1;32m     98\u001b[0m \u001b[0;34m\u001b[0m\u001b[0m\n\u001b[1;32m     99\u001b[0m \u001b[0;34m\u001b[0m\u001b[0m\n",
      "\u001b[0;32m/Library/Frameworks/Python.framework/Versions/3.8/lib/python3.8/site-packages/imageio/v2.py\u001b[0m in \u001b[0;36mimread\u001b[0;34m(uri, format, **kwargs)\u001b[0m\n\u001b[1;32m    198\u001b[0m     \u001b[0mimopen_args\u001b[0m\u001b[0;34m[\u001b[0m\u001b[0;34m\"legacy_mode\"\u001b[0m\u001b[0;34m]\u001b[0m \u001b[0;34m=\u001b[0m \u001b[0;32mTrue\u001b[0m\u001b[0;34m\u001b[0m\u001b[0;34m\u001b[0m\u001b[0m\n\u001b[1;32m    199\u001b[0m \u001b[0;34m\u001b[0m\u001b[0m\n\u001b[0;32m--> 200\u001b[0;31m     \u001b[0;32mwith\u001b[0m \u001b[0mimopen\u001b[0m\u001b[0;34m(\u001b[0m\u001b[0muri\u001b[0m\u001b[0;34m,\u001b[0m \u001b[0;34m\"ri\"\u001b[0m\u001b[0;34m,\u001b[0m \u001b[0;34m**\u001b[0m\u001b[0mimopen_args\u001b[0m\u001b[0;34m)\u001b[0m \u001b[0;32mas\u001b[0m \u001b[0mfile\u001b[0m\u001b[0;34m:\u001b[0m\u001b[0;34m\u001b[0m\u001b[0;34m\u001b[0m\u001b[0m\n\u001b[0m\u001b[1;32m    201\u001b[0m         \u001b[0;32mreturn\u001b[0m \u001b[0mfile\u001b[0m\u001b[0;34m.\u001b[0m\u001b[0mread\u001b[0m\u001b[0;34m(\u001b[0m\u001b[0mindex\u001b[0m\u001b[0;34m=\u001b[0m\u001b[0;36m0\u001b[0m\u001b[0;34m,\u001b[0m \u001b[0;34m**\u001b[0m\u001b[0mkwargs\u001b[0m\u001b[0;34m)\u001b[0m\u001b[0;34m\u001b[0m\u001b[0;34m\u001b[0m\u001b[0m\n\u001b[1;32m    202\u001b[0m \u001b[0;34m\u001b[0m\u001b[0m\n",
      "\u001b[0;32m/Library/Frameworks/Python.framework/Versions/3.8/lib/python3.8/site-packages/imageio/core/imopen.py\u001b[0m in \u001b[0;36mimopen\u001b[0;34m(uri, io_mode, plugin, extension, format_hint, legacy_mode, **kwargs)\u001b[0m\n\u001b[1;32m    116\u001b[0m         \u001b[0mrequest\u001b[0m\u001b[0;34m.\u001b[0m\u001b[0mformat_hint\u001b[0m \u001b[0;34m=\u001b[0m \u001b[0mformat_hint\u001b[0m\u001b[0;34m\u001b[0m\u001b[0;34m\u001b[0m\u001b[0m\n\u001b[1;32m    117\u001b[0m     \u001b[0;32melse\u001b[0m\u001b[0;34m:\u001b[0m\u001b[0;34m\u001b[0m\u001b[0;34m\u001b[0m\u001b[0m\n\u001b[0;32m--> 118\u001b[0;31m         \u001b[0mrequest\u001b[0m \u001b[0;34m=\u001b[0m \u001b[0mRequest\u001b[0m\u001b[0;34m(\u001b[0m\u001b[0muri\u001b[0m\u001b[0;34m,\u001b[0m \u001b[0mio_mode\u001b[0m\u001b[0;34m,\u001b[0m \u001b[0mformat_hint\u001b[0m\u001b[0;34m=\u001b[0m\u001b[0mformat_hint\u001b[0m\u001b[0;34m,\u001b[0m \u001b[0mextension\u001b[0m\u001b[0;34m=\u001b[0m\u001b[0mextension\u001b[0m\u001b[0;34m)\u001b[0m\u001b[0;34m\u001b[0m\u001b[0;34m\u001b[0m\u001b[0m\n\u001b[0m\u001b[1;32m    119\u001b[0m \u001b[0;34m\u001b[0m\u001b[0m\n\u001b[1;32m    120\u001b[0m     \u001b[0msource\u001b[0m \u001b[0;34m=\u001b[0m \u001b[0;34m\"<bytes>\"\u001b[0m \u001b[0;32mif\u001b[0m \u001b[0misinstance\u001b[0m\u001b[0;34m(\u001b[0m\u001b[0muri\u001b[0m\u001b[0;34m,\u001b[0m \u001b[0mbytes\u001b[0m\u001b[0;34m)\u001b[0m \u001b[0;32melse\u001b[0m \u001b[0muri\u001b[0m\u001b[0;34m\u001b[0m\u001b[0;34m\u001b[0m\u001b[0m\n",
      "\u001b[0;32m/Library/Frameworks/Python.framework/Versions/3.8/lib/python3.8/site-packages/imageio/core/request.py\u001b[0m in \u001b[0;36m__init__\u001b[0;34m(self, uri, mode, extension, format_hint, **kwargs)\u001b[0m\n\u001b[1;32m    246\u001b[0m \u001b[0;34m\u001b[0m\u001b[0m\n\u001b[1;32m    247\u001b[0m         \u001b[0;31m# Parse what was given\u001b[0m\u001b[0;34m\u001b[0m\u001b[0;34m\u001b[0m\u001b[0;34m\u001b[0m\u001b[0m\n\u001b[0;32m--> 248\u001b[0;31m         \u001b[0mself\u001b[0m\u001b[0;34m.\u001b[0m\u001b[0m_parse_uri\u001b[0m\u001b[0;34m(\u001b[0m\u001b[0muri\u001b[0m\u001b[0;34m)\u001b[0m\u001b[0;34m\u001b[0m\u001b[0;34m\u001b[0m\u001b[0m\n\u001b[0m\u001b[1;32m    249\u001b[0m \u001b[0;34m\u001b[0m\u001b[0m\n\u001b[1;32m    250\u001b[0m         \u001b[0;31m# Set extension\u001b[0m\u001b[0;34m\u001b[0m\u001b[0;34m\u001b[0m\u001b[0;34m\u001b[0m\u001b[0m\n",
      "\u001b[0;32m/Library/Frameworks/Python.framework/Versions/3.8/lib/python3.8/site-packages/imageio/core/request.py\u001b[0m in \u001b[0;36m_parse_uri\u001b[0;34m(self, uri)\u001b[0m\n\u001b[1;32m    405\u001b[0m                 \u001b[0;31m# Reading: check that the file exists (but is allowed a dir)\u001b[0m\u001b[0;34m\u001b[0m\u001b[0;34m\u001b[0m\u001b[0;34m\u001b[0m\u001b[0m\n\u001b[1;32m    406\u001b[0m                 \u001b[0;32mif\u001b[0m \u001b[0;32mnot\u001b[0m \u001b[0mos\u001b[0m\u001b[0;34m.\u001b[0m\u001b[0mpath\u001b[0m\u001b[0;34m.\u001b[0m\u001b[0mexists\u001b[0m\u001b[0;34m(\u001b[0m\u001b[0mfn\u001b[0m\u001b[0;34m)\u001b[0m\u001b[0;34m:\u001b[0m\u001b[0;34m\u001b[0m\u001b[0;34m\u001b[0m\u001b[0m\n\u001b[0;32m--> 407\u001b[0;31m                     \u001b[0;32mraise\u001b[0m \u001b[0mFileNotFoundError\u001b[0m\u001b[0;34m(\u001b[0m\u001b[0;34m\"No such file: '%s'\"\u001b[0m \u001b[0;34m%\u001b[0m \u001b[0mfn\u001b[0m\u001b[0;34m)\u001b[0m\u001b[0;34m\u001b[0m\u001b[0;34m\u001b[0m\u001b[0m\n\u001b[0m\u001b[1;32m    408\u001b[0m             \u001b[0;32melse\u001b[0m\u001b[0;34m:\u001b[0m\u001b[0;34m\u001b[0m\u001b[0;34m\u001b[0m\u001b[0m\n\u001b[1;32m    409\u001b[0m                 \u001b[0;31m# Writing: check that the directory to write to does exist\u001b[0m\u001b[0;34m\u001b[0m\u001b[0;34m\u001b[0m\u001b[0;34m\u001b[0m\u001b[0m\n",
      "\u001b[0;31mFileNotFoundError\u001b[0m: No such file: '/Users/bendiksolevag/Documents/krisskross/RLproject/Final Project/plots0.png'"
     ]
    }
   ],
   "source": [
    "plt.imshow(maps[1], cmap=\"gray\")\n",
    "plt.plot(level3_path_xs, level3_path_ys)\n",
    "plt.show()\n",
    "print(level3_te)\n",
    "\n",
    "#for i in range(len(level3_path_xs)):\n",
    "#    plt.imshow(maps[1], cmap=\"gray\")\n",
    "#    plt.scatter(level3_path_xs[i], level3_path_ys[i])\n",
    "    plt.savefig(\"./plots/\" + str(i) + \".png\")\n",
    "    plt.close()\n",
    "    \n",
    "with imageio.get_writer('./plots/level3.gif', mode=\"I\") as writer:\n",
    "    for i in range(len(level3_path_xs)):\n",
    "        image = imageio.imread(\"./plots/\" + str(i) + \".png\")\n",
    "        writer.append_data(image)\n",
    "        os.remove(\"./plots/\" + str(i) + \".png\")"
   ]
  },
  {
   "cell_type": "markdown",
   "metadata": {},
   "source": [
    "# Level 4\n",
    "\n",
    "Dictionary State Space using only the local features of the window "
   ]
  },
  {
   "cell_type": "code",
   "execution_count": 128,
   "metadata": {},
   "outputs": [],
   "source": [
    "# Sarsa for estimating Q approximately q\n",
    "def level4_TD(enemies, radius, episodes=20000, alpha=0.1, epsilon=0.1, level=maps[2], max_steps=10000000):\n",
    "    Q = {} # x, y, fans\n",
    "    \n",
    "    path_xs = []\n",
    "    path_ys = []\n",
    "    total_energy = 0\n",
    "    total_collisions = []\n",
    "    \n",
    "    fans = [(y, x) for y, x, _ in enemies]\n",
    "    \n",
    "    for e in tqdm(range(episodes)):\n",
    "        x, y = (1, 30) # S\n",
    "        # fans\n",
    "        fans = init_enemies(fans, level)\n",
    "                \n",
    "        fans_seen = enemies_in_view(x, y, radius, fans)\n",
    "        s = str(x) + \" \" + str(y) + \" \" + fans_seen\n",
    "        if not s in Q:\n",
    "            Q[s] = [0.0, 0.0, 0.0]\n",
    "            \n",
    "        a = select_dictionary_action(Q, s, epsilon) # A\n",
    "        \n",
    "        # for trajectory plotting\n",
    "        xs = []\n",
    "        ys = []\n",
    "        current_energy = 0\n",
    "        collisions = []\n",
    "        \n",
    "        # time steps\n",
    "        for _ in range(max_steps):\n",
    "            xs.append(x)\n",
    "            ys.append(y)\n",
    "            R = 0    \n",
    "            \n",
    "            # Observe R, S'. S' described as = n+value (for new)\n",
    "            (nx, ny), energy = next_state(x, y, a, level)\n",
    "            # new fan locations\n",
    "            nfans = fans_next_state(fans, nx, ny, level)\n",
    "            fans_seen = enemies_in_view(nx, ny, radius, nfans)\n",
    "            ns = str(nx) + \" \" + str(ny) + str(fans_seen)\n",
    "            if not ns in Q:\n",
    "                Q[ns] = [0.0, 0.0, 0.0]\n",
    "            \n",
    "            # have they intersected?\n",
    "            # find path of hubert this timestep\n",
    "            intersections = find_intersects(x, y, nx, ny)\n",
    "            \n",
    "            for (ix, iy) in intersections:\n",
    "                for nfy, nfx in nfans:\n",
    "                    if ix == nfx and iy == nfy:\n",
    "                        R -=  np.random.uniform(20, 100)# back to start\n",
    "                        collisions.append((nfx, nfy))\n",
    "            \n",
    "            # are we in the terminal state?\n",
    "            if nx == 30 and ny == 1:\n",
    "                xs.append(nx)\n",
    "                ys.append(ny)\n",
    "                # Only update when completed!\n",
    "                Q[s][a] = Q[s][a] + alpha * (R + Q[ns][na] - Q[s][a])\n",
    "                break\n",
    "            \n",
    "            R += energy\n",
    "            \n",
    "            # Choose action A'    \n",
    "            na = select_dictionary_action(Q, ns, epsilon)\n",
    "            \n",
    "            # Update X, S and A\n",
    "            Q[s][a] = Q[s][a] + alpha * (R + Q[ns][na] - Q[s][a])\n",
    "            x, y, s, a, fans = (nx, ny, ns, na, nfans)\n",
    "            current_energy -= R\n",
    "            \n",
    "        path_xs = xs\n",
    "        path_ys = ys\n",
    "        total_energy = current_energy\n",
    "        total_collisions.append(len(collisions))\n",
    "    \n",
    "    return Q, path_xs, path_ys, total_energy, total_collisions\n",
    "\n"
   ]
  },
  {
   "cell_type": "code",
   "execution_count": 131,
   "metadata": {},
   "outputs": [
    {
     "name": "stderr",
     "output_type": "stream",
     "text": [
      "100%|███████████████████████████████████████████████████████████████████████████████| 50000/50000 [05:39<00:00, 147.34it/s]\n"
     ]
    }
   ],
   "source": [
    "level_4Q, level4_path_xs, level4_path_ys, te, total_collisions = level4_TD(enemies[2], 4, episodes=50000, epsilon=0)\n"
   ]
  },
  {
   "cell_type": "code",
   "execution_count": null,
   "metadata": {},
   "outputs": [],
   "source": [
    "plt.plot(total_collisions)\n",
    "plt.show()\n",
    "print(len(level4_path_xs), te, total_collisions[-1])"
   ]
  },
  {
   "cell_type": "code",
   "execution_count": 132,
   "metadata": {
    "scrolled": true
   },
   "outputs": [
    {
     "data": {
      "image/png": "[encoded data removed]",
      "text/plain": [
       "<Figure size 432x288 with 1 Axes>"
      ]
     },
     "metadata": {
      "needs_background": "light"
     },
     "output_type": "display_data"
    },
    {
     "data": {
      "image/png": "[encoded data removed]",
      "text/plain": [
       "<Figure size 432x288 with 1 Axes>"
      ]
     },
     "metadata": {
      "needs_background": "light"
     },
     "output_type": "display_data"
    },
    {
     "name": "stdout",
     "output_type": "stream",
     "text": [
      "140 355.68399766571906 1\n"
     ]
    }
   ],
   "source": [
    "for i in range(len(level4_path_xs)):\n",
    "    plt.imshow(maps[2], cmap=\"gray\")\n",
    "    plt.scatter(level4_path_xs[i], level4_path_ys[i])\n",
    "    plt.savefig(\"./plots/\" + str(i) + \".png\")\n",
    "    plt.close()\n",
    "    \n",
    "with imageio.get_writer('./plots/level4.gif', mode=\"I\") as writer:\n",
    "    for i in range(len(level4_path_xs)):\n",
    "        image = imageio.imread(\"./plots\" + str(i) + \".png\")\n",
    "        writer.append_data(image)\n",
    "        os.remove(\"./plots/\" + str(i) + \".png\")\n"
   ]
  },
  {
   "cell_type": "markdown",
   "metadata": {},
   "source": [
    "# Level 5\n",
    "\n",
    "Solve using both Q-learning tabularly and then solve using Function Approximation"
   ]
  },
  {
   "cell_type": "code",
   "execution_count": 69,
   "metadata": {},
   "outputs": [],
   "source": [
    "def get_local_features(x, y, r, level):\n",
    "    features = []\n",
    "    for dy in range(-r, r + 1):\n",
    "        for dx in range(-r, r + 1):\n",
    "            features.append(level[y+dy][x+dx])\n",
    "    return features"
   ]
  },
  {
   "cell_type": "code",
   "execution_count": 70,
   "metadata": {},
   "outputs": [],
   "source": [
    "def pad_level(l, r):\n",
    "    level = [[2 for _ in range(len(l[0]) + 2 * r)] for _ in range(len(l) + 2 * r)]\n",
    "    for y in range(len(l)):\n",
    "        for x in range(len(l[0])):\n",
    "            level[y + r][x + r] = l[y][x]\n",
    "    \n",
    "    return level\n"
   ]
  },
  {
   "cell_type": "markdown",
   "metadata": {},
   "source": [
    "Solution using action-value function"
   ]
  },
  {
   "cell_type": "code",
   "execution_count": 76,
   "metadata": {},
   "outputs": [],
   "source": [
    "# Sarsa for estimating Q approximately q\n",
    "def level5_TD(radius, level=maps[3], episodes=20000, alpha=0.1, epsilon=0.1, max_steps=100000):\n",
    "    Q = {} # local feature window\n",
    "    \n",
    "    path_xs = []\n",
    "    path_ys = []\n",
    "    best_energy = float(\"inf\")\n",
    "    final_energy = 0\n",
    "    \n",
    "    level = pad_level(level, radius)\n",
    "    \n",
    "    for e in tqdm(range(episodes)):\n",
    "        x, y = (1 + radius, 30 + radius) # S\n",
    "        s = \"-\".join(str(_) for _ in get_local_features(x, y, radius, level))\n",
    "        if not s in Q:\n",
    "            Q[s] = [0.0, 0.0, 0.0]\n",
    "            \n",
    "        a = select_dictionary_action(Q, s, epsilon) # A\n",
    "        \n",
    "        # for trajectory plotting\n",
    "        xs = []\n",
    "        ys = []\n",
    "        current_energy = 0\n",
    "        \n",
    "        # time steps\n",
    "        for _ in range(max_steps):\n",
    "            xs.append(x)\n",
    "            ys.append(y)\n",
    "            R = 0    \n",
    "            \n",
    "            # Observe R, S'. S' described as = n+value (for new)\n",
    "            (nx, ny), energy = level5_next_state(x, y, a, level)\n",
    "            ns = \"-\".join(str(_) for _ in get_local_features(nx, ny, radius, level))\n",
    "            if not ns in Q:\n",
    "                Q[ns] = [0.0, 0.0, 0.0]\n",
    "            \n",
    "            # are we in the terminal state?\n",
    "            if nx == 30 + radius and ny == 1 + radius:\n",
    "                xs.append(nx)\n",
    "                ys.append(ny)\n",
    "                # Only update when completed!\n",
    "                Q[s][a] = Q[s][a] + alpha * (R + Q[ns][na] - Q[s][a])\n",
    "                break\n",
    "            \n",
    "            R = energy\n",
    "            \n",
    "            # Choose action A'    \n",
    "            na = select_dictionary_action(Q, ns, epsilon)\n",
    "            \n",
    "            # Update X, S and A\n",
    "            Q[s][a] = Q[s][a] + alpha * (R + Q[ns][na] - Q[s][a])\n",
    "            x, y, s, a = (nx, ny, ns, na)\n",
    "            current_energy -= R\n",
    "            \n",
    "        path_xs = xs\n",
    "        path_ys = ys\n",
    "        final_energy = current_energy\n",
    "    \n",
    "    return Q, path_xs, path_ys, final_energy\n",
    "\n"
   ]
  },
  {
   "cell_type": "code",
   "execution_count": 77,
   "metadata": {
    "scrolled": true
   },
   "outputs": [
    {
     "name": "stderr",
     "output_type": "stream",
     "text": [
      "100%|███████████████████████████████████████████████████████████████████████████████| 20000/20000 [00:46<00:00, 428.66it/s]\n"
     ]
    }
   ],
   "source": [
    "l5Q_td, l5_path_xs_td, l5_path_ys, l5td_te = level5_TD(4, epsilon=0)\n"
   ]
  },
  {
   "cell_type": "code",
   "execution_count": 75,
   "metadata": {},
   "outputs": [
    {
     "data": {
      "image/png": "[encoded data removed]",
      "text/plain": [
       "<Figure size 432x288 with 1 Axes>"
      ]
     },
     "metadata": {
      "needs_background": "light"
     },
     "output_type": "display_data"
    },
    {
     "data": {
      "image/png": "[encoded data removed]",
      "text/plain": [
       "<Figure size 432x288 with 1 Axes>"
      ]
     },
     "metadata": {
      "needs_background": "light"
     },
     "output_type": "display_data"
    },
    {
     "name": "stdout",
     "output_type": "stream",
     "text": [
      "79 162\n"
     ]
    }
   ],
   "source": [
    "for i in range(len(level5_path_xs_tf)):\n",
    "    plt.imshow(maps[3], cmap=\"gray\")\n",
    "    plt.scatter(level5_path_xs[i], level5_path_xs_td[i])\n",
    "    plt.savefig(\"./plots/\" + str(i) + \".png\")\n",
    "    plt.close()\n",
    "    \n",
    "with imageio.get_writer('./plots/level5.gif', mode=\"I\") as writer:\n",
    "    for i in range(len(level5_path_xs)):\n",
    "        image = imageio.imread(\"./plots\" + str(i) + \".png\")\n",
    "        writer.append_data(image)\n",
    "        os.remove(\"./plots/\" + str(i) + \".png\")"
   ]
  },
  {
   "cell_type": "markdown",
   "metadata": {},
   "source": [
    "Solution using PyTorch and function approximation"
   ]
  },
  {
   "cell_type": "code",
   "execution_count": 19,
   "metadata": {},
   "outputs": [],
   "source": [
    "class Policy(nn.Module):\n",
    "    \"\"\"PyTorch solution for policy gradient,\n",
    "    input \"\"\"\n",
    "    def __init__(self, local_window=9):\n",
    "        super().__init__()\n",
    "        \n",
    "        self.fc1 = nn.Linear(local_window**2 + 1, 32)\n",
    "        self.fc2 = nn.Linear(32, 3)\n",
    "        self.softmax = nn.Softmax(dim=0)\n",
    "    \n",
    "    def forward(self, x):\n",
    "        out = torch.relu(self.fc1(x))\n",
    "        out = self.softmax(self.fc2(out))\n",
    "        return out\n"
   ]
  },
  {
   "cell_type": "code",
   "execution_count": 20,
   "metadata": {},
   "outputs": [],
   "source": [
    "def select_policy_action(policy, s, epsilon=0.1):\n",
    "    s_tensor = torch.tensor(s).type(torch.FloatTensor)\n",
    "    a_value = policy(s_tensor)\n",
    "    a = torch.argmax(a_value)\n",
    "    # explorative move\n",
    "    if random.random() < epsilon:\n",
    "        return random.randrange(0, 3), a_value\n",
    "    # exploitative move\n",
    "    return a, a_value"
   ]
  },
  {
   "cell_type": "code",
   "execution_count": 116,
   "metadata": {},
   "outputs": [],
   "source": [
    "# Semi-gradient Sarsa with function approximation using neural network\n",
    "def level5_func_approx(radius, episodes=20000, gamma=0.99, epsilon=0.01, max_steps=100000):\n",
    "    \n",
    "    policy = Policy(radius * 2 + 1)\n",
    "    optimizer = optim.Adam(policy.parameters(), lr=0.001)\n",
    "    gamma = 1.0\n",
    "    \n",
    "    path_xs = []\n",
    "    path_ys = []\n",
    "    total_energy = 0\n",
    "    \n",
    "    # fix to be parameter\n",
    "    level = pad_level(maps[3], radius)\n",
    "    \n",
    "    for e in tqdm(range(episodes)):\n",
    "        x, y = (1 + radius, 30 + radius) # S\n",
    "        s = get_local_features(x, y, radius, level) + [0]\n",
    "        \n",
    "        # select action from policy\n",
    "        a, a_v = select_policy_action(policy, s, epsilon)\n",
    "        \n",
    "        # for trajectory plotting\n",
    "        xs = []\n",
    "        ys = []\n",
    "        current_energy = 0\n",
    "        \n",
    "        # time steps\n",
    "        for _ in range(max_steps):\n",
    "            xs.append(x)\n",
    "            ys.append(y)\n",
    "            \n",
    "            # Observe R, S'. S' described as = n+value (for new)\n",
    "            (nx, ny), R = level5_next_state(x, y, a, level)\n",
    "            \n",
    "            # are we in the terminal state?\n",
    "            if nx == 30 + radius and ny == 1 + radius:\n",
    "                xs.append(nx)\n",
    "                ys.append(ny)\n",
    "                # Only update when completed!\n",
    "                final_loss = torch.tensor(-(R - a_v[a]), requires_grad=True)\n",
    "                final_loss.backward()\n",
    "                optimizer.step()\n",
    "                optimizer.zero_grad()\n",
    "                break\n",
    "            \n",
    "            # Choose action A' as a function of  q(S', *, w)\n",
    "            ns = get_local_features(nx, ny, radius, level) + [a]\n",
    "            na, na_v = select_policy_action(policy, ns, epsilon)\n",
    "            \n",
    "            # Update X, S and A\n",
    "            loss = -(R + gamma * na_v[na] - a_v[a])\n",
    "            loss.backward()\n",
    "            optimizer.step()\n",
    "            optimizer.zero_grad()\n",
    "            x, y, s, a, a_v = (nx, ny, ns, na, na_v.detach())\n",
    "            current_energy -= R\n",
    "            \n",
    "        path_xs = xs\n",
    "        path_ys = ys\n",
    "        total_energy = current_energy\n",
    "        \n",
    "        if e % 20 == 0:\n",
    "            plt.imshow(level, cmap=\"gray\")\n",
    "            plt.plot(path_xs, path_ys)\n",
    "            plt.show()\n",
    "    \n",
    "    return path_xs, path_ys, total_energy\n",
    "\n"
   ]
  },
  {
   "cell_type": "code",
   "execution_count": null,
   "metadata": {},
   "outputs": [],
   "source": [
    "level5_path_xs, level5_path_ys, level5_te = level5_func_approx(4, episodes=200, epsilon=0.1)\n"
   ]
  },
  {
   "cell_type": "markdown",
   "metadata": {},
   "source": [
    "# Level 6"
   ]
  },
  {
   "cell_type": "code",
   "execution_count": 64,
   "metadata": {
    "scrolled": true
   },
   "outputs": [
    {
     "data": {
      "image/png": "[encoded data removed]",
      "text/plain": [
       "<Figure size 432x288 with 1 Axes>"
      ]
     },
     "metadata": {
      "needs_background": "light"
     },
     "output_type": "display_data"
    }
   ],
   "source": [
    "def create_custom_map(x, y):\n",
    "    custom_map = [[2] + [1 for _ in range(x-2)] + [2] for _ in range(y)]\n",
    "    custom_map[0] = [2 for _ in range(x)]\n",
    "    custom_map[31] = [2 for _ in range(x)]\n",
    "    for i in range(1, 31):\n",
    "        for j in range(1, 31):\n",
    "            custom_map[i][j] = np.random.choice([1, 1, 1, 1, 1, 1, 2, 3])\n",
    "    custom_map[y-2][x//2] = 1\n",
    "    return custom_map\n",
    "\n",
    "plt.imshow(create_custom_map(32, 32), cmap=\"gray\")\n",
    "plt.show()"
   ]
  },
  {
   "cell_type": "code",
   "execution_count": 21,
   "metadata": {},
   "outputs": [],
   "source": [
    "class Sarsa_Policy(nn.Module):\n",
    "    \"\"\"PyTorch solution for function approximation,\n",
    "    input \"\"\"\n",
    "    def __init__(self, local_window=9):\n",
    "        super().__init__()\n",
    "        \n",
    "        self.fc1 = nn.Linear(local_window**2 + 1, 32)\n",
    "        self.fc2 = nn.Linear(32, 3)\n",
    "        \n",
    "    def forward(self, x):\n",
    "        out = torch.relu(self.fc1(x))\n",
    "        out = self.fc2(out)\n",
    "        return out\n"
   ]
  },
  {
   "cell_type": "code",
   "execution_count": 67,
   "metadata": {},
   "outputs": [],
   "source": [
    "#Semi-gradient Sarsa with function approximation using neural network\n",
    "def level6_sarsa(enemies, radius, level, n=1, e0=0, dE=0, episodes=5000, gamma=0.99, epsilon=0.05):\n",
    "    \n",
    "    policy = Sarsa_Policy(radius * 2 + 1)\n",
    "    optimizer = optim.Adam(policy.parameters(), lr=0.0001)\n",
    "    \n",
    "    path_xs = []\n",
    "    path_ys = []\n",
    "    y_peak_total = len(level)+radius\n",
    "    \n",
    "    # fix to be parameter\n",
    "    level = pad_level(level, radius)\n",
    "    \n",
    "    for e in tqdm(range(episodes)):\n",
    "        stored_A = {}\n",
    "        stored_R = {}\n",
    "        stored_S = {}\n",
    "        stored_Q = {}\n",
    "        \n",
    "        x, y = (len(level[0]) // 2, len(level) - radius - 2) # S\n",
    "        s = get_local_features(x, y, radius, level) + [0] # last a => left\n",
    "        energy_budget = e0\n",
    "        y_peak = len(level)+radius\n",
    "        \n",
    "        # select action from policy\n",
    "        a, q = select_policy_action(policy, s, epsilon)\n",
    "        \n",
    "        stored_A[0] = a\n",
    "        stored_S[0] = s\n",
    "        stored_Q[0] = q\n",
    "        \n",
    "        # for trajectory plotting\n",
    "        xs = []\n",
    "        ys = []\n",
    "        \n",
    "        # Reward Shaping\n",
    "        last_pos = [(x, y)] # exploration\n",
    "        last_5_ys = [y for _ in range(5)]\n",
    "        \n",
    "        t = -1\n",
    "        T = sys.maxsize\n",
    "        tau = 0\n",
    "        while tau < (T - 1):\n",
    "            xs.append(x)\n",
    "            ys.append(y)\n",
    "            \n",
    "            t += 1\n",
    "            current = (t+1) % (n+1)\n",
    "            \n",
    "            if t < T:\n",
    "                # Observe R, S'. S' described as = n+value (for new)\n",
    "                R = 0\n",
    "                (nx, ny), energy = level5_next_state(x, y, a, level)\n",
    "                energy_budget += energy\n",
    "                R += energy\n",
    "            \n",
    "                # ways to hand out reward\n",
    "                if y < y_peak:\n",
    "                    y_peak = ny\n",
    "                    energy_budget += dE\n",
    "                    R += dE\n",
    "                    \n",
    "                if (nx, ny) not in last_pos:\n",
    "                    R += 3\n",
    "                    last_pos.append((nx, ny))\n",
    "                    \n",
    "                if ny > np.mean(last_5_ys):\n",
    "                    R += -10\n",
    "                    \n",
    "                last_5_ys.pop(0)\n",
    "                last_5_ys.append(ny)\n",
    "                    \n",
    "                stored_R[current] = R\n",
    "                stored_S[current] = (x, y)\n",
    "                \n",
    "                # are we in the terminal state?\n",
    "                if energy_budget < 0:\n",
    "                    T = t + 1\n",
    "                else:\n",
    "                    # Choose action A' as a function of  q(S', w)\n",
    "                    ns = get_local_features(nx, ny, radius, level) + [a]\n",
    "                    na, nq = select_policy_action(policy, ns, epsilon)\n",
    "                    stored_S[current] = ns\n",
    "                    stored_A[current] = na\n",
    "                    stored_Q[current] = nq.detach()\n",
    "\n",
    "            tau = t - n + 1\n",
    "            if tau >= 0:\n",
    "                G = np.sum([stored_R[i%(n+1)] for i in range(tau+1, min(tau+n, T))])\n",
    "                \n",
    "                if tau + n < T:\n",
    "                    G += stored_Q[tau % (n+1)][stored_A[tau % (n+1)]]\n",
    "                    \n",
    "                loss = -(G - gamma * stored_Q[tau % (n+1)][stored_A[tau % (n+1)]].clone().detach().requires_grad_(True))\n",
    "                loss.backward()\n",
    "                optimizer.step()\n",
    "                optimizer.zero_grad()\n",
    "                \n",
    "            x, y, a = (nx, ny, na)\n",
    "                \n",
    "            \n",
    "        path_xs = xs\n",
    "        path_ys = ys\n",
    "        \n",
    "        if y_peak - radius < y_peak_total:\n",
    "            y_peak_total = y_peak - radius\n",
    "            plt.imshow(level, cmap=\"gray\")\n",
    "            plt.plot(path_xs, path_ys)\n",
    "            plt.show()\n",
    "        \n",
    "        if e % 400 == 0:\n",
    "            plt.imshow(level, cmap=\"gray\")\n",
    "            plt.plot(path_xs, path_ys)\n",
    "            plt.show()\n",
    "    \n",
    "    return policy, y_peak_total, path_xs, path_ys\n"
   ]
  },
  {
   "cell_type": "code",
   "execution_count": 138,
   "metadata": {
    "scrolled": false
   },
   "outputs": [
    {
     "name": "stderr",
     "output_type": "stream",
     "text": [
      "\r",
      "  0%|                                                                                             | 0/2000 [00:00<?, ?it/s]"
     ]
    },
    {
     "data": {
      "image/png": "[encoded data removed]",
      "text/plain": [
       "<Figure size 432x288 with 1 Axes>"
      ]
     },
     "metadata": {
      "needs_background": "light"
     },
     "output_type": "display_data"
    },
    {
     "data": {
      "image/png": "[encoded data removed]",
      "text/plain": [
       "<Figure size 432x288 with 1 Axes>"
      ]
     },
     "metadata": {
      "needs_background": "light"
     },
     "output_type": "display_data"
    },
    {
     "name": "stderr",
     "output_type": "stream",
     "text": [
      "  0%|▏                                                                                    | 3/2000 [00:00<04:34,  7.28it/s]"
     ]
    },
    {
     "data": {
      "image/png": "[encoded data removed]",
      "text/plain": [
       "<Figure size 432x288 with 1 Axes>"
      ]
     },
     "metadata": {
      "needs_background": "light"
     },
     "output_type": "display_data"
    },
    {
     "name": "stderr",
     "output_type": "stream",
     "text": [
      " 20%|████████████████▌                                                                  | 399/2000 [00:35<02:27, 10.84it/s]"
     ]
    },
    {
     "data": {
      "image/png": "[encoded data removed]",
      "text/plain": [
       "<Figure size 432x288 with 1 Axes>"
      ]
     },
     "metadata": {
      "needs_background": "light"
     },
     "output_type": "display_data"
    },
    {
     "name": "stderr",
     "output_type": "stream",
     "text": [
      " 34%|████████████████████████████▎                                                      | 681/2000 [01:01<01:55, 11.43it/s]"
     ]
    },
    {
     "data": {
      "image/png": "[encoded data removed]",
      "text/plain": [
       "<Figure size 432x288 with 1 Axes>"
      ]
     },
     "metadata": {
      "needs_background": "light"
     },
     "output_type": "display_data"
    },
    {
     "name": "stderr",
     "output_type": "stream",
     "text": [
      " 40%|█████████████████████████████████▏                                                 | 799/2000 [01:12<01:53, 10.63it/s]"
     ]
    },
    {
     "data": {
      "image/png": "[encoded data removed]",
      "text/plain": [
       "<Figure size 432x288 with 1 Axes>"
      ]
     },
     "metadata": {
      "needs_background": "light"
     },
     "output_type": "display_data"
    },
    {
     "name": "stderr",
     "output_type": "stream",
     "text": [
      " 60%|█████████████████████████████████████████████████▏                                | 1199/2000 [01:48<01:12, 11.04it/s]"
     ]
    },
    {
     "data": {
      "image/png": "[encoded data removed]",
      "text/plain": [
       "<Figure size 432x288 with 1 Axes>"
      ]
     },
     "metadata": {
      "needs_background": "light"
     },
     "output_type": "display_data"
    },
    {
     "name": "stderr",
     "output_type": "stream",
     "text": [
      " 80%|█████████████████████████████████████████████████████████████████▌                | 1599/2000 [02:25<00:38, 10.42it/s]"
     ]
    },
    {
     "data": {
      "image/png": "[encoded data removed]",
      "text/plain": [
       "<Figure size 432x288 with 1 Axes>"
      ]
     },
     "metadata": {
      "needs_background": "light"
     },
     "output_type": "display_data"
    },
    {
     "name": "stderr",
     "output_type": "stream",
     "text": [
      "100%|██████████████████████████████████████████████████████████████████████████████████| 2000/2000 [03:02<00:00, 10.95it/s]"
     ]
    },
    {
     "name": "stdout",
     "output_type": "stream",
     "text": [
      "23 0\n"
     ]
    },
    {
     "name": "stderr",
     "output_type": "stream",
     "text": [
      "\n"
     ]
    }
   ],
   "source": [
    "slevel6_policy, slevel_6_peak, speaks, slevel6_path_xs, slevel6_path_ys = level6_sarsa(None, 4, create_custom_map(32, 32), 5, e0=400, dE=50, episodes=2000)\n",
    "print(slevel_6_peak, speaks)\n"
   ]
  },
  {
   "cell_type": "code",
   "execution_count": null,
   "metadata": {},
   "outputs": [],
   "source": [
    "# Semi-gradient Sarsa with function approximation using neural network\n",
    "def step1_level6(enemies, radius, level, e0=0, dE=0, episodes=2000, gamma=0.99, epsilon=0.05):\n",
    "    \n",
    "    policy = Sarsa_Policy(radius * 2 + 1)        \n",
    "    \n",
    "    optimizer = optim.Adam(policy.parameters(), lr=0.001)\n",
    "    gamma = 1.0\n",
    "    \n",
    "    path_xs = []\n",
    "    path_ys = []\n",
    "    y_peak_total = len(level)+radius\n",
    "    \n",
    "    # fix to be parameter\n",
    "    level = pad_level(level, radius)\n",
    "    \n",
    "    for e in tqdm(range(episodes)):\n",
    "        x, y = (len(level[0]) // 2, len(level) - radius - 2) # S\n",
    "        s = get_local_features(x, y, radius, level) + [0]\n",
    "        energy_budget = e0\n",
    "        y_peak = len(level)+radius\n",
    "        \n",
    "        # select action from policy\n",
    "        a, value_a = select_policy_action(policy, s, epsilon)\n",
    "        \n",
    "        # for trajectory plotting\n",
    "        xs = []\n",
    "        ys = []\n",
    "        \n",
    "        # testing for different rewards\n",
    "        last_pos = [(x, y)]\n",
    "        last_ys = [len(level) for _ in range(5)]\n",
    "        \n",
    "        while True:\n",
    "            xs.append(x)\n",
    "            ys.append(y)\n",
    "            \n",
    "            # Observe R, S'. S' described as = n+value (for new)\n",
    "            (nx, ny), energy = level5_next_state(x, y, a, level)\n",
    "            energy_budget += energy\n",
    "            R = energy\n",
    "            \n",
    "            # ways to hand out reward\n",
    "            if ny < y_peak:\n",
    "                y_peak = ny\n",
    "                energy_budget += dE\n",
    "                R += dE\n",
    "            \n",
    "            # Rewards exploration\n",
    "            if (nx, ny) not in last_pos:\n",
    "                last_pos.append((nx, ny))\n",
    "                R += 3\n",
    "                \n",
    "            if ny > np.mean(last_ys):\n",
    "                R += -5\n",
    "            \n",
    "            last_ys.pop(0)\n",
    "            last_ys.append(ny)\n",
    "                \n",
    "            # are we in the terminal state?\n",
    "            if energy_budget < 0:\n",
    "                xs.append(nx)\n",
    "                ys.append(ny)\n",
    "                # Only update when completed!\n",
    "                final_loss = -(R - value_a[a].clone().detach().requires_grad_(True))\n",
    "                final_loss.backward()\n",
    "                optimizer.step()\n",
    "                optimizer.zero_grad()\n",
    "                break\n",
    "            \n",
    "            # Choose action A' as a function of  q(S', w)\n",
    "            ns = get_local_features(nx, ny, radius, level) + [a]\n",
    "            na, value_na = select_policy_action(policy, ns, epsilon)\n",
    "            \n",
    "            # Update X, S and A\n",
    "            loss = -(R + gamma * value_na[na] - value_a[a])\n",
    "            loss.backward()\n",
    "            optimizer.step()\n",
    "            optimizer.zero_grad()\n",
    "            x, y, s, a, value_a = (nx, ny, ns, na, value_na.detach())\n",
    "            \n",
    "            \n",
    "        path_xs = xs\n",
    "        path_ys = ys\n",
    "        \n",
    "        if y_peak - radius < y_peak_total:\n",
    "            y_peak_total = y_peak - radius\n",
    "            plt.imshow(level, cmap=\"gray\")\n",
    "            plt.plot(path_xs, path_ys)\n",
    "            plt.show()\n",
    "        \n",
    "        if e % 400 == 0:\n",
    "            plt.imshow(level, cmap=\"gray\")\n",
    "            plt.plot(path_xs, path_ys)\n",
    "            plt.show()\n",
    "\n",
    "            \n",
    "    return policy, y_peak_total, path_xs, path_ys"
   ]
  },
  {
   "cell_type": "code",
   "execution_count": 66,
   "metadata": {},
   "outputs": [
    {
     "name": "stderr",
     "output_type": "stream",
     "text": [
      "\r",
      "  0%|                                                                                            | 0/10000 [00:00<?, ?it/s]"
     ]
    },
    {
     "data": {
      "image/png": "[encoded data removed]",
      "text/plain": [
       "<Figure size 432x288 with 1 Axes>"
      ]
     },
     "metadata": {
      "needs_background": "light"
     },
     "output_type": "display_data"
    },
    {
     "data": {
      "image/png": "[encoded data removed]",
      "text/plain": [
       "<Figure size 432x288 with 1 Axes>"
      ]
     },
     "metadata": {
      "needs_background": "light"
     },
     "output_type": "display_data"
    },
    {
     "name": "stderr",
     "output_type": "stream",
     "text": [
      "  0%|▏                                                                                  | 19/10000 [00:00<02:32, 65.29it/s]"
     ]
    },
    {
     "data": {
      "image/png": "[encoded data removed]",
      "text/plain": [
       "<Figure size 432x288 with 1 Axes>"
      ]
     },
     "metadata": {
      "needs_background": "light"
     },
     "output_type": "display_data"
    },
    {
     "name": "stderr",
     "output_type": "stream",
     "text": [
      "  4%|███▏                                                                              | 396/10000 [00:04<01:40, 95.46it/s]"
     ]
    },
    {
     "data": {
      "image/png": "[encoded data removed]",
      "text/plain": [
       "<Figure size 432x288 with 1 Axes>"
      ]
     },
     "metadata": {
      "needs_background": "light"
     },
     "output_type": "display_data"
    },
    {
     "name": "stderr",
     "output_type": "stream",
     "text": [
      "  8%|██████▏                                                                           | 751/10000 [00:08<01:41, 91.35it/s]"
     ]
    },
    {
     "data": {
      "image/png": "[encoded data removed]",
      "text/plain": [
       "<Figure size 432x288 with 1 Axes>"
      ]
     },
     "metadata": {
      "needs_background": "light"
     },
     "output_type": "display_data"
    },
    {
     "name": "stderr",
     "output_type": "stream",
     "text": [
      "  8%|██████▍                                                                           | 792/10000 [00:08<01:39, 92.89it/s]"
     ]
    },
    {
     "data": {
      "image/png": "[encoded data removed]",
      "text/plain": [
       "<Figure size 432x288 with 1 Axes>"
      ]
     },
     "metadata": {
      "needs_background": "light"
     },
     "output_type": "display_data"
    },
    {
     "name": "stderr",
     "output_type": "stream",
     "text": [
      " 12%|█████████▋                                                                       | 1196/10000 [00:13<01:31, 96.52it/s]"
     ]
    },
    {
     "data": {
      "image/png": "[encoded data removed]",
      "text/plain": [
       "<Figure size 432x288 with 1 Axes>"
      ]
     },
     "metadata": {
      "needs_background": "light"
     },
     "output_type": "display_data"
    },
    {
     "name": "stderr",
     "output_type": "stream",
     "text": [
      " 13%|██████████▋                                                                      | 1317/10000 [00:14<01:32, 93.89it/s]"
     ]
    },
    {
     "data": {
      "image/png": "[encoded data removed]",
      "text/plain": [
       "<Figure size 432x288 with 1 Axes>"
      ]
     },
     "metadata": {
      "needs_background": "light"
     },
     "output_type": "display_data"
    },
    {
     "name": "stderr",
     "output_type": "stream",
     "text": [
      " 16%|████████████▉                                                                    | 1594/10000 [00:17<01:29, 94.31it/s]"
     ]
    },
    {
     "data": {
      "image/png": "[encoded data removed]",
      "text/plain": [
       "<Figure size 432x288 with 1 Axes>"
      ]
     },
     "metadata": {
      "needs_background": "light"
     },
     "output_type": "display_data"
    },
    {
     "name": "stderr",
     "output_type": "stream",
     "text": [
      " 20%|████████████████▏                                                                | 1996/10000 [00:21<01:26, 92.02it/s]"
     ]
    },
    {
     "data": {
      "image/png": "[encoded data removed]",
      "text/plain": [
       "<Figure size 432x288 with 1 Axes>"
      ]
     },
     "metadata": {
      "needs_background": "light"
     },
     "output_type": "display_data"
    },
    {
     "name": "stderr",
     "output_type": "stream",
     "text": [
      " 24%|███████████████████▍                                                             | 2398/10000 [00:26<01:19, 95.83it/s]"
     ]
    },
    {
     "data": {
      "image/png": "[encoded data removed]",
      "text/plain": [
       "<Figure size 432x288 with 1 Axes>"
      ]
     },
     "metadata": {
      "needs_background": "light"
     },
     "output_type": "display_data"
    },
    {
     "name": "stderr",
     "output_type": "stream",
     "text": [
      " 28%|██████████████████████▋                                                          | 2795/10000 [00:30<01:16, 94.12it/s]"
     ]
    },
    {
     "data": {
      "image/png": "[encoded data removed]",
      "text/plain": [
       "<Figure size 432x288 with 1 Axes>"
      ]
     },
     "metadata": {
      "needs_background": "light"
     },
     "output_type": "display_data"
    },
    {
     "name": "stderr",
     "output_type": "stream",
     "text": [
      " 32%|█████████████████████████▊                                                       | 3193/10000 [00:34<01:11, 95.60it/s]"
     ]
    },
    {
     "data": {
      "image/png": "[encoded data removed]",
      "text/plain": [
       "<Figure size 432x288 with 1 Axes>"
      ]
     },
     "metadata": {
      "needs_background": "light"
     },
     "output_type": "display_data"
    },
    {
     "name": "stderr",
     "output_type": "stream",
     "text": [
      " 36%|█████████████████████████████▏                                                   | 3598/10000 [00:39<01:05, 97.98it/s]"
     ]
    },
    {
     "data": {
      "image/png": "[encoded data removed]",
      "text/plain": [
       "<Figure size 432x288 with 1 Axes>"
      ]
     },
     "metadata": {
      "needs_background": "light"
     },
     "output_type": "display_data"
    },
    {
     "name": "stderr",
     "output_type": "stream",
     "text": [
      " 40%|████████████████████████████████▍                                                | 4000/10000 [00:43<01:03, 94.49it/s]"
     ]
    },
    {
     "data": {
      "image/png": "[encoded data removed]",
      "text/plain": [
       "<Figure size 432x288 with 1 Axes>"
      ]
     },
     "metadata": {
      "needs_background": "light"
     },
     "output_type": "display_data"
    },
    {
     "name": "stderr",
     "output_type": "stream",
     "text": [
      " 44%|███████████████████████████████████▌                                             | 4397/10000 [00:47<01:01, 91.43it/s]"
     ]
    },
    {
     "data": {
      "image/png": "[encoded data removed]",
      "text/plain": [
       "<Figure size 432x288 with 1 Axes>"
      ]
     },
     "metadata": {
      "needs_background": "light"
     },
     "output_type": "display_data"
    },
    {
     "name": "stderr",
     "output_type": "stream",
     "text": [
      " 45%|████████████████████████████████████▌                                            | 4519/10000 [00:49<00:59, 92.18it/s]\n"
     ]
    },
    {
     "ename": "KeyboardInterrupt",
     "evalue": "",
     "output_type": "error",
     "traceback": [
      "\u001b[0;31m---------------------------------------------------------------------------\u001b[0m",
      "\u001b[0;31mKeyboardInterrupt\u001b[0m                         Traceback (most recent call last)",
      "Input \u001b[0;32mIn [66]\u001b[0m, in \u001b[0;36m<cell line: 1>\u001b[0;34m()\u001b[0m\n\u001b[0;32m----> 1\u001b[0m slevel6_policy, slevel_6_peak, slevel6_path_xs, slevel6_path_ys \u001b[38;5;241m=\u001b[39m \u001b[43mlevel6_sarsa\u001b[49m\u001b[43m(\u001b[49m\u001b[38;5;28;43;01mNone\u001b[39;49;00m\u001b[43m,\u001b[49m\u001b[43m \u001b[49m\u001b[38;5;241;43m4\u001b[39;49m\u001b[43m,\u001b[49m\u001b[43m \u001b[49m\u001b[43mcreate_custom_map\u001b[49m\u001b[43m(\u001b[49m\u001b[38;5;241;43m32\u001b[39;49m\u001b[43m,\u001b[49m\u001b[43m \u001b[49m\u001b[38;5;241;43m32\u001b[39;49m\u001b[43m)\u001b[49m\u001b[43m,\u001b[49m\u001b[43m \u001b[49m\u001b[43me0\u001b[49m\u001b[38;5;241;43m=\u001b[39;49m\u001b[38;5;241;43m40\u001b[39;49m\u001b[43m,\u001b[49m\u001b[43m \u001b[49m\u001b[43mdE\u001b[49m\u001b[38;5;241;43m=\u001b[39;49m\u001b[38;5;241;43m15\u001b[39;49m\u001b[43m,\u001b[49m\u001b[43m \u001b[49m\u001b[43mepisodes\u001b[49m\u001b[38;5;241;43m=\u001b[39;49m\u001b[38;5;241;43m10000\u001b[39;49m\u001b[43m)\u001b[49m\n\u001b[1;32m      2\u001b[0m \u001b[38;5;28mprint\u001b[39m(slevel_6_peak)\n",
      "Input \u001b[0;32mIn [61]\u001b[0m, in \u001b[0;36mlevel6_sarsa\u001b[0;34m(enemies, radius, level, n, e0, dE, episodes, gamma, epsilon)\u001b[0m\n\u001b[1;32m     93\u001b[0m     G \u001b[38;5;241m+\u001b[39m\u001b[38;5;241m=\u001b[39m stored_Q[tau \u001b[38;5;241m%\u001b[39m (n\u001b[38;5;241m+\u001b[39m\u001b[38;5;241m1\u001b[39m)][stored_A[tau \u001b[38;5;241m%\u001b[39m (n\u001b[38;5;241m+\u001b[39m\u001b[38;5;241m1\u001b[39m)]]\n\u001b[1;32m     95\u001b[0m loss \u001b[38;5;241m=\u001b[39m \u001b[38;5;241m-\u001b[39m(G \u001b[38;5;241m-\u001b[39m gamma \u001b[38;5;241m*\u001b[39m stored_Q[tau \u001b[38;5;241m%\u001b[39m (n\u001b[38;5;241m+\u001b[39m\u001b[38;5;241m1\u001b[39m)][stored_A[tau \u001b[38;5;241m%\u001b[39m (n\u001b[38;5;241m+\u001b[39m\u001b[38;5;241m1\u001b[39m)]]\u001b[38;5;241m.\u001b[39mclone()\u001b[38;5;241m.\u001b[39mdetach()\u001b[38;5;241m.\u001b[39mrequires_grad_(\u001b[38;5;28;01mTrue\u001b[39;00m))\n\u001b[0;32m---> 96\u001b[0m \u001b[43mloss\u001b[49m\u001b[38;5;241;43m.\u001b[39;49m\u001b[43mbackward\u001b[49m\u001b[43m(\u001b[49m\u001b[43m)\u001b[49m\n\u001b[1;32m     97\u001b[0m optimizer\u001b[38;5;241m.\u001b[39mstep()\n\u001b[1;32m     98\u001b[0m optimizer\u001b[38;5;241m.\u001b[39mzero_grad()\n",
      "File \u001b[0;32m~/miniforge3/lib/python3.9/site-packages/torch/_tensor.py:307\u001b[0m, in \u001b[0;36mTensor.backward\u001b[0;34m(self, gradient, retain_graph, create_graph, inputs)\u001b[0m\n\u001b[1;32m    298\u001b[0m \u001b[38;5;28;01mif\u001b[39;00m has_torch_function_unary(\u001b[38;5;28mself\u001b[39m):\n\u001b[1;32m    299\u001b[0m     \u001b[38;5;28;01mreturn\u001b[39;00m handle_torch_function(\n\u001b[1;32m    300\u001b[0m         Tensor\u001b[38;5;241m.\u001b[39mbackward,\n\u001b[1;32m    301\u001b[0m         (\u001b[38;5;28mself\u001b[39m,),\n\u001b[0;32m   (...)\u001b[0m\n\u001b[1;32m    305\u001b[0m         create_graph\u001b[38;5;241m=\u001b[39mcreate_graph,\n\u001b[1;32m    306\u001b[0m         inputs\u001b[38;5;241m=\u001b[39minputs)\n\u001b[0;32m--> 307\u001b[0m \u001b[43mtorch\u001b[49m\u001b[38;5;241;43m.\u001b[39;49m\u001b[43mautograd\u001b[49m\u001b[38;5;241;43m.\u001b[39;49m\u001b[43mbackward\u001b[49m\u001b[43m(\u001b[49m\u001b[38;5;28;43mself\u001b[39;49m\u001b[43m,\u001b[49m\u001b[43m \u001b[49m\u001b[43mgradient\u001b[49m\u001b[43m,\u001b[49m\u001b[43m \u001b[49m\u001b[43mretain_graph\u001b[49m\u001b[43m,\u001b[49m\u001b[43m \u001b[49m\u001b[43mcreate_graph\u001b[49m\u001b[43m,\u001b[49m\u001b[43m \u001b[49m\u001b[43minputs\u001b[49m\u001b[38;5;241;43m=\u001b[39;49m\u001b[43minputs\u001b[49m\u001b[43m)\u001b[49m\n",
      "File \u001b[0;32m~/miniforge3/lib/python3.9/site-packages/torch/autograd/__init__.py:145\u001b[0m, in \u001b[0;36mbackward\u001b[0;34m(tensors, grad_tensors, retain_graph, create_graph, grad_variables, inputs)\u001b[0m\n\u001b[1;32m    142\u001b[0m \u001b[38;5;28;01mif\u001b[39;00m inputs \u001b[38;5;129;01mis\u001b[39;00m \u001b[38;5;129;01mnot\u001b[39;00m \u001b[38;5;28;01mNone\u001b[39;00m \u001b[38;5;129;01mand\u001b[39;00m \u001b[38;5;28mlen\u001b[39m(inputs) \u001b[38;5;241m==\u001b[39m \u001b[38;5;241m0\u001b[39m:\n\u001b[1;32m    143\u001b[0m     \u001b[38;5;28;01mraise\u001b[39;00m \u001b[38;5;167;01mRuntimeError\u001b[39;00m(\u001b[38;5;124m\"\u001b[39m\u001b[38;5;124m'\u001b[39m\u001b[38;5;124minputs\u001b[39m\u001b[38;5;124m'\u001b[39m\u001b[38;5;124m argument to backward() cannot be empty.\u001b[39m\u001b[38;5;124m\"\u001b[39m)\n\u001b[0;32m--> 145\u001b[0m tensors \u001b[38;5;241m=\u001b[39m (tensors,) \u001b[38;5;28;01mif\u001b[39;00m \u001b[38;5;28misinstance\u001b[39m(tensors, \u001b[43mtorch\u001b[49m\u001b[38;5;241m.\u001b[39mTensor) \u001b[38;5;28;01melse\u001b[39;00m \u001b[38;5;28mtuple\u001b[39m(tensors)\n\u001b[1;32m    146\u001b[0m inputs \u001b[38;5;241m=\u001b[39m (inputs,) \u001b[38;5;28;01mif\u001b[39;00m \u001b[38;5;28misinstance\u001b[39m(inputs, torch\u001b[38;5;241m.\u001b[39mTensor) \u001b[38;5;28;01melse\u001b[39;00m \\\n\u001b[1;32m    147\u001b[0m     \u001b[38;5;28mtuple\u001b[39m(inputs) \u001b[38;5;28;01mif\u001b[39;00m inputs \u001b[38;5;129;01mis\u001b[39;00m \u001b[38;5;129;01mnot\u001b[39;00m \u001b[38;5;28;01mNone\u001b[39;00m \u001b[38;5;28;01melse\u001b[39;00m \u001b[38;5;28mtuple\u001b[39m()\n\u001b[1;32m    149\u001b[0m grad_tensors_ \u001b[38;5;241m=\u001b[39m _tensor_or_tensors_to_tuple(grad_tensors, \u001b[38;5;28mlen\u001b[39m(tensors))\n",
      "\u001b[0;31mKeyboardInterrupt\u001b[0m: "
     ]
    }
   ],
   "source": [
    "slevel6_policy, slevel_6_peak, slevel6_path_xs, slevel6_path_ys = level6_sarsa(None, 4, create_custom_map(32, 32), e0=40, dE=15, episodes=10000)\n",
    "print(slevel_6_peak)\n"
   ]
  },
  {
   "cell_type": "code",
   "execution_count": null,
   "metadata": {},
   "outputs": [],
   "source": []
  }
 ],
 "metadata": {
  "kernelspec": {
   "display_name": "Python 3",
   "language": "python",
   "name": "python3"
  },
  "language_info": {
   "codemirror_mode": {
    "name": "ipython",
    "version": 3
   },
   "file_extension": ".py",
   "mimetype": "text/x-python",
   "name": "python",
   "nbconvert_exporter": "python",
   "pygments_lexer": "ipython3",
   "version": "3.8.2"
  }
 },
 "nbformat": 4,
 "nbformat_minor": 5
}
